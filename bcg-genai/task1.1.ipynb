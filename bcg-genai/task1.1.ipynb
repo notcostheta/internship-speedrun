{
 "cells": [
  {
   "cell_type": "code",
   "execution_count": 4,
   "metadata": {},
   "outputs": [],
   "source": [
    "# Load json data from a file and print it to the console\n",
    "import json\n",
    "msft = json.load(open('jsons/msft_10k_3.json'))\n",
    "aaple = json.load(open('jsons/aapl_10k_3.json'))\n",
    "tsla = json.load(open('jsons/tesla_10k_3.json'))"
   ]
  },
  {
   "cell_type": "code",
   "execution_count": 5,
   "metadata": {},
   "outputs": [],
   "source": [
    "# Setting up the environment\n",
    "# Importing the api key from the config env using python-dotenv\n",
    "from dotenv import load_dotenv\n",
    "import os\n",
    "load_dotenv(\"../config.env\")\n",
    "API_KEY = os.getenv(\"SEC_API_KEY\")\n",
    "from sec_api import QueryApi\n",
    "from datetime import datetime, timedelta\n",
    "queryApi = QueryApi(api_key=API_KEY)"
   ]
  },
  {
   "cell_type": "code",
   "execution_count": null,
   "metadata": {},
   "outputs": [],
   "source": []
  }
 ],
 "metadata": {
  "kernelspec": {
   "display_name": ".venv",
   "language": "python",
   "name": "python3"
  },
  "language_info": {
   "codemirror_mode": {
    "name": "ipython",
    "version": 3
   },
   "file_extension": ".py",
   "mimetype": "text/x-python",
   "name": "python",
   "nbconvert_exporter": "python",
   "pygments_lexer": "ipython3",
   "version": "3.12.0"
  }
 },
 "nbformat": 4,
 "nbformat_minor": 2
}
