{
 "cells": [
  {
   "cell_type": "markdown",
   "metadata": {},
   "source": [
    "# Task 1 - Extraction of Financial Data\n",
    "Extracting key financial data for the last three fiscal years from the 10-K filings of Microsoft, Tesla, and Apple\n",
    "This can be done easily by using sec-api."
   ]
  },
  {
   "cell_type": "code",
   "execution_count": 18,
   "metadata": {},
   "outputs": [],
   "source": [
    "# Setting up the environment\n",
    "\n",
    "# Importing the api key from the config env using python-dotenv\n",
    "from dotenv import load_dotenv\n",
    "import os\n",
    "load_dotenv(\"./config.env\")\n",
    "API_KEY = os.getenv(\"SEC_API_KEY\")"
   ]
  },
  {
   "cell_type": "code",
   "execution_count": 28,
   "metadata": {},
   "outputs": [],
   "source": [
    "from sec_api import QueryApi\n",
    "from datetime import datetime, timedelta\n",
    "queryApi = QueryApi(api_key=API_KEY)"
   ]
  },
  {
   "cell_type": "code",
   "execution_count": 29,
   "metadata": {},
   "outputs": [],
   "source": [
    "query = {\n",
    "  \"query\": { \"query_string\": { \n",
    "      \"query\": \"formType:\\\"10-K\\\" AND ticker:TSLA\", # only 10-Ks\n",
    "  }},\n",
    "  \"from\": \"0\", # start returning matches from position null, i.e. the first matching filing \n",
    "  \"size\": \"1\"  # return just one filing\n",
    "}\n",
    "\n",
    "tesla_10k = queryApi.get_filings(query)"
   ]
  },
  {
   "cell_type": "code",
   "execution_count": 30,
   "metadata": {},
   "outputs": [
    {
     "name": "stdout",
     "output_type": "stream",
     "text": [
      "{\n",
      "  \"id\": \"72ccf726af50ba95c163db42643b93ab\",\n",
      "  \"accessionNo\": \"0001628280-24-002390\",\n",
      "  \"cik\": \"1318605\",\n",
      "  \"ticker\": \"TSLA\",\n",
      "  \"companyName\": \"Tesla, Inc.\",\n",
      "  \"companyNameLong\": \"Tesla, Inc. (Filer)\",\n",
      "  \"formType\": \"10-K\",\n",
      "  \"description\": \"Form 10-K - Annual report [Section 13 and 15(d), not S-K Item 405]\",\n",
      "  \"filedAt\": \"2024-01-26T21:00:20-05:00\",\n",
      "  \"linkToTxt\": \"https://www.sec.gov/Archives/edgar/data/1318605/000162828024002390/0001628280-24-002390.txt\",\n",
      "  \"linkToHtml\": \"https://www.sec.gov/Archives/edgar/data/1318605/000162828024002390/0001628280-24-002390-index.htm\",\n",
      "  \"linkToXbrl\": \"\",\n",
      "  \"linkToFilingDetails\": \"https://www.sec.gov/Archives/edgar/data/1318605/000162828024002390/tsla-20231231.htm\",\n",
      "  \"entities\": [\n",
      "    {\n",
      "      \"companyName\": \"Tesla, Inc. (Filer)\",\n",
      "      \"cik\": \"1318605\",\n",
      "      \"irsNo\": \"912197729\",\n",
      "      \"stateOfIncorporation\": \"DE\",\n",
      "      \"fiscalYearEnd\": \"1231\",\n",
      "      \"type\": \"10-K\",\n",
      "      \"act\": \"34\",\n",
      "      \"fileNo\": \"001-34756\",\n",
      "      \"filmNo\": \"24569853\",\n",
      "      \"sic\": \"3711 Motor Vehicles &amp; Passenger Car Bodies\"\n",
      "    }\n",
      "  ],\n",
      "  \"documentFormatFiles\": [\n",
      "    {\n",
      "      \"sequence\": \"1\",\n",
      "      \"description\": \"10-K\",\n",
      "      \"documentUrl\": \"https://www.sec.gov/ix?doc=/Archives/edgar/data/1318605/000162828024002390/tsla-20231231.htm\",\n",
      "      \"type\": \"10-K\",\n",
      "      \"size\": \"2672746\"\n",
      "    },\n",
      "    {\n",
      "      \"sequence\": \"2\",\n",
      "      \"description\": \"EX-21.1\",\n",
      "      \"documentUrl\": \"https://www.sec.gov/Archives/edgar/data/1318605/000162828024002390/tsla-2023x12x31xex211.htm\",\n",
      "      \"type\": \"EX-21.1\",\n",
      "      \"size\": \"207611\"\n",
      "    },\n",
      "    {\n",
      "      \"sequence\": \"3\",\n",
      "      \"description\": \"EX-23.1\",\n",
      "      \"documentUrl\": \"https://www.sec.gov/Archives/edgar/data/1318605/000162828024002390/tsla-2023x12x31xex231.htm\",\n",
      "      \"type\": \"EX-23.1\",\n",
      "      \"size\": \"2127\"\n",
      "    },\n",
      "    {\n",
      "      \"sequence\": \"4\",\n",
      "      \"description\": \"EX-31.1\",\n",
      "      \"documentUrl\": \"https://www.sec.gov/Archives/edgar/data/1318605/000162828024002390/tsla-2023x12x31xex311.htm\",\n",
      "      \"type\": \"EX-31.1\",\n",
      "      \"size\": \"10235\"\n",
      "    },\n",
      "    {\n",
      "      \"sequence\": \"5\",\n",
      "      \"description\": \"EX-31.2\",\n",
      "      \"documentUrl\": \"https://www.sec.gov/Archives/edgar/data/1318605/000162828024002390/tsla-2023x12x31xex312.htm\",\n",
      "      \"type\": \"EX-31.2\",\n",
      "      \"size\": \"10251\"\n",
      "    },\n",
      "    {\n",
      "      \"sequence\": \"6\",\n",
      "      \"description\": \"EX-32.1\",\n",
      "      \"documentUrl\": \"https://www.sec.gov/Archives/edgar/data/1318605/000162828024002390/tsla-2023x12x31xex321.htm\",\n",
      "      \"type\": \"EX-32.1\",\n",
      "      \"size\": \"6503\"\n",
      "    },\n",
      "    {\n",
      "      \"sequence\": \"7\",\n",
      "      \"description\": \"EX-97\",\n",
      "      \"documentUrl\": \"https://www.sec.gov/Archives/edgar/data/1318605/000162828024002390/tsla-2023x12x31xex97.htm\",\n",
      "      \"type\": \"EX-97\",\n",
      "      \"size\": \"42406\"\n",
      "    },\n",
      "    {\n",
      "      \"sequence\": \"13\",\n",
      "      \"documentUrl\": \"https://www.sec.gov/Archives/edgar/data/1318605/000162828024002390/tsla-20231231_g1.jpg\",\n",
      "      \"type\": \"GRAPHIC\",\n",
      "      \"size\": \"208371\"\n",
      "    },\n",
      "    {\n",
      "      \"sequence\": \"\\u00a0\",\n",
      "      \"description\": \"Complete submission text file\",\n",
      "      \"documentUrl\": \"https://www.sec.gov/Archives/edgar/data/1318605/000162828024002390/0001628280-24-002390.txt\",\n",
      "      \"type\": \"\\u00a0\",\n",
      "      \"size\": \"15527801\"\n",
      "    }\n",
      "  ],\n",
      "  \"dataFiles\": [\n",
      "    {\n",
      "      \"sequence\": \"8\",\n",
      "      \"description\": \"XBRL TAXONOMY EXTENSION SCHEMA DOCUMENT\",\n",
      "      \"documentUrl\": \"https://www.sec.gov/Archives/edgar/data/1318605/000162828024002390/tsla-20231231.xsd\",\n",
      "      \"type\": \"EX-101.SCH\",\n",
      "      \"size\": \"104440\"\n",
      "    },\n",
      "    {\n",
      "      \"sequence\": \"9\",\n",
      "      \"description\": \"XBRL TAXONOMY EXTENSION CALCULATION LINKBASE DOCUMENT\",\n",
      "      \"documentUrl\": \"https://www.sec.gov/Archives/edgar/data/1318605/000162828024002390/tsla-20231231_cal.xml\",\n",
      "      \"type\": \"EX-101.CAL\",\n",
      "      \"size\": \"152663\"\n",
      "    },\n",
      "    {\n",
      "      \"sequence\": \"10\",\n",
      "      \"description\": \"XBRL TAXONOMY EXTENSION DEFINITION LINKBASE DOCUMENT\",\n",
      "      \"documentUrl\": \"https://www.sec.gov/Archives/edgar/data/1318605/000162828024002390/tsla-20231231_def.xml\",\n",
      "      \"type\": \"EX-101.DEF\",\n",
      "      \"size\": \"527730\"\n",
      "    },\n",
      "    {\n",
      "      \"sequence\": \"11\",\n",
      "      \"description\": \"XBRL TAXONOMY EXTENSION LABEL LINKBASE DOCUMENT\",\n",
      "      \"documentUrl\": \"https://www.sec.gov/Archives/edgar/data/1318605/000162828024002390/tsla-20231231_lab.xml\",\n",
      "      \"type\": \"EX-101.LAB\",\n",
      "      \"size\": \"1251968\"\n",
      "    },\n",
      "    {\n",
      "      \"sequence\": \"12\",\n",
      "      \"description\": \"XBRL TAXONOMY EXTENSION PRESENTATION LINKBASE DOCUMENT\",\n",
      "      \"documentUrl\": \"https://www.sec.gov/Archives/edgar/data/1318605/000162828024002390/tsla-20231231_pre.xml\",\n",
      "      \"type\": \"EX-101.PRE\",\n",
      "      \"size\": \"817348\"\n",
      "    },\n",
      "    {\n",
      "      \"sequence\": \"113\",\n",
      "      \"description\": \"EXTRACTED XBRL INSTANCE DOCUMENT\",\n",
      "      \"documentUrl\": \"https://www.sec.gov/Archives/edgar/data/1318605/000162828024002390/tsla-20231231_htm.xml\",\n",
      "      \"type\": \"XML\",\n",
      "      \"size\": \"2557362\"\n",
      "    }\n",
      "  ],\n",
      "  \"seriesAndClassesContractsInformation\": [],\n",
      "  \"periodOfReport\": \"2023-12-31\"\n",
      "}\n"
     ]
    }
   ],
   "source": [
    "\n",
    "import json \n",
    "print(json.dumps(tesla_10k[\"filings\"][0], indent=2))"
   ]
  },
  {
   "cell_type": "code",
   "execution_count": 35,
   "metadata": {},
   "outputs": [],
   "source": [
    "# Save the data to json\n",
    "with open(f\"jsons/tesla_10k.json\", \"w\") as f:\n",
    "    json.dump(tesla_10k[\"filings\"][0], f, indent=2)\n",
    "    "
   ]
  },
  {
   "cell_type": "code",
   "execution_count": 36,
   "metadata": {},
   "outputs": [],
   "source": [
    "# Do the same for MSFT\n",
    "query = {\n",
    "  \"query\": { \"query_string\": { \n",
    "      \"query\": \"formType:\\\"10-K\\\" AND ticker:MSFT\", # only 10-Ks\n",
    "  }},\n",
    "  \"from\": \"0\", # start returning matches from position null, i.e. the first matching filing \n",
    "  \"size\": \"1\"  # return just one filing\n",
    "}\n",
    "\n",
    "msft_10k = queryApi.get_filings(query)"
   ]
  },
  {
   "cell_type": "code",
   "execution_count": 38,
   "metadata": {},
   "outputs": [],
   "source": [
    "# Save the data to json\n",
    "with open(f\"jsons/msft_10k.json\", \"w\") as f:\n",
    "    json.dump(msft_10k[\"filings\"][0], f, indent=2)"
   ]
  },
  {
   "cell_type": "code",
   "execution_count": 39,
   "metadata": {},
   "outputs": [],
   "source": [
    "# Do the same for AAPL\n",
    "query = {\n",
    "  \"query\": { \"query_string\": { \n",
    "      \"query\": \"formType:\\\"10-K\\\" AND ticker:AAPL\", # only 10-Ks\n",
    "  }},\n",
    "  \"from\": \"0\", # start returning matches from position null, i.e. the first matching filing \n",
    "  \"size\": \"1\"  # return just one filing\n",
    "}\n",
    "\n",
    "aapl_10k = queryApi.get_filings(query)"
   ]
  },
  {
   "cell_type": "code",
   "execution_count": 40,
   "metadata": {},
   "outputs": [],
   "source": [
    "\n",
    "# Save the data to json\n",
    "with open(f\"jsons/aapl_10k.json\", \"w\") as f:\n",
    "    json.dump(aapl_10k[\"filings\"][0], f, indent=2)"
   ]
  },
  {
   "cell_type": "code",
   "execution_count": 41,
   "metadata": {},
   "outputs": [],
   "source": [
    "# Get last 3 10-Ks for TSLA\n",
    "query = {\n",
    "  \"query\": { \"query_string\": { \n",
    "      \"query\": \"formType:\\\"10-K\\\" AND ticker:TSLA\", # only 10-Ks\n",
    "  }},\n",
    "  \"from\": \"0\", # start returning matches from position null, i.e. the first matching filing \n",
    "  \"size\": \"3\"  # return just one filing\n",
    "}\n",
    "\n",
    "tesla_10k = queryApi.get_filings(query)"
   ]
  },
  {
   "cell_type": "code",
   "execution_count": 42,
   "metadata": {},
   "outputs": [],
   "source": [
    "# Save the data to json\n",
    "with open(f\"jsons/tesla_10k_3.json\", \"w\") as f:\n",
    "    json.dump(tesla_10k[\"filings\"], f, indent=2)\n",
    "    "
   ]
  },
  {
   "cell_type": "code",
   "execution_count": 43,
   "metadata": {},
   "outputs": [],
   "source": [
    "# Get last 3 10-Ks for MSFT\n",
    "query = {\n",
    "  \"query\": { \"query_string\": { \n",
    "      \"query\": \"formType:\\\"10-K\\\" AND ticker:MSFT\", # only 10-Ks\n",
    "  }},\n",
    "  \"from\": \"0\", # start returning matches from position null, i.e. the first matching filing \n",
    "  \"size\": \"3\"  # return just one filing\n",
    "}\n",
    "\n",
    "msft_10k = queryApi.get_filings(query)"
   ]
  },
  {
   "cell_type": "code",
   "execution_count": 44,
   "metadata": {},
   "outputs": [],
   "source": [
    "# Save the data to json\n",
    "with open(f\"jsons/msft_10k_3.json\", \"w\") as f:\n",
    "    json.dump(msft_10k[\"filings\"], f, indent=2)"
   ]
  },
  {
   "cell_type": "code",
   "execution_count": 45,
   "metadata": {},
   "outputs": [],
   "source": [
    "# Get last 3 10-Ks for AAPL\n",
    "query = {\n",
    "  \"query\": { \"query_string\": { \n",
    "      \"query\": \"formType:\\\"10-K\\\" AND ticker:AAPL\", # only 10-Ks\n",
    "  }},\n",
    "  \"from\": \"0\", # start returning matches from position null, i.e. the first matching filing \n",
    "  \"size\": \"3\"  # return just one filing\n",
    "}\n",
    "\n",
    "aapl_10k = queryApi.get_filings(query)\n"
   ]
  },
  {
   "cell_type": "code",
   "execution_count": 46,
   "metadata": {},
   "outputs": [],
   "source": [
    "\n",
    "# Save the data to json\n",
    "with open(f\"jsons/aapl_10k_3.json\", \"w\") as f:\n",
    "    json.dump(aapl_10k[\"filings\"], f, indent=2)"
   ]
  },
  {
   "cell_type": "code",
   "execution_count": null,
   "metadata": {},
   "outputs": [],
   "source": []
  }
 ],
 "metadata": {
  "kernelspec": {
   "display_name": ".venv",
   "language": "python",
   "name": "python3"
  },
  "language_info": {
   "codemirror_mode": {
    "name": "ipython",
    "version": 3
   },
   "file_extension": ".py",
   "mimetype": "text/x-python",
   "name": "python",
   "nbconvert_exporter": "python",
   "pygments_lexer": "ipython3",
   "version": "3.12.0"
  }
 },
 "nbformat": 4,
 "nbformat_minor": 2
}
