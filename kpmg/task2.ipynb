{
 "cells": [
  {
   "attachments": {},
   "cell_type": "markdown",
   "metadata": {},
   "source": [
    "# Targeting high value customers based on customer demographics and attributes.\n",
    "> This project was done under the umbrella of KPMG internship experience. I was provided data sets of an organization targeting a client who wants a feedback from us on their dataset quality and how this can be improved.\n",
    "\n",
    "### Background\n",
    "- Sprocket Central Pty Ltd, a medium size bikes & cycling accessories organisation\n",
    "- needs help with its customer and transactions data\n",
    "- how to analyse it to help optimise its marketing strategy effectively.\n",
    "\n",
    "### Datasets\n",
    "- New Customer List\n",
    "- Customer Demographic\n",
    "- Customer Addresses\n",
    "- Transactions data in the past 3 months\n",
    "\n",
    "\n",
    "### Task\n",
    "- Exploratory Data Analysis to understand the data and its quality\n",
    "- Model building to predict the high value customers\n",
    "- Results and recommendations"
   ]
  },
  {
   "cell_type": "code",
   "execution_count": null,
   "metadata": {},
   "outputs": [],
   "source": []
  }
 ],
 "metadata": {
  "language_info": {
   "name": "python"
  },
  "orig_nbformat": 4
 },
 "nbformat": 4,
 "nbformat_minor": 2
}
