{
 "cells": [
  {
   "cell_type": "markdown",
   "metadata": {},
   "source": [
    "# Task 3: Model Development\n",
    "We will try to predict the categories of our future customers.\n",
    "We will use HistGradientBoostingClassifier, since we already used it in the practice notebool, but I kinda want to explore other models and see what I can come up with.\n",
    "\n",
    "Most of the code will be referenced from [INRIA's Course](https://inria.github.io/scikit-learn-mooc/) on Machine Learing with Scikit-Learn."
   ]
  },
  {
   "cell_type": "markdown",
   "metadata": {},
   "source": [
    "## 3.1. Data Preparation\n",
    "- Lets just import our data first.\n",
    "- Then we can note down the common test and train columns.\n",
    "- Then we will engineer the features on the test data."
   ]
  },
  {
   "cell_type": "code",
   "execution_count": 156,
   "metadata": {},
   "outputs": [],
   "source": [
    "# Import the Postcoded dataset\n",
    "import pandas as pd\n",
    "import numpy as np\n",
    "\n",
    "Train = pd.read_csv(\"Postcoded.csv\")\n",
    "\n",
    "NewCustomerList = pd.read_csv(\"NewCustomerList.csv\")"
   ]
  },
  {
   "cell_type": "code",
   "execution_count": 157,
   "metadata": {},
   "outputs": [
    {
     "name": "stdout",
     "output_type": "stream",
     "text": [
      "Index(['transaction_id', 'product_id', 'customer_id', 'transaction_date',\n",
      "       'online_order', 'order_status', 'brand', 'product_line',\n",
      "       'product_class', 'product_size', 'list_price', 'standard_cost',\n",
      "       'product_first_sold_date', 'first_name', 'last_name', 'gender',\n",
      "       'past_3_years_bike_related_purchases', 'DOB', 'job_title',\n",
      "       'job_industry_category', 'wealth_segment', 'deceased_indicator',\n",
      "       'owns_car', 'tenure', 'address', 'postcode', 'country',\n",
      "       'property_valuation', 'lat', 'long', 'state', 'customer_age',\n",
      "       'product_age', 'age_group', 'profit', 'recency', 'frequency',\n",
      "       'transaction_day', 'transaction_week', 'transaction_month', 'cluster',\n",
      "       'customer_category', 'nearest_point', 'distance_to_coast'],\n",
      "      dtype='object')\n",
      "Index(['first_name', 'last_name', 'gender',\n",
      "       'past_3_years_bike_related_purchases', 'DOB', 'job_title',\n",
      "       'job_industry_category', 'wealth_segment', 'deceased_indicator',\n",
      "       'owns_car', 'tenure', 'address', 'postcode', 'state', 'country',\n",
      "       'property_valuation', 'Rank', 'Value'],\n",
      "      dtype='object')\n",
      "Index(['first_name', 'last_name', 'gender',\n",
      "       'past_3_years_bike_related_purchases', 'DOB', 'job_title',\n",
      "       'job_industry_category', 'wealth_segment', 'deceased_indicator',\n",
      "       'owns_car', 'tenure', 'address', 'postcode', 'country',\n",
      "       'property_valuation', 'state'],\n",
      "      dtype='object')\n"
     ]
    }
   ],
   "source": [
    "pos_cols = Train.columns\n",
    "print(pos_cols)\n",
    "\n",
    "new_cols = NewCustomerList.columns\n",
    "print(new_cols)\n",
    "\n",
    "common_cols = pos_cols.intersection(new_cols)\n",
    "print(common_cols)"
   ]
  },
  {
   "cell_type": "markdown",
   "metadata": {},
   "source": [
    "We'll be engineering the following features in the test data:\n",
    "- customer_age\n",
    "- age_group\n",
    "- lat, long\n",
    "- distance_to_coast\n",
    "\n",
    "So basically we will only be expanding the DOB and postcode columns.\n",
    "Lets also try and multiply the property_valuation with the tenure, that might do something."
   ]
  },
  {
   "cell_type": "markdown",
   "metadata": {},
   "source": [
    "## 3.2. Engineering the Features"
   ]
  },
  {
   "cell_type": "markdown",
   "metadata": {},
   "source": [
    "### 3.2.1. Customer Age Features"
   ]
  },
  {
   "cell_type": "code",
   "execution_count": 158,
   "metadata": {},
   "outputs": [],
   "source": [
    "# Building the customer_age column\n",
    "end_date = pd.to_datetime(\"2017-12-30\")\n",
    "NewCustomerList[\"DOB\"] = pd.to_datetime(NewCustomerList[\"DOB\"])\n",
    "\n",
    "NewCustomerList[\"customer_age\"] = (end_date - NewCustomerList[\"DOB\"]).dt.days // 365.25\n",
    "NewCustomerList[\"customer_age\"] = NewCustomerList[\"customer_age\"].astype(\"Int64\")\n",
    "\n",
    "# Keeping only the customers between 14 and 100 years old\n",
    "NewCustomerList = NewCustomerList[NewCustomerList[\"customer_age\"].between(14, 100)]"
   ]
  },
  {
   "cell_type": "code",
   "execution_count": 159,
   "metadata": {},
   "outputs": [],
   "source": [
    "# Calculating the age_group column\n",
    "age_group = pd.cut(\n",
    "    NewCustomerList[\"customer_age\"],\n",
    "    bins=[14,30,50,70,90],\n",
    "    labels=[\"14-30\",\"30-50\",\"50-70\",\"70-90\"]\n",
    ")\n",
    "\n",
    "NewCustomerList[\"age_group\"] = age_group"
   ]
  },
  {
   "cell_type": "markdown",
   "metadata": {},
   "source": [
    "### 3.2.2. Customer Coordinate Features"
   ]
  },
  {
   "cell_type": "code",
   "execution_count": 160,
   "metadata": {},
   "outputs": [],
   "source": [
    "# Importing the postcode dataset\n",
    "\n",
    "Postcodes = pd.read_csv(\"/home/meow/Desktop/internship-speedrun/kpmg/australian_postcodes.csv\")\n",
    "\n",
    "# Replace 0 with NaN\n",
    "Postcodes.replace(0, np.nan, inplace=True)"
   ]
  },
  {
   "cell_type": "code",
   "execution_count": 161,
   "metadata": {},
   "outputs": [],
   "source": [
    "# We only need the postcode, longitude and latitude columns\n",
    "# We also need the state column which will make the state consistent with postcodes in the MasterDataset\n",
    "\n",
    "Postcodes = Postcodes[[\"postcode\", \"lat\", \"long\", \"state\"]]"
   ]
  },
  {
   "cell_type": "code",
   "execution_count": 162,
   "metadata": {},
   "outputs": [
    {
     "data": {
      "text/html": [
       "<div>\n",
       "<style scoped>\n",
       "    .dataframe tbody tr th:only-of-type {\n",
       "        vertical-align: middle;\n",
       "    }\n",
       "\n",
       "    .dataframe tbody tr th {\n",
       "        vertical-align: top;\n",
       "    }\n",
       "\n",
       "    .dataframe thead th {\n",
       "        text-align: right;\n",
       "    }\n",
       "</style>\n",
       "<table border=\"1\" class=\"dataframe\">\n",
       "  <thead>\n",
       "    <tr style=\"text-align: right;\">\n",
       "      <th></th>\n",
       "      <th>postcode</th>\n",
       "      <th>lat</th>\n",
       "      <th>long</th>\n",
       "      <th>state</th>\n",
       "    </tr>\n",
       "  </thead>\n",
       "  <tbody>\n",
       "    <tr>\n",
       "      <th>0</th>\n",
       "      <td>200</td>\n",
       "      <td>-35.277700</td>\n",
       "      <td>149.119000</td>\n",
       "      <td>ACT</td>\n",
       "    </tr>\n",
       "    <tr>\n",
       "      <th>2</th>\n",
       "      <td>800</td>\n",
       "      <td>-12.458684</td>\n",
       "      <td>130.836680</td>\n",
       "      <td>NT</td>\n",
       "    </tr>\n",
       "    <tr>\n",
       "      <th>4</th>\n",
       "      <td>801</td>\n",
       "      <td>-12.458684</td>\n",
       "      <td>130.836680</td>\n",
       "      <td>NT</td>\n",
       "    </tr>\n",
       "    <tr>\n",
       "      <th>6</th>\n",
       "      <td>804</td>\n",
       "      <td>-12.428017</td>\n",
       "      <td>130.873315</td>\n",
       "      <td>NT</td>\n",
       "    </tr>\n",
       "    <tr>\n",
       "      <th>7</th>\n",
       "      <td>810</td>\n",
       "      <td>-12.381806</td>\n",
       "      <td>130.866242</td>\n",
       "      <td>NT</td>\n",
       "    </tr>\n",
       "  </tbody>\n",
       "</table>\n",
       "</div>"
      ],
      "text/plain": [
       "   postcode        lat        long state\n",
       "0       200 -35.277700  149.119000   ACT\n",
       "2       800 -12.458684  130.836680    NT\n",
       "4       801 -12.458684  130.836680    NT\n",
       "6       804 -12.428017  130.873315    NT\n",
       "7       810 -12.381806  130.866242    NT"
      ]
     },
     "execution_count": 162,
     "metadata": {},
     "output_type": "execute_result"
    }
   ],
   "source": [
    "# Drop all the rows with missing values\n",
    "Postcodes.dropna(inplace=True)\n",
    "\n",
    "# Drop all the duplicate rows\n",
    "Postcodes.drop_duplicates(inplace=True)\n",
    "\n",
    "# Drop all the non unique postcode rows\n",
    "Postcodes.drop_duplicates(subset=\"postcode\", inplace=True)\n",
    "\n",
    "Postcodes.head()"
   ]
  },
  {
   "cell_type": "code",
   "execution_count": 163,
   "metadata": {},
   "outputs": [],
   "source": [
    "Postcoded = NewCustomerList.copy()\n",
    "\n",
    "Postcoded = pd.merge(\n",
    "    Postcoded,\n",
    "    Postcodes,\n",
    "    how=\"inner\",\n",
    "    left_on=\"postcode\",\n",
    "    right_on=\"postcode\",\n",
    ")"
   ]
  },
  {
   "cell_type": "code",
   "execution_count": 164,
   "metadata": {},
   "outputs": [
    {
     "name": "stdout",
     "output_type": "stream",
     "text": [
      "(983, 23)\n",
      "(983, 20)\n"
     ]
    }
   ],
   "source": [
    "print(Postcoded.shape)\n",
    "print(NewCustomerList.shape)"
   ]
  },
  {
   "cell_type": "code",
   "execution_count": 165,
   "metadata": {},
   "outputs": [],
   "source": [
    "# Since state_y is a feature of postcode it is more reliable than state_x\n",
    "# So we will drop state_x\n",
    "\n",
    "Postcoded.drop(columns=\"state_x\", inplace=True)\n",
    "Postcoded.rename(columns={\"state_y\": \"state\"}, inplace=True)"
   ]
  },
  {
   "cell_type": "code",
   "execution_count": 166,
   "metadata": {},
   "outputs": [
    {
     "data": {
      "text/html": [
       "<div>\n",
       "<style scoped>\n",
       "    .dataframe tbody tr th:only-of-type {\n",
       "        vertical-align: middle;\n",
       "    }\n",
       "\n",
       "    .dataframe tbody tr th {\n",
       "        vertical-align: top;\n",
       "    }\n",
       "\n",
       "    .dataframe thead th {\n",
       "        text-align: right;\n",
       "    }\n",
       "</style>\n",
       "<table border=\"1\" class=\"dataframe\">\n",
       "  <thead>\n",
       "    <tr style=\"text-align: right;\">\n",
       "      <th></th>\n",
       "      <th>first_name</th>\n",
       "      <th>last_name</th>\n",
       "      <th>gender</th>\n",
       "      <th>past_3_years_bike_related_purchases</th>\n",
       "      <th>DOB</th>\n",
       "      <th>job_title</th>\n",
       "      <th>job_industry_category</th>\n",
       "      <th>wealth_segment</th>\n",
       "      <th>deceased_indicator</th>\n",
       "      <th>owns_car</th>\n",
       "      <th>tenure</th>\n",
       "      <th>address</th>\n",
       "      <th>postcode</th>\n",
       "      <th>country</th>\n",
       "      <th>property_valuation</th>\n",
       "      <th>Rank</th>\n",
       "      <th>Value</th>\n",
       "      <th>customer_age</th>\n",
       "      <th>age_group</th>\n",
       "      <th>lat</th>\n",
       "      <th>long</th>\n",
       "      <th>state</th>\n",
       "    </tr>\n",
       "  </thead>\n",
       "  <tbody>\n",
       "    <tr>\n",
       "      <th>241</th>\n",
       "      <td>Isadora</td>\n",
       "      <td>Ducker</td>\n",
       "      <td>F</td>\n",
       "      <td>15</td>\n",
       "      <td>1973-08-25</td>\n",
       "      <td>Account Executive</td>\n",
       "      <td>NaN</td>\n",
       "      <td>Affluent Customer</td>\n",
       "      <td>False</td>\n",
       "      <td>True</td>\n",
       "      <td>8</td>\n",
       "      <td>2972 Holy Cross Crossing</td>\n",
       "      <td>3153</td>\n",
       "      <td>Australia</td>\n",
       "      <td>5</td>\n",
       "      <td>386</td>\n",
       "      <td>0.945625</td>\n",
       "      <td>44</td>\n",
       "      <td>30-50</td>\n",
       "      <td>-37.845116</td>\n",
       "      <td>145.270141</td>\n",
       "      <td>VIC</td>\n",
       "    </tr>\n",
       "    <tr>\n",
       "      <th>415</th>\n",
       "      <td>Franklin</td>\n",
       "      <td>Wohler</td>\n",
       "      <td>M</td>\n",
       "      <td>55</td>\n",
       "      <td>1938-10-16</td>\n",
       "      <td>Clinical Specialist</td>\n",
       "      <td>Health</td>\n",
       "      <td>Mass Customer</td>\n",
       "      <td>False</td>\n",
       "      <td>True</td>\n",
       "      <td>7</td>\n",
       "      <td>6966 Delladonna Street</td>\n",
       "      <td>2250</td>\n",
       "      <td>Australia</td>\n",
       "      <td>8</td>\n",
       "      <td>191</td>\n",
       "      <td>1.150000</td>\n",
       "      <td>79</td>\n",
       "      <td>70-90</td>\n",
       "      <td>-33.325373</td>\n",
       "      <td>151.189243</td>\n",
       "      <td>NSW</td>\n",
       "    </tr>\n",
       "    <tr>\n",
       "      <th>454</th>\n",
       "      <td>Seymour</td>\n",
       "      <td>Fellibrand</td>\n",
       "      <td>M</td>\n",
       "      <td>28</td>\n",
       "      <td>1971-10-11</td>\n",
       "      <td>Structural Analysis Engineer</td>\n",
       "      <td>NaN</td>\n",
       "      <td>Affluent Customer</td>\n",
       "      <td>False</td>\n",
       "      <td>True</td>\n",
       "      <td>18</td>\n",
       "      <td>96081 Lakewood Hill</td>\n",
       "      <td>4650</td>\n",
       "      <td>Australia</td>\n",
       "      <td>2</td>\n",
       "      <td>708</td>\n",
       "      <td>0.680000</td>\n",
       "      <td>46</td>\n",
       "      <td>30-50</td>\n",
       "      <td>-25.640978</td>\n",
       "      <td>152.791302</td>\n",
       "      <td>QLD</td>\n",
       "    </tr>\n",
       "    <tr>\n",
       "      <th>214</th>\n",
       "      <td>Patricia</td>\n",
       "      <td>Everix</td>\n",
       "      <td>F</td>\n",
       "      <td>34</td>\n",
       "      <td>1978-02-19</td>\n",
       "      <td>Director of Sales</td>\n",
       "      <td>Health</td>\n",
       "      <td>Mass Customer</td>\n",
       "      <td>False</td>\n",
       "      <td>False</td>\n",
       "      <td>19</td>\n",
       "      <td>91164 Washington Terrace</td>\n",
       "      <td>2263</td>\n",
       "      <td>Australia</td>\n",
       "      <td>7</td>\n",
       "      <td>89</td>\n",
       "      <td>1.312500</td>\n",
       "      <td>39</td>\n",
       "      <td>30-50</td>\n",
       "      <td>-33.285097</td>\n",
       "      <td>151.556223</td>\n",
       "      <td>NSW</td>\n",
       "    </tr>\n",
       "    <tr>\n",
       "      <th>54</th>\n",
       "      <td>Nanni</td>\n",
       "      <td>Girodias</td>\n",
       "      <td>F</td>\n",
       "      <td>61</td>\n",
       "      <td>1959-01-08</td>\n",
       "      <td>NaN</td>\n",
       "      <td>Retail</td>\n",
       "      <td>High Net Worth</td>\n",
       "      <td>False</td>\n",
       "      <td>False</td>\n",
       "      <td>16</td>\n",
       "      <td>74 Shopko Pass</td>\n",
       "      <td>2161</td>\n",
       "      <td>Australia</td>\n",
       "      <td>9</td>\n",
       "      <td>617</td>\n",
       "      <td>0.754375</td>\n",
       "      <td>58</td>\n",
       "      <td>50-70</td>\n",
       "      <td>-33.858335</td>\n",
       "      <td>150.983724</td>\n",
       "      <td>NSW</td>\n",
       "    </tr>\n",
       "  </tbody>\n",
       "</table>\n",
       "</div>"
      ],
      "text/plain": [
       "    first_name   last_name gender  past_3_years_bike_related_purchases  \\\n",
       "241    Isadora      Ducker      F                                   15   \n",
       "415   Franklin      Wohler      M                                   55   \n",
       "454    Seymour  Fellibrand      M                                   28   \n",
       "214   Patricia      Everix      F                                   34   \n",
       "54       Nanni    Girodias      F                                   61   \n",
       "\n",
       "           DOB                     job_title job_industry_category  \\\n",
       "241 1973-08-25             Account Executive                   NaN   \n",
       "415 1938-10-16           Clinical Specialist                Health   \n",
       "454 1971-10-11  Structural Analysis Engineer                   NaN   \n",
       "214 1978-02-19             Director of Sales                Health   \n",
       "54  1959-01-08                           NaN                Retail   \n",
       "\n",
       "        wealth_segment  deceased_indicator  owns_car  tenure  \\\n",
       "241  Affluent Customer               False      True       8   \n",
       "415      Mass Customer               False      True       7   \n",
       "454  Affluent Customer               False      True      18   \n",
       "214      Mass Customer               False     False      19   \n",
       "54      High Net Worth               False     False      16   \n",
       "\n",
       "                      address  postcode    country  property_valuation  Rank  \\\n",
       "241  2972 Holy Cross Crossing      3153  Australia                   5   386   \n",
       "415    6966 Delladonna Street      2250  Australia                   8   191   \n",
       "454       96081 Lakewood Hill      4650  Australia                   2   708   \n",
       "214  91164 Washington Terrace      2263  Australia                   7    89   \n",
       "54             74 Shopko Pass      2161  Australia                   9   617   \n",
       "\n",
       "        Value  customer_age age_group        lat        long state  \n",
       "241  0.945625            44     30-50 -37.845116  145.270141   VIC  \n",
       "415  1.150000            79     70-90 -33.325373  151.189243   NSW  \n",
       "454  0.680000            46     30-50 -25.640978  152.791302   QLD  \n",
       "214  1.312500            39     30-50 -33.285097  151.556223   NSW  \n",
       "54   0.754375            58     50-70 -33.858335  150.983724   NSW  "
      ]
     },
     "execution_count": 166,
     "metadata": {},
     "output_type": "execute_result"
    }
   ],
   "source": [
    "Postcoded.sample(5)"
   ]
  },
  {
   "cell_type": "markdown",
   "metadata": {},
   "source": [
    "### 3.2.3. Customer Distance to Coast Features"
   ]
  },
  {
   "cell_type": "code",
   "execution_count": 167,
   "metadata": {},
   "outputs": [],
   "source": [
    "from shapely.ops import nearest_points, Point\n",
    "import haversine as hs\n",
    "from haversine import Unit\n",
    "import geopandas as gpd\n",
    "\n",
    "def coastline_minima(df, lat_col, long_col, country):\n",
    "    \"\"\"\n",
    "    This function takes in a dataframe with latitude and longitude columns and returns the nearest point on the coastline and the distance in km\n",
    "\n",
    "    Required libraries: geopandas, shapely, folium, haversine\n",
    "    Returns: original dataframe with two new columns: nearest_point and distance_to_coast\n",
    "\n",
    "    \"\"\"\n",
    "    # Getting the coastline\n",
    "    world = gpd.read_file(gpd.datasets.get_path(\"naturalearth_lowres\"))\n",
    "    coastline = world[world.name.str.contains(country)].boundary\n",
    "\n",
    "    # Creating empty lists to store the nearest point and the distance\n",
    "    nearest_points_list = []\n",
    "    distance_list = []\n",
    "\n",
    "    for i in range(len(df)):\n",
    "        geo = Point(df[long_col][i], df[lat_col][i])\n",
    "        nearest = nearest_points(geo, coastline)[1]\n",
    "        cos = Point(nearest.x, nearest.y)\n",
    "        loc1 = (geo.y, geo.x)\n",
    "        loc2 = (cos.y, cos.x)\n",
    "        result = hs.haversine(loc1, loc2, unit=Unit.KILOMETERS)\n",
    "\n",
    "        nearest_points_list.append(nearest)\n",
    "        distance_list.append(result)\n",
    "\n",
    "    # Adding the new columns to the dataframe\n",
    "    df[\"nearest_point\"] = nearest_points_list\n",
    "    df[\"distance_to_coast\"] = distance_list\n",
    "\n",
    "    return df\n"
   ]
  },
  {
   "cell_type": "code",
   "execution_count": 168,
   "metadata": {},
   "outputs": [
    {
     "name": "stderr",
     "output_type": "stream",
     "text": [
      "/tmp/ipykernel_12371/197697157.py:15: FutureWarning: The geopandas.dataset module is deprecated and will be removed in GeoPandas 1.0. You can get the original 'naturalearth_lowres' data from https://www.naturalearthdata.com/downloads/110m-cultural-vectors/.\n",
      "  world = gpd.read_file(gpd.datasets.get_path(\"naturalearth_lowres\"))\n"
     ]
    },
    {
     "data": {
      "text/html": [
       "<div>\n",
       "<style scoped>\n",
       "    .dataframe tbody tr th:only-of-type {\n",
       "        vertical-align: middle;\n",
       "    }\n",
       "\n",
       "    .dataframe tbody tr th {\n",
       "        vertical-align: top;\n",
       "    }\n",
       "\n",
       "    .dataframe thead th {\n",
       "        text-align: right;\n",
       "    }\n",
       "</style>\n",
       "<table border=\"1\" class=\"dataframe\">\n",
       "  <thead>\n",
       "    <tr style=\"text-align: right;\">\n",
       "      <th></th>\n",
       "      <th>first_name</th>\n",
       "      <th>last_name</th>\n",
       "      <th>gender</th>\n",
       "      <th>past_3_years_bike_related_purchases</th>\n",
       "      <th>DOB</th>\n",
       "      <th>job_title</th>\n",
       "      <th>job_industry_category</th>\n",
       "      <th>wealth_segment</th>\n",
       "      <th>deceased_indicator</th>\n",
       "      <th>owns_car</th>\n",
       "      <th>tenure</th>\n",
       "      <th>address</th>\n",
       "      <th>postcode</th>\n",
       "      <th>country</th>\n",
       "      <th>property_valuation</th>\n",
       "      <th>Rank</th>\n",
       "      <th>Value</th>\n",
       "      <th>customer_age</th>\n",
       "      <th>age_group</th>\n",
       "      <th>lat</th>\n",
       "      <th>long</th>\n",
       "      <th>state</th>\n",
       "      <th>nearest_point</th>\n",
       "      <th>distance_to_coast</th>\n",
       "    </tr>\n",
       "  </thead>\n",
       "  <tbody>\n",
       "    <tr>\n",
       "      <th>0</th>\n",
       "      <td>Chickie</td>\n",
       "      <td>Brister</td>\n",
       "      <td>M</td>\n",
       "      <td>86</td>\n",
       "      <td>1957-07-12</td>\n",
       "      <td>General Manager</td>\n",
       "      <td>Manufacturing</td>\n",
       "      <td>Mass Customer</td>\n",
       "      <td>False</td>\n",
       "      <td>True</td>\n",
       "      <td>14</td>\n",
       "      <td>45 Shopko Center</td>\n",
       "      <td>4500</td>\n",
       "      <td>Australia</td>\n",
       "      <td>6</td>\n",
       "      <td>1</td>\n",
       "      <td>1.71875</td>\n",
       "      <td>60</td>\n",
       "      <td>50-70</td>\n",
       "      <td>-27.307845</td>\n",
       "      <td>152.939438</td>\n",
       "      <td>QLD</td>\n",
       "      <td>137    POINT (153.09291 -27.26030)\n",
       "dtype: geom...</td>\n",
       "      <td>16.061656</td>\n",
       "    </tr>\n",
       "    <tr>\n",
       "      <th>1</th>\n",
       "      <td>Peria</td>\n",
       "      <td>Rantoull</td>\n",
       "      <td>F</td>\n",
       "      <td>3</td>\n",
       "      <td>1975-03-13</td>\n",
       "      <td>Financial Analyst</td>\n",
       "      <td>Financial Services</td>\n",
       "      <td>Mass Customer</td>\n",
       "      <td>False</td>\n",
       "      <td>False</td>\n",
       "      <td>4</td>\n",
       "      <td>8350 Moulton Terrace</td>\n",
       "      <td>4500</td>\n",
       "      <td>Australia</td>\n",
       "      <td>4</td>\n",
       "      <td>120</td>\n",
       "      <td>1.26250</td>\n",
       "      <td>42</td>\n",
       "      <td>30-50</td>\n",
       "      <td>-27.307845</td>\n",
       "      <td>152.939438</td>\n",
       "      <td>QLD</td>\n",
       "      <td>137    POINT (153.09291 -27.26030)\n",
       "dtype: geom...</td>\n",
       "      <td>16.061656</td>\n",
       "    </tr>\n",
       "    <tr>\n",
       "      <th>2</th>\n",
       "      <td>Madison</td>\n",
       "      <td>Lars</td>\n",
       "      <td>M</td>\n",
       "      <td>11</td>\n",
       "      <td>1967-01-19</td>\n",
       "      <td>Health Coach III</td>\n",
       "      <td>Health</td>\n",
       "      <td>Mass Customer</td>\n",
       "      <td>False</td>\n",
       "      <td>False</td>\n",
       "      <td>19</td>\n",
       "      <td>9503 New Castle Street</td>\n",
       "      <td>4500</td>\n",
       "      <td>Australia</td>\n",
       "      <td>9</td>\n",
       "      <td>620</td>\n",
       "      <td>0.75000</td>\n",
       "      <td>50</td>\n",
       "      <td>30-50</td>\n",
       "      <td>-27.307845</td>\n",
       "      <td>152.939438</td>\n",
       "      <td>QLD</td>\n",
       "      <td>137    POINT (153.09291 -27.26030)\n",
       "dtype: geom...</td>\n",
       "      <td>16.061656</td>\n",
       "    </tr>\n",
       "    <tr>\n",
       "      <th>3</th>\n",
       "      <td>Andrea</td>\n",
       "      <td>Pendle</td>\n",
       "      <td>F</td>\n",
       "      <td>86</td>\n",
       "      <td>1938-08-05</td>\n",
       "      <td>NaN</td>\n",
       "      <td>NaN</td>\n",
       "      <td>High Net Worth</td>\n",
       "      <td>False</td>\n",
       "      <td>True</td>\n",
       "      <td>13</td>\n",
       "      <td>31281 Meadow Valley Way</td>\n",
       "      <td>4500</td>\n",
       "      <td>Australia</td>\n",
       "      <td>6</td>\n",
       "      <td>760</td>\n",
       "      <td>0.63750</td>\n",
       "      <td>79</td>\n",
       "      <td>70-90</td>\n",
       "      <td>-27.307845</td>\n",
       "      <td>152.939438</td>\n",
       "      <td>QLD</td>\n",
       "      <td>137    POINT (153.09291 -27.26030)\n",
       "dtype: geom...</td>\n",
       "      <td>16.061656</td>\n",
       "    </tr>\n",
       "    <tr>\n",
       "      <th>4</th>\n",
       "      <td>Philbert</td>\n",
       "      <td>Bangs</td>\n",
       "      <td>M</td>\n",
       "      <td>67</td>\n",
       "      <td>1966-03-03</td>\n",
       "      <td>Environmental Specialist</td>\n",
       "      <td>IT</td>\n",
       "      <td>Mass Customer</td>\n",
       "      <td>False</td>\n",
       "      <td>True</td>\n",
       "      <td>6</td>\n",
       "      <td>02643 Moose Court</td>\n",
       "      <td>4500</td>\n",
       "      <td>Australia</td>\n",
       "      <td>7</td>\n",
       "      <td>951</td>\n",
       "      <td>0.45050</td>\n",
       "      <td>51</td>\n",
       "      <td>50-70</td>\n",
       "      <td>-27.307845</td>\n",
       "      <td>152.939438</td>\n",
       "      <td>QLD</td>\n",
       "      <td>137    POINT (153.09291 -27.26030)\n",
       "dtype: geom...</td>\n",
       "      <td>16.061656</td>\n",
       "    </tr>\n",
       "    <tr>\n",
       "      <th>...</th>\n",
       "      <td>...</td>\n",
       "      <td>...</td>\n",
       "      <td>...</td>\n",
       "      <td>...</td>\n",
       "      <td>...</td>\n",
       "      <td>...</td>\n",
       "      <td>...</td>\n",
       "      <td>...</td>\n",
       "      <td>...</td>\n",
       "      <td>...</td>\n",
       "      <td>...</td>\n",
       "      <td>...</td>\n",
       "      <td>...</td>\n",
       "      <td>...</td>\n",
       "      <td>...</td>\n",
       "      <td>...</td>\n",
       "      <td>...</td>\n",
       "      <td>...</td>\n",
       "      <td>...</td>\n",
       "      <td>...</td>\n",
       "      <td>...</td>\n",
       "      <td>...</td>\n",
       "      <td>...</td>\n",
       "      <td>...</td>\n",
       "    </tr>\n",
       "    <tr>\n",
       "      <th>978</th>\n",
       "      <td>Lauralee</td>\n",
       "      <td>Fudge</td>\n",
       "      <td>F</td>\n",
       "      <td>83</td>\n",
       "      <td>1987-09-21</td>\n",
       "      <td>Research Nurse</td>\n",
       "      <td>Health</td>\n",
       "      <td>Mass Customer</td>\n",
       "      <td>False</td>\n",
       "      <td>False</td>\n",
       "      <td>15</td>\n",
       "      <td>9460 Monument Park</td>\n",
       "      <td>3277</td>\n",
       "      <td>Australia</td>\n",
       "      <td>4</td>\n",
       "      <td>985</td>\n",
       "      <td>0.40800</td>\n",
       "      <td>30</td>\n",
       "      <td>14-30</td>\n",
       "      <td>-38.389835</td>\n",
       "      <td>142.660221</td>\n",
       "      <td>VIC</td>\n",
       "      <td>137    POINT (142.62795 -38.50549)\n",
       "dtype: geom...</td>\n",
       "      <td>13.163628</td>\n",
       "    </tr>\n",
       "    <tr>\n",
       "      <th>979</th>\n",
       "      <td>Weidar</td>\n",
       "      <td>Etheridge</td>\n",
       "      <td>M</td>\n",
       "      <td>38</td>\n",
       "      <td>1959-07-13</td>\n",
       "      <td>Compensation Analyst</td>\n",
       "      <td>Financial Services</td>\n",
       "      <td>Mass Customer</td>\n",
       "      <td>False</td>\n",
       "      <td>True</td>\n",
       "      <td>6</td>\n",
       "      <td>0535 Jay Point</td>\n",
       "      <td>2422</td>\n",
       "      <td>Australia</td>\n",
       "      <td>4</td>\n",
       "      <td>994</td>\n",
       "      <td>0.38250</td>\n",
       "      <td>58</td>\n",
       "      <td>50-70</td>\n",
       "      <td>-31.973082</td>\n",
       "      <td>151.865806</td>\n",
       "      <td>NSW</td>\n",
       "      <td>137    POINT (152.56524 -32.31264)\n",
       "dtype: geom...</td>\n",
       "      <td>75.908758</td>\n",
       "    </tr>\n",
       "    <tr>\n",
       "      <th>980</th>\n",
       "      <td>Datha</td>\n",
       "      <td>Fishburn</td>\n",
       "      <td>F</td>\n",
       "      <td>15</td>\n",
       "      <td>1990-07-02</td>\n",
       "      <td>Office Assistant IV</td>\n",
       "      <td>Retail</td>\n",
       "      <td>Mass Customer</td>\n",
       "      <td>False</td>\n",
       "      <td>False</td>\n",
       "      <td>3</td>\n",
       "      <td>6 Caliangt Way</td>\n",
       "      <td>3079</td>\n",
       "      <td>Australia</td>\n",
       "      <td>12</td>\n",
       "      <td>994</td>\n",
       "      <td>0.38250</td>\n",
       "      <td>27</td>\n",
       "      <td>14-30</td>\n",
       "      <td>-37.772675</td>\n",
       "      <td>145.048573</td>\n",
       "      <td>VIC</td>\n",
       "      <td>137    POINT (145.03221 -37.89619)\n",
       "dtype: geom...</td>\n",
       "      <td>13.808972</td>\n",
       "    </tr>\n",
       "    <tr>\n",
       "      <th>981</th>\n",
       "      <td>Melloney</td>\n",
       "      <td>Temby</td>\n",
       "      <td>F</td>\n",
       "      <td>17</td>\n",
       "      <td>1954-10-05</td>\n",
       "      <td>Budget/Accounting Analyst IV</td>\n",
       "      <td>Financial Services</td>\n",
       "      <td>Affluent Customer</td>\n",
       "      <td>False</td>\n",
       "      <td>True</td>\n",
       "      <td>15</td>\n",
       "      <td>33475 Fair Oaks Junction</td>\n",
       "      <td>4702</td>\n",
       "      <td>Australia</td>\n",
       "      <td>2</td>\n",
       "      <td>997</td>\n",
       "      <td>0.35700</td>\n",
       "      <td>63</td>\n",
       "      <td>50-70</td>\n",
       "      <td>-23.279639</td>\n",
       "      <td>150.885772</td>\n",
       "      <td>QLD</td>\n",
       "      <td>137    POINT (150.87028 -23.28216)\n",
       "dtype: geom...</td>\n",
       "      <td>1.606935</td>\n",
       "    </tr>\n",
       "    <tr>\n",
       "      <th>982</th>\n",
       "      <td>Dickie</td>\n",
       "      <td>Cubbini</td>\n",
       "      <td>M</td>\n",
       "      <td>30</td>\n",
       "      <td>1952-12-17</td>\n",
       "      <td>Financial Advisor</td>\n",
       "      <td>Financial Services</td>\n",
       "      <td>Mass Customer</td>\n",
       "      <td>False</td>\n",
       "      <td>True</td>\n",
       "      <td>19</td>\n",
       "      <td>57666 Victoria Way</td>\n",
       "      <td>4215</td>\n",
       "      <td>Australia</td>\n",
       "      <td>2</td>\n",
       "      <td>997</td>\n",
       "      <td>0.35700</td>\n",
       "      <td>65</td>\n",
       "      <td>50-70</td>\n",
       "      <td>-27.967134</td>\n",
       "      <td>153.397952</td>\n",
       "      <td>QLD</td>\n",
       "      <td>137    POINT (153.46745 -27.92816)\n",
       "dtype: geom...</td>\n",
       "      <td>8.086314</td>\n",
       "    </tr>\n",
       "  </tbody>\n",
       "</table>\n",
       "<p>983 rows × 24 columns</p>\n",
       "</div>"
      ],
      "text/plain": [
       "    first_name  last_name gender  past_3_years_bike_related_purchases  \\\n",
       "0      Chickie    Brister      M                                   86   \n",
       "1        Peria   Rantoull      F                                    3   \n",
       "2      Madison       Lars      M                                   11   \n",
       "3       Andrea     Pendle      F                                   86   \n",
       "4     Philbert      Bangs      M                                   67   \n",
       "..         ...        ...    ...                                  ...   \n",
       "978   Lauralee      Fudge      F                                   83   \n",
       "979     Weidar  Etheridge      M                                   38   \n",
       "980      Datha   Fishburn      F                                   15   \n",
       "981   Melloney      Temby      F                                   17   \n",
       "982     Dickie    Cubbini      M                                   30   \n",
       "\n",
       "           DOB                     job_title job_industry_category  \\\n",
       "0   1957-07-12               General Manager         Manufacturing   \n",
       "1   1975-03-13             Financial Analyst    Financial Services   \n",
       "2   1967-01-19              Health Coach III                Health   \n",
       "3   1938-08-05                           NaN                   NaN   \n",
       "4   1966-03-03      Environmental Specialist                    IT   \n",
       "..         ...                           ...                   ...   \n",
       "978 1987-09-21                Research Nurse                Health   \n",
       "979 1959-07-13          Compensation Analyst    Financial Services   \n",
       "980 1990-07-02           Office Assistant IV                Retail   \n",
       "981 1954-10-05  Budget/Accounting Analyst IV    Financial Services   \n",
       "982 1952-12-17             Financial Advisor    Financial Services   \n",
       "\n",
       "        wealth_segment  deceased_indicator  owns_car  tenure  \\\n",
       "0        Mass Customer               False      True      14   \n",
       "1        Mass Customer               False     False       4   \n",
       "2        Mass Customer               False     False      19   \n",
       "3       High Net Worth               False      True      13   \n",
       "4        Mass Customer               False      True       6   \n",
       "..                 ...                 ...       ...     ...   \n",
       "978      Mass Customer               False     False      15   \n",
       "979      Mass Customer               False      True       6   \n",
       "980      Mass Customer               False     False       3   \n",
       "981  Affluent Customer               False      True      15   \n",
       "982      Mass Customer               False      True      19   \n",
       "\n",
       "                      address  postcode    country  property_valuation  Rank  \\\n",
       "0            45 Shopko Center      4500  Australia                   6     1   \n",
       "1        8350 Moulton Terrace      4500  Australia                   4   120   \n",
       "2      9503 New Castle Street      4500  Australia                   9   620   \n",
       "3     31281 Meadow Valley Way      4500  Australia                   6   760   \n",
       "4           02643 Moose Court      4500  Australia                   7   951   \n",
       "..                        ...       ...        ...                 ...   ...   \n",
       "978        9460 Monument Park      3277  Australia                   4   985   \n",
       "979            0535 Jay Point      2422  Australia                   4   994   \n",
       "980            6 Caliangt Way      3079  Australia                  12   994   \n",
       "981  33475 Fair Oaks Junction      4702  Australia                   2   997   \n",
       "982        57666 Victoria Way      4215  Australia                   2   997   \n",
       "\n",
       "       Value  customer_age age_group        lat        long state  \\\n",
       "0    1.71875            60     50-70 -27.307845  152.939438   QLD   \n",
       "1    1.26250            42     30-50 -27.307845  152.939438   QLD   \n",
       "2    0.75000            50     30-50 -27.307845  152.939438   QLD   \n",
       "3    0.63750            79     70-90 -27.307845  152.939438   QLD   \n",
       "4    0.45050            51     50-70 -27.307845  152.939438   QLD   \n",
       "..       ...           ...       ...        ...         ...   ...   \n",
       "978  0.40800            30     14-30 -38.389835  142.660221   VIC   \n",
       "979  0.38250            58     50-70 -31.973082  151.865806   NSW   \n",
       "980  0.38250            27     14-30 -37.772675  145.048573   VIC   \n",
       "981  0.35700            63     50-70 -23.279639  150.885772   QLD   \n",
       "982  0.35700            65     50-70 -27.967134  153.397952   QLD   \n",
       "\n",
       "                                         nearest_point  distance_to_coast  \n",
       "0    137    POINT (153.09291 -27.26030)\n",
       "dtype: geom...          16.061656  \n",
       "1    137    POINT (153.09291 -27.26030)\n",
       "dtype: geom...          16.061656  \n",
       "2    137    POINT (153.09291 -27.26030)\n",
       "dtype: geom...          16.061656  \n",
       "3    137    POINT (153.09291 -27.26030)\n",
       "dtype: geom...          16.061656  \n",
       "4    137    POINT (153.09291 -27.26030)\n",
       "dtype: geom...          16.061656  \n",
       "..                                                 ...                ...  \n",
       "978  137    POINT (142.62795 -38.50549)\n",
       "dtype: geom...          13.163628  \n",
       "979  137    POINT (152.56524 -32.31264)\n",
       "dtype: geom...          75.908758  \n",
       "980  137    POINT (145.03221 -37.89619)\n",
       "dtype: geom...          13.808972  \n",
       "981  137    POINT (150.87028 -23.28216)\n",
       "dtype: geom...           1.606935  \n",
       "982  137    POINT (153.46745 -27.92816)\n",
       "dtype: geom...           8.086314  \n",
       "\n",
       "[983 rows x 24 columns]"
      ]
     },
     "execution_count": 168,
     "metadata": {},
     "output_type": "execute_result"
    }
   ],
   "source": [
    "coastline_minima(Postcoded, \"lat\", \"long\", \"Australia\")"
   ]
  },
  {
   "cell_type": "markdown",
   "metadata": {},
   "source": []
  },
  {
   "cell_type": "markdown",
   "metadata": {},
   "source": [
    "### 3.2.4. Customer Property Valuation Features"
   ]
  },
  {
   "cell_type": "code",
   "execution_count": 169,
   "metadata": {},
   "outputs": [],
   "source": [
    "# Multiplying the valuation to the tenure\n",
    "\n",
    "Postcoded[\"tenure_valuation_mul\"] = Postcoded[\"tenure\"] * Postcoded[\"property_valuation\"]\n",
    "\n",
    "# Dividing the valuation by the tenure\n",
    "\n",
    "Postcoded[\"tenure_valuation_div\"] = Postcoded[\"tenure\"] / Postcoded[\"property_valuation\"]"
   ]
  },
  {
   "cell_type": "code",
   "execution_count": 170,
   "metadata": {},
   "outputs": [],
   "source": [
    "# Same for the train dataset\n",
    "\n",
    "Train[\"tenure_valuation_mul\"] = Train[\"tenure\"] * Train[\"property_valuation\"]\n",
    "Train[\"tenure_valuation_div\"] = Train[\"tenure\"] / Train[\"property_valuation\"]"
   ]
  },
  {
   "cell_type": "markdown",
   "metadata": {},
   "source": [
    "### 3.2.5. Adding a potential_customer_id column"
   ]
  },
  {
   "cell_type": "code",
   "execution_count": 171,
   "metadata": {},
   "outputs": [],
   "source": [
    "# Adding a potential_customer_id column\n",
    "\n",
    "Postcoded[\"potential_customer_id\"] = Postcoded.index + 1"
   ]
  },
  {
   "cell_type": "code",
   "execution_count": 172,
   "metadata": {},
   "outputs": [
    {
     "data": {
      "text/html": [
       "<div>\n",
       "<style scoped>\n",
       "    .dataframe tbody tr th:only-of-type {\n",
       "        vertical-align: middle;\n",
       "    }\n",
       "\n",
       "    .dataframe tbody tr th {\n",
       "        vertical-align: top;\n",
       "    }\n",
       "\n",
       "    .dataframe thead th {\n",
       "        text-align: right;\n",
       "    }\n",
       "</style>\n",
       "<table border=\"1\" class=\"dataframe\">\n",
       "  <thead>\n",
       "    <tr style=\"text-align: right;\">\n",
       "      <th></th>\n",
       "      <th>first_name</th>\n",
       "      <th>last_name</th>\n",
       "      <th>gender</th>\n",
       "      <th>past_3_years_bike_related_purchases</th>\n",
       "      <th>DOB</th>\n",
       "      <th>job_title</th>\n",
       "      <th>job_industry_category</th>\n",
       "      <th>wealth_segment</th>\n",
       "      <th>deceased_indicator</th>\n",
       "      <th>owns_car</th>\n",
       "      <th>tenure</th>\n",
       "      <th>address</th>\n",
       "      <th>postcode</th>\n",
       "      <th>country</th>\n",
       "      <th>property_valuation</th>\n",
       "      <th>Rank</th>\n",
       "      <th>Value</th>\n",
       "      <th>customer_age</th>\n",
       "      <th>age_group</th>\n",
       "      <th>lat</th>\n",
       "      <th>long</th>\n",
       "      <th>state</th>\n",
       "      <th>nearest_point</th>\n",
       "      <th>distance_to_coast</th>\n",
       "      <th>tenure_valuation_mul</th>\n",
       "      <th>tenure_valuation_div</th>\n",
       "      <th>potential_customer_id</th>\n",
       "    </tr>\n",
       "  </thead>\n",
       "  <tbody>\n",
       "    <tr>\n",
       "      <th>0</th>\n",
       "      <td>Chickie</td>\n",
       "      <td>Brister</td>\n",
       "      <td>M</td>\n",
       "      <td>86</td>\n",
       "      <td>1957-07-12</td>\n",
       "      <td>General Manager</td>\n",
       "      <td>Manufacturing</td>\n",
       "      <td>Mass Customer</td>\n",
       "      <td>False</td>\n",
       "      <td>True</td>\n",
       "      <td>14</td>\n",
       "      <td>45 Shopko Center</td>\n",
       "      <td>4500</td>\n",
       "      <td>Australia</td>\n",
       "      <td>6</td>\n",
       "      <td>1</td>\n",
       "      <td>1.71875</td>\n",
       "      <td>60</td>\n",
       "      <td>50-70</td>\n",
       "      <td>-27.307845</td>\n",
       "      <td>152.939438</td>\n",
       "      <td>QLD</td>\n",
       "      <td>137    POINT (153.09291 -27.26030)\n",
       "dtype: geom...</td>\n",
       "      <td>16.061656</td>\n",
       "      <td>84</td>\n",
       "      <td>2.333333</td>\n",
       "      <td>1</td>\n",
       "    </tr>\n",
       "    <tr>\n",
       "      <th>1</th>\n",
       "      <td>Peria</td>\n",
       "      <td>Rantoull</td>\n",
       "      <td>F</td>\n",
       "      <td>3</td>\n",
       "      <td>1975-03-13</td>\n",
       "      <td>Financial Analyst</td>\n",
       "      <td>Financial Services</td>\n",
       "      <td>Mass Customer</td>\n",
       "      <td>False</td>\n",
       "      <td>False</td>\n",
       "      <td>4</td>\n",
       "      <td>8350 Moulton Terrace</td>\n",
       "      <td>4500</td>\n",
       "      <td>Australia</td>\n",
       "      <td>4</td>\n",
       "      <td>120</td>\n",
       "      <td>1.26250</td>\n",
       "      <td>42</td>\n",
       "      <td>30-50</td>\n",
       "      <td>-27.307845</td>\n",
       "      <td>152.939438</td>\n",
       "      <td>QLD</td>\n",
       "      <td>137    POINT (153.09291 -27.26030)\n",
       "dtype: geom...</td>\n",
       "      <td>16.061656</td>\n",
       "      <td>16</td>\n",
       "      <td>1.000000</td>\n",
       "      <td>2</td>\n",
       "    </tr>\n",
       "    <tr>\n",
       "      <th>2</th>\n",
       "      <td>Madison</td>\n",
       "      <td>Lars</td>\n",
       "      <td>M</td>\n",
       "      <td>11</td>\n",
       "      <td>1967-01-19</td>\n",
       "      <td>Health Coach III</td>\n",
       "      <td>Health</td>\n",
       "      <td>Mass Customer</td>\n",
       "      <td>False</td>\n",
       "      <td>False</td>\n",
       "      <td>19</td>\n",
       "      <td>9503 New Castle Street</td>\n",
       "      <td>4500</td>\n",
       "      <td>Australia</td>\n",
       "      <td>9</td>\n",
       "      <td>620</td>\n",
       "      <td>0.75000</td>\n",
       "      <td>50</td>\n",
       "      <td>30-50</td>\n",
       "      <td>-27.307845</td>\n",
       "      <td>152.939438</td>\n",
       "      <td>QLD</td>\n",
       "      <td>137    POINT (153.09291 -27.26030)\n",
       "dtype: geom...</td>\n",
       "      <td>16.061656</td>\n",
       "      <td>171</td>\n",
       "      <td>2.111111</td>\n",
       "      <td>3</td>\n",
       "    </tr>\n",
       "    <tr>\n",
       "      <th>3</th>\n",
       "      <td>Andrea</td>\n",
       "      <td>Pendle</td>\n",
       "      <td>F</td>\n",
       "      <td>86</td>\n",
       "      <td>1938-08-05</td>\n",
       "      <td>NaN</td>\n",
       "      <td>NaN</td>\n",
       "      <td>High Net Worth</td>\n",
       "      <td>False</td>\n",
       "      <td>True</td>\n",
       "      <td>13</td>\n",
       "      <td>31281 Meadow Valley Way</td>\n",
       "      <td>4500</td>\n",
       "      <td>Australia</td>\n",
       "      <td>6</td>\n",
       "      <td>760</td>\n",
       "      <td>0.63750</td>\n",
       "      <td>79</td>\n",
       "      <td>70-90</td>\n",
       "      <td>-27.307845</td>\n",
       "      <td>152.939438</td>\n",
       "      <td>QLD</td>\n",
       "      <td>137    POINT (153.09291 -27.26030)\n",
       "dtype: geom...</td>\n",
       "      <td>16.061656</td>\n",
       "      <td>78</td>\n",
       "      <td>2.166667</td>\n",
       "      <td>4</td>\n",
       "    </tr>\n",
       "    <tr>\n",
       "      <th>4</th>\n",
       "      <td>Philbert</td>\n",
       "      <td>Bangs</td>\n",
       "      <td>M</td>\n",
       "      <td>67</td>\n",
       "      <td>1966-03-03</td>\n",
       "      <td>Environmental Specialist</td>\n",
       "      <td>IT</td>\n",
       "      <td>Mass Customer</td>\n",
       "      <td>False</td>\n",
       "      <td>True</td>\n",
       "      <td>6</td>\n",
       "      <td>02643 Moose Court</td>\n",
       "      <td>4500</td>\n",
       "      <td>Australia</td>\n",
       "      <td>7</td>\n",
       "      <td>951</td>\n",
       "      <td>0.45050</td>\n",
       "      <td>51</td>\n",
       "      <td>50-70</td>\n",
       "      <td>-27.307845</td>\n",
       "      <td>152.939438</td>\n",
       "      <td>QLD</td>\n",
       "      <td>137    POINT (153.09291 -27.26030)\n",
       "dtype: geom...</td>\n",
       "      <td>16.061656</td>\n",
       "      <td>42</td>\n",
       "      <td>0.857143</td>\n",
       "      <td>5</td>\n",
       "    </tr>\n",
       "    <tr>\n",
       "      <th>...</th>\n",
       "      <td>...</td>\n",
       "      <td>...</td>\n",
       "      <td>...</td>\n",
       "      <td>...</td>\n",
       "      <td>...</td>\n",
       "      <td>...</td>\n",
       "      <td>...</td>\n",
       "      <td>...</td>\n",
       "      <td>...</td>\n",
       "      <td>...</td>\n",
       "      <td>...</td>\n",
       "      <td>...</td>\n",
       "      <td>...</td>\n",
       "      <td>...</td>\n",
       "      <td>...</td>\n",
       "      <td>...</td>\n",
       "      <td>...</td>\n",
       "      <td>...</td>\n",
       "      <td>...</td>\n",
       "      <td>...</td>\n",
       "      <td>...</td>\n",
       "      <td>...</td>\n",
       "      <td>...</td>\n",
       "      <td>...</td>\n",
       "      <td>...</td>\n",
       "      <td>...</td>\n",
       "      <td>...</td>\n",
       "    </tr>\n",
       "    <tr>\n",
       "      <th>978</th>\n",
       "      <td>Lauralee</td>\n",
       "      <td>Fudge</td>\n",
       "      <td>F</td>\n",
       "      <td>83</td>\n",
       "      <td>1987-09-21</td>\n",
       "      <td>Research Nurse</td>\n",
       "      <td>Health</td>\n",
       "      <td>Mass Customer</td>\n",
       "      <td>False</td>\n",
       "      <td>False</td>\n",
       "      <td>15</td>\n",
       "      <td>9460 Monument Park</td>\n",
       "      <td>3277</td>\n",
       "      <td>Australia</td>\n",
       "      <td>4</td>\n",
       "      <td>985</td>\n",
       "      <td>0.40800</td>\n",
       "      <td>30</td>\n",
       "      <td>14-30</td>\n",
       "      <td>-38.389835</td>\n",
       "      <td>142.660221</td>\n",
       "      <td>VIC</td>\n",
       "      <td>137    POINT (142.62795 -38.50549)\n",
       "dtype: geom...</td>\n",
       "      <td>13.163628</td>\n",
       "      <td>60</td>\n",
       "      <td>3.750000</td>\n",
       "      <td>979</td>\n",
       "    </tr>\n",
       "    <tr>\n",
       "      <th>979</th>\n",
       "      <td>Weidar</td>\n",
       "      <td>Etheridge</td>\n",
       "      <td>M</td>\n",
       "      <td>38</td>\n",
       "      <td>1959-07-13</td>\n",
       "      <td>Compensation Analyst</td>\n",
       "      <td>Financial Services</td>\n",
       "      <td>Mass Customer</td>\n",
       "      <td>False</td>\n",
       "      <td>True</td>\n",
       "      <td>6</td>\n",
       "      <td>0535 Jay Point</td>\n",
       "      <td>2422</td>\n",
       "      <td>Australia</td>\n",
       "      <td>4</td>\n",
       "      <td>994</td>\n",
       "      <td>0.38250</td>\n",
       "      <td>58</td>\n",
       "      <td>50-70</td>\n",
       "      <td>-31.973082</td>\n",
       "      <td>151.865806</td>\n",
       "      <td>NSW</td>\n",
       "      <td>137    POINT (152.56524 -32.31264)\n",
       "dtype: geom...</td>\n",
       "      <td>75.908758</td>\n",
       "      <td>24</td>\n",
       "      <td>1.500000</td>\n",
       "      <td>980</td>\n",
       "    </tr>\n",
       "    <tr>\n",
       "      <th>980</th>\n",
       "      <td>Datha</td>\n",
       "      <td>Fishburn</td>\n",
       "      <td>F</td>\n",
       "      <td>15</td>\n",
       "      <td>1990-07-02</td>\n",
       "      <td>Office Assistant IV</td>\n",
       "      <td>Retail</td>\n",
       "      <td>Mass Customer</td>\n",
       "      <td>False</td>\n",
       "      <td>False</td>\n",
       "      <td>3</td>\n",
       "      <td>6 Caliangt Way</td>\n",
       "      <td>3079</td>\n",
       "      <td>Australia</td>\n",
       "      <td>12</td>\n",
       "      <td>994</td>\n",
       "      <td>0.38250</td>\n",
       "      <td>27</td>\n",
       "      <td>14-30</td>\n",
       "      <td>-37.772675</td>\n",
       "      <td>145.048573</td>\n",
       "      <td>VIC</td>\n",
       "      <td>137    POINT (145.03221 -37.89619)\n",
       "dtype: geom...</td>\n",
       "      <td>13.808972</td>\n",
       "      <td>36</td>\n",
       "      <td>0.250000</td>\n",
       "      <td>981</td>\n",
       "    </tr>\n",
       "    <tr>\n",
       "      <th>981</th>\n",
       "      <td>Melloney</td>\n",
       "      <td>Temby</td>\n",
       "      <td>F</td>\n",
       "      <td>17</td>\n",
       "      <td>1954-10-05</td>\n",
       "      <td>Budget/Accounting Analyst IV</td>\n",
       "      <td>Financial Services</td>\n",
       "      <td>Affluent Customer</td>\n",
       "      <td>False</td>\n",
       "      <td>True</td>\n",
       "      <td>15</td>\n",
       "      <td>33475 Fair Oaks Junction</td>\n",
       "      <td>4702</td>\n",
       "      <td>Australia</td>\n",
       "      <td>2</td>\n",
       "      <td>997</td>\n",
       "      <td>0.35700</td>\n",
       "      <td>63</td>\n",
       "      <td>50-70</td>\n",
       "      <td>-23.279639</td>\n",
       "      <td>150.885772</td>\n",
       "      <td>QLD</td>\n",
       "      <td>137    POINT (150.87028 -23.28216)\n",
       "dtype: geom...</td>\n",
       "      <td>1.606935</td>\n",
       "      <td>30</td>\n",
       "      <td>7.500000</td>\n",
       "      <td>982</td>\n",
       "    </tr>\n",
       "    <tr>\n",
       "      <th>982</th>\n",
       "      <td>Dickie</td>\n",
       "      <td>Cubbini</td>\n",
       "      <td>M</td>\n",
       "      <td>30</td>\n",
       "      <td>1952-12-17</td>\n",
       "      <td>Financial Advisor</td>\n",
       "      <td>Financial Services</td>\n",
       "      <td>Mass Customer</td>\n",
       "      <td>False</td>\n",
       "      <td>True</td>\n",
       "      <td>19</td>\n",
       "      <td>57666 Victoria Way</td>\n",
       "      <td>4215</td>\n",
       "      <td>Australia</td>\n",
       "      <td>2</td>\n",
       "      <td>997</td>\n",
       "      <td>0.35700</td>\n",
       "      <td>65</td>\n",
       "      <td>50-70</td>\n",
       "      <td>-27.967134</td>\n",
       "      <td>153.397952</td>\n",
       "      <td>QLD</td>\n",
       "      <td>137    POINT (153.46745 -27.92816)\n",
       "dtype: geom...</td>\n",
       "      <td>8.086314</td>\n",
       "      <td>38</td>\n",
       "      <td>9.500000</td>\n",
       "      <td>983</td>\n",
       "    </tr>\n",
       "  </tbody>\n",
       "</table>\n",
       "<p>983 rows × 27 columns</p>\n",
       "</div>"
      ],
      "text/plain": [
       "    first_name  last_name gender  past_3_years_bike_related_purchases  \\\n",
       "0      Chickie    Brister      M                                   86   \n",
       "1        Peria   Rantoull      F                                    3   \n",
       "2      Madison       Lars      M                                   11   \n",
       "3       Andrea     Pendle      F                                   86   \n",
       "4     Philbert      Bangs      M                                   67   \n",
       "..         ...        ...    ...                                  ...   \n",
       "978   Lauralee      Fudge      F                                   83   \n",
       "979     Weidar  Etheridge      M                                   38   \n",
       "980      Datha   Fishburn      F                                   15   \n",
       "981   Melloney      Temby      F                                   17   \n",
       "982     Dickie    Cubbini      M                                   30   \n",
       "\n",
       "           DOB                     job_title job_industry_category  \\\n",
       "0   1957-07-12               General Manager         Manufacturing   \n",
       "1   1975-03-13             Financial Analyst    Financial Services   \n",
       "2   1967-01-19              Health Coach III                Health   \n",
       "3   1938-08-05                           NaN                   NaN   \n",
       "4   1966-03-03      Environmental Specialist                    IT   \n",
       "..         ...                           ...                   ...   \n",
       "978 1987-09-21                Research Nurse                Health   \n",
       "979 1959-07-13          Compensation Analyst    Financial Services   \n",
       "980 1990-07-02           Office Assistant IV                Retail   \n",
       "981 1954-10-05  Budget/Accounting Analyst IV    Financial Services   \n",
       "982 1952-12-17             Financial Advisor    Financial Services   \n",
       "\n",
       "        wealth_segment  deceased_indicator  owns_car  tenure  \\\n",
       "0        Mass Customer               False      True      14   \n",
       "1        Mass Customer               False     False       4   \n",
       "2        Mass Customer               False     False      19   \n",
       "3       High Net Worth               False      True      13   \n",
       "4        Mass Customer               False      True       6   \n",
       "..                 ...                 ...       ...     ...   \n",
       "978      Mass Customer               False     False      15   \n",
       "979      Mass Customer               False      True       6   \n",
       "980      Mass Customer               False     False       3   \n",
       "981  Affluent Customer               False      True      15   \n",
       "982      Mass Customer               False      True      19   \n",
       "\n",
       "                      address  postcode    country  property_valuation  Rank  \\\n",
       "0            45 Shopko Center      4500  Australia                   6     1   \n",
       "1        8350 Moulton Terrace      4500  Australia                   4   120   \n",
       "2      9503 New Castle Street      4500  Australia                   9   620   \n",
       "3     31281 Meadow Valley Way      4500  Australia                   6   760   \n",
       "4           02643 Moose Court      4500  Australia                   7   951   \n",
       "..                        ...       ...        ...                 ...   ...   \n",
       "978        9460 Monument Park      3277  Australia                   4   985   \n",
       "979            0535 Jay Point      2422  Australia                   4   994   \n",
       "980            6 Caliangt Way      3079  Australia                  12   994   \n",
       "981  33475 Fair Oaks Junction      4702  Australia                   2   997   \n",
       "982        57666 Victoria Way      4215  Australia                   2   997   \n",
       "\n",
       "       Value  customer_age age_group        lat        long state  \\\n",
       "0    1.71875            60     50-70 -27.307845  152.939438   QLD   \n",
       "1    1.26250            42     30-50 -27.307845  152.939438   QLD   \n",
       "2    0.75000            50     30-50 -27.307845  152.939438   QLD   \n",
       "3    0.63750            79     70-90 -27.307845  152.939438   QLD   \n",
       "4    0.45050            51     50-70 -27.307845  152.939438   QLD   \n",
       "..       ...           ...       ...        ...         ...   ...   \n",
       "978  0.40800            30     14-30 -38.389835  142.660221   VIC   \n",
       "979  0.38250            58     50-70 -31.973082  151.865806   NSW   \n",
       "980  0.38250            27     14-30 -37.772675  145.048573   VIC   \n",
       "981  0.35700            63     50-70 -23.279639  150.885772   QLD   \n",
       "982  0.35700            65     50-70 -27.967134  153.397952   QLD   \n",
       "\n",
       "                                         nearest_point  distance_to_coast  \\\n",
       "0    137    POINT (153.09291 -27.26030)\n",
       "dtype: geom...          16.061656   \n",
       "1    137    POINT (153.09291 -27.26030)\n",
       "dtype: geom...          16.061656   \n",
       "2    137    POINT (153.09291 -27.26030)\n",
       "dtype: geom...          16.061656   \n",
       "3    137    POINT (153.09291 -27.26030)\n",
       "dtype: geom...          16.061656   \n",
       "4    137    POINT (153.09291 -27.26030)\n",
       "dtype: geom...          16.061656   \n",
       "..                                                 ...                ...   \n",
       "978  137    POINT (142.62795 -38.50549)\n",
       "dtype: geom...          13.163628   \n",
       "979  137    POINT (152.56524 -32.31264)\n",
       "dtype: geom...          75.908758   \n",
       "980  137    POINT (145.03221 -37.89619)\n",
       "dtype: geom...          13.808972   \n",
       "981  137    POINT (150.87028 -23.28216)\n",
       "dtype: geom...           1.606935   \n",
       "982  137    POINT (153.46745 -27.92816)\n",
       "dtype: geom...           8.086314   \n",
       "\n",
       "     tenure_valuation_mul  tenure_valuation_div  potential_customer_id  \n",
       "0                      84              2.333333                      1  \n",
       "1                      16              1.000000                      2  \n",
       "2                     171              2.111111                      3  \n",
       "3                      78              2.166667                      4  \n",
       "4                      42              0.857143                      5  \n",
       "..                    ...                   ...                    ...  \n",
       "978                    60              3.750000                    979  \n",
       "979                    24              1.500000                    980  \n",
       "980                    36              0.250000                    981  \n",
       "981                    30              7.500000                    982  \n",
       "982                    38              9.500000                    983  \n",
       "\n",
       "[983 rows x 27 columns]"
      ]
     },
     "execution_count": 172,
     "metadata": {},
     "output_type": "execute_result"
    }
   ],
   "source": [
    "Postcoded"
   ]
  },
  {
   "cell_type": "markdown",
   "metadata": {},
   "source": [
    "## 3.3. Consistency and Encoding"
   ]
  },
  {
   "cell_type": "markdown",
   "metadata": {},
   "source": [
    "### 3.3.1. Checking the consistency of the train and test data\n",
    "- We will store the training data in a dataframe called `data`.\n",
    "- We will also drop all the columns that might add a leakage to the model."
   ]
  },
  {
   "cell_type": "code",
   "execution_count": 173,
   "metadata": {},
   "outputs": [],
   "source": [
    "# display all columns pandas\n",
    "pd.set_option(\"display.max_columns\", None)\n",
    "train_df_all = Train.copy()\n",
    "test_df_all = Postcoded.copy()"
   ]
  },
  {
   "cell_type": "code",
   "execution_count": 174,
   "metadata": {},
   "outputs": [],
   "source": [
    "# Dropping the columns that arent numerical or categorical\n",
    "test_df = test_df_all.drop(['nearest_point', 'first_name', 'last_name', 'address', 'country', 'postcode', 'DOB'], axis=1)"
   ]
  },
  {
   "cell_type": "code",
   "execution_count": 175,
   "metadata": {},
   "outputs": [
    {
     "name": "stdout",
     "output_type": "stream",
     "text": [
      "Index(['gender', 'past_3_years_bike_related_purchases', 'job_title',\n",
      "       'job_industry_category', 'wealth_segment', 'deceased_indicator',\n",
      "       'owns_car', 'tenure', 'property_valuation', 'lat', 'long', 'state',\n",
      "       'customer_age', 'age_group', 'distance_to_coast',\n",
      "       'tenure_valuation_mul', 'tenure_valuation_div'],\n",
      "      dtype='object')\n",
      "17\n"
     ]
    }
   ],
   "source": [
    "# Getting the common columns\n",
    "common_cols = train_df_all.columns.intersection(test_df.columns)\n",
    "print(common_cols)\n",
    "print(len(common_cols))"
   ]
  },
  {
   "cell_type": "code",
   "execution_count": 176,
   "metadata": {},
   "outputs": [],
   "source": [
    "# Drop all the columns that arent common but keep customer_category\n",
    "cols = [\n",
    "    \"gender\",\n",
    "    \"past_3_years_bike_related_purchases\",\n",
    "    \"job_title\",\n",
    "    \"job_industry_category\",\n",
    "    \"wealth_segment\",\n",
    "    \"deceased_indicator\",\n",
    "    \"owns_car\",\n",
    "    \"tenure\",\n",
    "    \"property_valuation\",\n",
    "    \"lat\",\n",
    "    \"long\",\n",
    "    \"state\",\n",
    "    \"customer_age\",\n",
    "    \"age_group\",\n",
    "    \"distance_to_coast\",\n",
    "    \"tenure_valuation_mul\",\n",
    "    \"tenure_valuation_div\",\n",
    "    \"customer_category\",\n",
    "]\n",
    "\n",
    "data = train_df_all[cols]"
   ]
  },
  {
   "cell_type": "markdown",
   "metadata": {},
   "source": [
    "### 3.3.2. Target Variable and Encoding"
   ]
  },
  {
   "cell_type": "code",
   "execution_count": 177,
   "metadata": {},
   "outputs": [],
   "source": [
    "# Defining the target variable\n",
    "\n",
    "target_name = \"customer_category\"\n",
    "target = data[target_name]\n",
    "\n",
    "data = data.drop(columns=target_name)\n"
   ]
  },
  {
   "cell_type": "markdown",
   "metadata": {},
   "source": [
    "### 3.3.3. Numerical and Categorical Features"
   ]
  },
  {
   "cell_type": "code",
   "execution_count": 178,
   "metadata": {},
   "outputs": [
    {
     "name": "stdout",
     "output_type": "stream",
     "text": [
      "<class 'pandas.core.frame.DataFrame'>\n",
      "RangeIndex: 19513 entries, 0 to 19512\n",
      "Data columns (total 17 columns):\n",
      " #   Column                               Non-Null Count  Dtype  \n",
      "---  ------                               --------------  -----  \n",
      " 0   gender                               19513 non-null  object \n",
      " 1   past_3_years_bike_related_purchases  19513 non-null  int64  \n",
      " 2   job_title                            17173 non-null  object \n",
      " 3   job_industry_category                16291 non-null  object \n",
      " 4   wealth_segment                       19513 non-null  object \n",
      " 5   deceased_indicator                   19513 non-null  bool   \n",
      " 6   owns_car                             19513 non-null  bool   \n",
      " 7   tenure                               19513 non-null  int64  \n",
      " 8   property_valuation                   19513 non-null  int64  \n",
      " 9   lat                                  19513 non-null  float64\n",
      " 10  long                                 19513 non-null  float64\n",
      " 11  state                                19513 non-null  object \n",
      " 12  customer_age                         19513 non-null  int64  \n",
      " 13  age_group                            19513 non-null  object \n",
      " 14  distance_to_coast                    19513 non-null  float64\n",
      " 15  tenure_valuation_mul                 19513 non-null  int64  \n",
      " 16  tenure_valuation_div                 19513 non-null  float64\n",
      "dtypes: bool(2), float64(4), int64(5), object(6)\n",
      "memory usage: 2.3+ MB\n"
     ]
    }
   ],
   "source": [
    "data.info()"
   ]
  },
  {
   "cell_type": "code",
   "execution_count": 179,
   "metadata": {},
   "outputs": [
    {
     "name": "stdout",
     "output_type": "stream",
     "text": [
      "<class 'pandas.core.frame.DataFrame'>\n",
      "RangeIndex: 19513 entries, 0 to 19512\n",
      "Data columns (total 17 columns):\n",
      " #   Column                               Non-Null Count  Dtype  \n",
      "---  ------                               --------------  -----  \n",
      " 0   gender                               19513 non-null  object \n",
      " 1   past_3_years_bike_related_purchases  19513 non-null  int64  \n",
      " 2   job_title                            17173 non-null  object \n",
      " 3   job_industry_category                16291 non-null  object \n",
      " 4   wealth_segment                       19513 non-null  object \n",
      " 5   deceased_indicator                   19513 non-null  object \n",
      " 6   owns_car                             19513 non-null  object \n",
      " 7   tenure                               19513 non-null  int64  \n",
      " 8   property_valuation                   19513 non-null  int64  \n",
      " 9   lat                                  19513 non-null  float64\n",
      " 10  long                                 19513 non-null  float64\n",
      " 11  state                                19513 non-null  object \n",
      " 12  customer_age                         19513 non-null  int64  \n",
      " 13  age_group                            19513 non-null  object \n",
      " 14  distance_to_coast                    19513 non-null  float64\n",
      " 15  tenure_valuation_mul                 19513 non-null  int64  \n",
      " 16  tenure_valuation_div                 19513 non-null  float64\n",
      "dtypes: float64(4), int64(5), object(8)\n",
      "memory usage: 2.5+ MB\n"
     ]
    }
   ],
   "source": [
    "# Converting all the boolean columns to object type\n",
    "\n",
    "bool_cols = data.columns[data.dtypes.eq(\"bool\")]\n",
    "data[bool_cols] = data[bool_cols].astype(\"object\")\n",
    "\n",
    "data.info()"
   ]
  },
  {
   "cell_type": "code",
   "execution_count": 180,
   "metadata": {},
   "outputs": [
    {
     "name": "stdout",
     "output_type": "stream",
     "text": [
      "Number of numerical columns: 9\n",
      "Number of categorical columns: 8\n",
      "Total number of columns: 17\n"
     ]
    }
   ],
   "source": [
    "from sklearn.compose import make_column_selector as selector\n",
    "\n",
    "numerical_columns_selector = selector(dtype_exclude=object)\n",
    "category_columns_selector = selector(dtype_include=object)\n",
    "\n",
    "numerical_columns = numerical_columns_selector(data)\n",
    "category_columns = category_columns_selector(data)\n",
    "\n",
    "# Print the lengths of numerical_columns, category_columns, and data.columns\n",
    "print(f\"Number of numerical columns: {len(numerical_columns)}\")\n",
    "print(f\"Number of categorical columns: {len(category_columns)}\")\n",
    "print(f\"Total number of columns: {len(data.columns)}\")"
   ]
  },
  {
   "cell_type": "markdown",
   "metadata": {},
   "source": [
    "## 3.4 Building a Logistic Regression Model"
   ]
  },
  {
   "cell_type": "code",
   "execution_count": 181,
   "metadata": {},
   "outputs": [],
   "source": [
    "# One-hot encoding the categorical columns and standardizing the numerical columns\n",
    "\n",
    "from sklearn.preprocessing import OneHotEncoder, StandardScaler\n",
    "\n",
    "categorical_preprocessor = OneHotEncoder(handle_unknown=\"ignore\")\n",
    "numerical_preprocessor = StandardScaler()"
   ]
  },
  {
   "cell_type": "code",
   "execution_count": 182,
   "metadata": {},
   "outputs": [],
   "source": [
    "# Creating the Transformer and preprocessor object\n",
    "from sklearn.compose import ColumnTransformer\n",
    "\n",
    "preprocessor = ColumnTransformer(\n",
    "    [\n",
    "        (\"cat-preprocessor\", categorical_preprocessor, category_columns),\n",
    "        (\"num-preprocessor\", numerical_preprocessor, numerical_columns),\n",
    "    ]\n",
    ")"
   ]
  },
  {
   "cell_type": "code",
   "execution_count": 183,
   "metadata": {},
   "outputs": [
    {
     "data": {
      "text/html": [
       "<style>#sk-container-id-17 {color: black;}#sk-container-id-17 pre{padding: 0;}#sk-container-id-17 div.sk-toggleable {background-color: white;}#sk-container-id-17 label.sk-toggleable__label {cursor: pointer;display: block;width: 100%;margin-bottom: 0;padding: 0.3em;box-sizing: border-box;text-align: center;}#sk-container-id-17 label.sk-toggleable__label-arrow:before {content: \"▸\";float: left;margin-right: 0.25em;color: #696969;}#sk-container-id-17 label.sk-toggleable__label-arrow:hover:before {color: black;}#sk-container-id-17 div.sk-estimator:hover label.sk-toggleable__label-arrow:before {color: black;}#sk-container-id-17 div.sk-toggleable__content {max-height: 0;max-width: 0;overflow: hidden;text-align: left;background-color: #f0f8ff;}#sk-container-id-17 div.sk-toggleable__content pre {margin: 0.2em;color: black;border-radius: 0.25em;background-color: #f0f8ff;}#sk-container-id-17 input.sk-toggleable__control:checked~div.sk-toggleable__content {max-height: 200px;max-width: 100%;overflow: auto;}#sk-container-id-17 input.sk-toggleable__control:checked~label.sk-toggleable__label-arrow:before {content: \"▾\";}#sk-container-id-17 div.sk-estimator input.sk-toggleable__control:checked~label.sk-toggleable__label {background-color: #d4ebff;}#sk-container-id-17 div.sk-label input.sk-toggleable__control:checked~label.sk-toggleable__label {background-color: #d4ebff;}#sk-container-id-17 input.sk-hidden--visually {border: 0;clip: rect(1px 1px 1px 1px);clip: rect(1px, 1px, 1px, 1px);height: 1px;margin: -1px;overflow: hidden;padding: 0;position: absolute;width: 1px;}#sk-container-id-17 div.sk-estimator {font-family: monospace;background-color: #f0f8ff;border: 1px dotted black;border-radius: 0.25em;box-sizing: border-box;margin-bottom: 0.5em;}#sk-container-id-17 div.sk-estimator:hover {background-color: #d4ebff;}#sk-container-id-17 div.sk-parallel-item::after {content: \"\";width: 100%;border-bottom: 1px solid gray;flex-grow: 1;}#sk-container-id-17 div.sk-label:hover label.sk-toggleable__label {background-color: #d4ebff;}#sk-container-id-17 div.sk-serial::before {content: \"\";position: absolute;border-left: 1px solid gray;box-sizing: border-box;top: 0;bottom: 0;left: 50%;z-index: 0;}#sk-container-id-17 div.sk-serial {display: flex;flex-direction: column;align-items: center;background-color: white;padding-right: 0.2em;padding-left: 0.2em;position: relative;}#sk-container-id-17 div.sk-item {position: relative;z-index: 1;}#sk-container-id-17 div.sk-parallel {display: flex;align-items: stretch;justify-content: center;background-color: white;position: relative;}#sk-container-id-17 div.sk-item::before, #sk-container-id-17 div.sk-parallel-item::before {content: \"\";position: absolute;border-left: 1px solid gray;box-sizing: border-box;top: 0;bottom: 0;left: 50%;z-index: -1;}#sk-container-id-17 div.sk-parallel-item {display: flex;flex-direction: column;z-index: 1;position: relative;background-color: white;}#sk-container-id-17 div.sk-parallel-item:first-child::after {align-self: flex-end;width: 50%;}#sk-container-id-17 div.sk-parallel-item:last-child::after {align-self: flex-start;width: 50%;}#sk-container-id-17 div.sk-parallel-item:only-child::after {width: 0;}#sk-container-id-17 div.sk-dashed-wrapped {border: 1px dashed gray;margin: 0 0.4em 0.5em 0.4em;box-sizing: border-box;padding-bottom: 0.4em;background-color: white;}#sk-container-id-17 div.sk-label label {font-family: monospace;font-weight: bold;display: inline-block;line-height: 1.2em;}#sk-container-id-17 div.sk-label-container {text-align: center;}#sk-container-id-17 div.sk-container {/* jupyter's `normalize.less` sets `[hidden] { display: none; }` but bootstrap.min.css set `[hidden] { display: none !important; }` so we also need the `!important` here to be able to override the default hidden behavior on the sphinx rendered scikit-learn.org. See: https://github.com/scikit-learn/scikit-learn/issues/21755 */display: inline-block !important;position: relative;}#sk-container-id-17 div.sk-text-repr-fallback {display: none;}</style><div id=\"sk-container-id-17\" class=\"sk-top-container\"><div class=\"sk-text-repr-fallback\"><pre>Pipeline(steps=[(&#x27;columntransformer&#x27;,\n",
       "                 ColumnTransformer(transformers=[(&#x27;cat-preprocessor&#x27;,\n",
       "                                                  OneHotEncoder(handle_unknown=&#x27;ignore&#x27;),\n",
       "                                                  [&#x27;gender&#x27;, &#x27;job_title&#x27;,\n",
       "                                                   &#x27;job_industry_category&#x27;,\n",
       "                                                   &#x27;wealth_segment&#x27;,\n",
       "                                                   &#x27;deceased_indicator&#x27;,\n",
       "                                                   &#x27;owns_car&#x27;, &#x27;state&#x27;,\n",
       "                                                   &#x27;age_group&#x27;]),\n",
       "                                                 (&#x27;num-preprocessor&#x27;,\n",
       "                                                  StandardScaler(),\n",
       "                                                  [&#x27;past_3_years_bike_related_purchases&#x27;,\n",
       "                                                   &#x27;tenure&#x27;,\n",
       "                                                   &#x27;property_valuation&#x27;, &#x27;lat&#x27;,\n",
       "                                                   &#x27;long&#x27;, &#x27;customer_age&#x27;,\n",
       "                                                   &#x27;distance_to_coast&#x27;,\n",
       "                                                   &#x27;tenure_valuation_mul&#x27;,\n",
       "                                                   &#x27;tenure_valuation_div&#x27;])])),\n",
       "                (&#x27;logisticregression&#x27;, LogisticRegression(max_iter=1000))])</pre><b>In a Jupyter environment, please rerun this cell to show the HTML representation or trust the notebook. <br />On GitHub, the HTML representation is unable to render, please try loading this page with nbviewer.org.</b></div><div class=\"sk-container\" hidden><div class=\"sk-item sk-dashed-wrapped\"><div class=\"sk-label-container\"><div class=\"sk-label sk-toggleable\"><input class=\"sk-toggleable__control sk-hidden--visually\" id=\"sk-estimator-id-122\" type=\"checkbox\" ><label for=\"sk-estimator-id-122\" class=\"sk-toggleable__label sk-toggleable__label-arrow\">Pipeline</label><div class=\"sk-toggleable__content\"><pre>Pipeline(steps=[(&#x27;columntransformer&#x27;,\n",
       "                 ColumnTransformer(transformers=[(&#x27;cat-preprocessor&#x27;,\n",
       "                                                  OneHotEncoder(handle_unknown=&#x27;ignore&#x27;),\n",
       "                                                  [&#x27;gender&#x27;, &#x27;job_title&#x27;,\n",
       "                                                   &#x27;job_industry_category&#x27;,\n",
       "                                                   &#x27;wealth_segment&#x27;,\n",
       "                                                   &#x27;deceased_indicator&#x27;,\n",
       "                                                   &#x27;owns_car&#x27;, &#x27;state&#x27;,\n",
       "                                                   &#x27;age_group&#x27;]),\n",
       "                                                 (&#x27;num-preprocessor&#x27;,\n",
       "                                                  StandardScaler(),\n",
       "                                                  [&#x27;past_3_years_bike_related_purchases&#x27;,\n",
       "                                                   &#x27;tenure&#x27;,\n",
       "                                                   &#x27;property_valuation&#x27;, &#x27;lat&#x27;,\n",
       "                                                   &#x27;long&#x27;, &#x27;customer_age&#x27;,\n",
       "                                                   &#x27;distance_to_coast&#x27;,\n",
       "                                                   &#x27;tenure_valuation_mul&#x27;,\n",
       "                                                   &#x27;tenure_valuation_div&#x27;])])),\n",
       "                (&#x27;logisticregression&#x27;, LogisticRegression(max_iter=1000))])</pre></div></div></div><div class=\"sk-serial\"><div class=\"sk-item sk-dashed-wrapped\"><div class=\"sk-label-container\"><div class=\"sk-label sk-toggleable\"><input class=\"sk-toggleable__control sk-hidden--visually\" id=\"sk-estimator-id-123\" type=\"checkbox\" ><label for=\"sk-estimator-id-123\" class=\"sk-toggleable__label sk-toggleable__label-arrow\">columntransformer: ColumnTransformer</label><div class=\"sk-toggleable__content\"><pre>ColumnTransformer(transformers=[(&#x27;cat-preprocessor&#x27;,\n",
       "                                 OneHotEncoder(handle_unknown=&#x27;ignore&#x27;),\n",
       "                                 [&#x27;gender&#x27;, &#x27;job_title&#x27;,\n",
       "                                  &#x27;job_industry_category&#x27;, &#x27;wealth_segment&#x27;,\n",
       "                                  &#x27;deceased_indicator&#x27;, &#x27;owns_car&#x27;, &#x27;state&#x27;,\n",
       "                                  &#x27;age_group&#x27;]),\n",
       "                                (&#x27;num-preprocessor&#x27;, StandardScaler(),\n",
       "                                 [&#x27;past_3_years_bike_related_purchases&#x27;,\n",
       "                                  &#x27;tenure&#x27;, &#x27;property_valuation&#x27;, &#x27;lat&#x27;, &#x27;long&#x27;,\n",
       "                                  &#x27;customer_age&#x27;, &#x27;distance_to_coast&#x27;,\n",
       "                                  &#x27;tenure_valuation_mul&#x27;,\n",
       "                                  &#x27;tenure_valuation_div&#x27;])])</pre></div></div></div><div class=\"sk-parallel\"><div class=\"sk-parallel-item\"><div class=\"sk-item\"><div class=\"sk-label-container\"><div class=\"sk-label sk-toggleable\"><input class=\"sk-toggleable__control sk-hidden--visually\" id=\"sk-estimator-id-124\" type=\"checkbox\" ><label for=\"sk-estimator-id-124\" class=\"sk-toggleable__label sk-toggleable__label-arrow\">cat-preprocessor</label><div class=\"sk-toggleable__content\"><pre>[&#x27;gender&#x27;, &#x27;job_title&#x27;, &#x27;job_industry_category&#x27;, &#x27;wealth_segment&#x27;, &#x27;deceased_indicator&#x27;, &#x27;owns_car&#x27;, &#x27;state&#x27;, &#x27;age_group&#x27;]</pre></div></div></div><div class=\"sk-serial\"><div class=\"sk-item\"><div class=\"sk-estimator sk-toggleable\"><input class=\"sk-toggleable__control sk-hidden--visually\" id=\"sk-estimator-id-125\" type=\"checkbox\" ><label for=\"sk-estimator-id-125\" class=\"sk-toggleable__label sk-toggleable__label-arrow\">OneHotEncoder</label><div class=\"sk-toggleable__content\"><pre>OneHotEncoder(handle_unknown=&#x27;ignore&#x27;)</pre></div></div></div></div></div></div><div class=\"sk-parallel-item\"><div class=\"sk-item\"><div class=\"sk-label-container\"><div class=\"sk-label sk-toggleable\"><input class=\"sk-toggleable__control sk-hidden--visually\" id=\"sk-estimator-id-126\" type=\"checkbox\" ><label for=\"sk-estimator-id-126\" class=\"sk-toggleable__label sk-toggleable__label-arrow\">num-preprocessor</label><div class=\"sk-toggleable__content\"><pre>[&#x27;past_3_years_bike_related_purchases&#x27;, &#x27;tenure&#x27;, &#x27;property_valuation&#x27;, &#x27;lat&#x27;, &#x27;long&#x27;, &#x27;customer_age&#x27;, &#x27;distance_to_coast&#x27;, &#x27;tenure_valuation_mul&#x27;, &#x27;tenure_valuation_div&#x27;]</pre></div></div></div><div class=\"sk-serial\"><div class=\"sk-item\"><div class=\"sk-estimator sk-toggleable\"><input class=\"sk-toggleable__control sk-hidden--visually\" id=\"sk-estimator-id-127\" type=\"checkbox\" ><label for=\"sk-estimator-id-127\" class=\"sk-toggleable__label sk-toggleable__label-arrow\">StandardScaler</label><div class=\"sk-toggleable__content\"><pre>StandardScaler()</pre></div></div></div></div></div></div></div></div><div class=\"sk-item\"><div class=\"sk-estimator sk-toggleable\"><input class=\"sk-toggleable__control sk-hidden--visually\" id=\"sk-estimator-id-128\" type=\"checkbox\" ><label for=\"sk-estimator-id-128\" class=\"sk-toggleable__label sk-toggleable__label-arrow\">LogisticRegression</label><div class=\"sk-toggleable__content\"><pre>LogisticRegression(max_iter=1000)</pre></div></div></div></div></div></div></div>"
      ],
      "text/plain": [
       "Pipeline(steps=[('columntransformer',\n",
       "                 ColumnTransformer(transformers=[('cat-preprocessor',\n",
       "                                                  OneHotEncoder(handle_unknown='ignore'),\n",
       "                                                  ['gender', 'job_title',\n",
       "                                                   'job_industry_category',\n",
       "                                                   'wealth_segment',\n",
       "                                                   'deceased_indicator',\n",
       "                                                   'owns_car', 'state',\n",
       "                                                   'age_group']),\n",
       "                                                 ('num-preprocessor',\n",
       "                                                  StandardScaler(),\n",
       "                                                  ['past_3_years_bike_related_purchases',\n",
       "                                                   'tenure',\n",
       "                                                   'property_valuation', 'lat',\n",
       "                                                   'long', 'customer_age',\n",
       "                                                   'distance_to_coast',\n",
       "                                                   'tenure_valuation_mul',\n",
       "                                                   'tenure_valuation_div'])])),\n",
       "                ('logisticregression', LogisticRegression(max_iter=1000))])"
      ]
     },
     "execution_count": 183,
     "metadata": {},
     "output_type": "execute_result"
    }
   ],
   "source": [
    "# Building a model with a pipeline\n",
    "\n",
    "from sklearn.linear_model import LogisticRegression\n",
    "from sklearn.pipeline import make_pipeline\n",
    "\n",
    "model_1 = make_pipeline(preprocessor, LogisticRegression(max_iter=1000))\n",
    "model_1"
   ]
  },
  {
   "cell_type": "code",
   "execution_count": 184,
   "metadata": {},
   "outputs": [],
   "source": [
    "# Making the train-test split\n",
    "\n",
    "from sklearn.model_selection import train_test_split\n",
    "\n",
    "data_train, data_test, target_train, target_test = train_test_split(\n",
    "    data, target, test_size=0.2, random_state=42\n",
    ")"
   ]
  },
  {
   "cell_type": "code",
   "execution_count": 185,
   "metadata": {},
   "outputs": [],
   "source": [
    "_ = model_1.fit(data_train, target_train)"
   ]
  },
  {
   "cell_type": "code",
   "execution_count": 186,
   "metadata": {},
   "outputs": [
    {
     "data": {
      "text/html": [
       "<div>\n",
       "<style scoped>\n",
       "    .dataframe tbody tr th:only-of-type {\n",
       "        vertical-align: middle;\n",
       "    }\n",
       "\n",
       "    .dataframe tbody tr th {\n",
       "        vertical-align: top;\n",
       "    }\n",
       "\n",
       "    .dataframe thead th {\n",
       "        text-align: right;\n",
       "    }\n",
       "</style>\n",
       "<table border=\"1\" class=\"dataframe\">\n",
       "  <thead>\n",
       "    <tr style=\"text-align: right;\">\n",
       "      <th></th>\n",
       "      <th>gender</th>\n",
       "      <th>past_3_years_bike_related_purchases</th>\n",
       "      <th>job_title</th>\n",
       "      <th>job_industry_category</th>\n",
       "      <th>wealth_segment</th>\n",
       "      <th>deceased_indicator</th>\n",
       "      <th>owns_car</th>\n",
       "      <th>tenure</th>\n",
       "      <th>property_valuation</th>\n",
       "      <th>lat</th>\n",
       "      <th>long</th>\n",
       "      <th>state</th>\n",
       "      <th>customer_age</th>\n",
       "      <th>age_group</th>\n",
       "      <th>distance_to_coast</th>\n",
       "      <th>tenure_valuation_mul</th>\n",
       "      <th>tenure_valuation_div</th>\n",
       "    </tr>\n",
       "  </thead>\n",
       "  <tbody>\n",
       "    <tr>\n",
       "      <th>9530</th>\n",
       "      <td>F</td>\n",
       "      <td>60</td>\n",
       "      <td>Administrative Officer</td>\n",
       "      <td>Financial Services</td>\n",
       "      <td>High Net Worth</td>\n",
       "      <td>False</td>\n",
       "      <td>False</td>\n",
       "      <td>12</td>\n",
       "      <td>7</td>\n",
       "      <td>-37.869072</td>\n",
       "      <td>144.999026</td>\n",
       "      <td>VIC</td>\n",
       "      <td>38</td>\n",
       "      <td>31-50</td>\n",
       "      <td>3.973526</td>\n",
       "      <td>84</td>\n",
       "      <td>1.714286</td>\n",
       "    </tr>\n",
       "    <tr>\n",
       "      <th>385</th>\n",
       "      <td>M</td>\n",
       "      <td>68</td>\n",
       "      <td>Financial Analyst</td>\n",
       "      <td>Financial Services</td>\n",
       "      <td>Mass Customer</td>\n",
       "      <td>False</td>\n",
       "      <td>False</td>\n",
       "      <td>3</td>\n",
       "      <td>10</td>\n",
       "      <td>-33.731523</td>\n",
       "      <td>150.931074</td>\n",
       "      <td>NSW</td>\n",
       "      <td>36</td>\n",
       "      <td>31-50</td>\n",
       "      <td>38.424585</td>\n",
       "      <td>30</td>\n",
       "      <td>0.300000</td>\n",
       "    </tr>\n",
       "    <tr>\n",
       "      <th>15307</th>\n",
       "      <td>M</td>\n",
       "      <td>56</td>\n",
       "      <td>Editor</td>\n",
       "      <td>Financial Services</td>\n",
       "      <td>Mass Customer</td>\n",
       "      <td>False</td>\n",
       "      <td>False</td>\n",
       "      <td>5</td>\n",
       "      <td>10</td>\n",
       "      <td>-37.744406</td>\n",
       "      <td>145.082685</td>\n",
       "      <td>VIC</td>\n",
       "      <td>41</td>\n",
       "      <td>31-50</td>\n",
       "      <td>17.449963</td>\n",
       "      <td>50</td>\n",
       "      <td>0.500000</td>\n",
       "    </tr>\n",
       "    <tr>\n",
       "      <th>4153</th>\n",
       "      <td>F</td>\n",
       "      <td>78</td>\n",
       "      <td>Quality Engineer</td>\n",
       "      <td>Financial Services</td>\n",
       "      <td>Affluent Customer</td>\n",
       "      <td>False</td>\n",
       "      <td>True</td>\n",
       "      <td>17</td>\n",
       "      <td>11</td>\n",
       "      <td>-33.732380</td>\n",
       "      <td>151.000948</td>\n",
       "      <td>NSW</td>\n",
       "      <td>43</td>\n",
       "      <td>31-50</td>\n",
       "      <td>32.667056</td>\n",
       "      <td>187</td>\n",
       "      <td>1.545455</td>\n",
       "    </tr>\n",
       "    <tr>\n",
       "      <th>8658</th>\n",
       "      <td>M</td>\n",
       "      <td>23</td>\n",
       "      <td>Librarian</td>\n",
       "      <td>Entertainment</td>\n",
       "      <td>Mass Customer</td>\n",
       "      <td>False</td>\n",
       "      <td>False</td>\n",
       "      <td>10</td>\n",
       "      <td>8</td>\n",
       "      <td>-33.783751</td>\n",
       "      <td>150.900547</td>\n",
       "      <td>NSW</td>\n",
       "      <td>48</td>\n",
       "      <td>31-50</td>\n",
       "      <td>38.026580</td>\n",
       "      <td>80</td>\n",
       "      <td>1.250000</td>\n",
       "    </tr>\n",
       "  </tbody>\n",
       "</table>\n",
       "</div>"
      ],
      "text/plain": [
       "      gender  past_3_years_bike_related_purchases               job_title  \\\n",
       "9530       F                                   60  Administrative Officer   \n",
       "385        M                                   68       Financial Analyst   \n",
       "15307      M                                   56                  Editor   \n",
       "4153       F                                   78        Quality Engineer   \n",
       "8658       M                                   23               Librarian   \n",
       "\n",
       "      job_industry_category     wealth_segment deceased_indicator owns_car  \\\n",
       "9530     Financial Services     High Net Worth              False    False   \n",
       "385      Financial Services      Mass Customer              False    False   \n",
       "15307    Financial Services      Mass Customer              False    False   \n",
       "4153     Financial Services  Affluent Customer              False     True   \n",
       "8658          Entertainment      Mass Customer              False    False   \n",
       "\n",
       "       tenure  property_valuation        lat        long state  customer_age  \\\n",
       "9530       12                   7 -37.869072  144.999026   VIC            38   \n",
       "385         3                  10 -33.731523  150.931074   NSW            36   \n",
       "15307       5                  10 -37.744406  145.082685   VIC            41   \n",
       "4153       17                  11 -33.732380  151.000948   NSW            43   \n",
       "8658       10                   8 -33.783751  150.900547   NSW            48   \n",
       "\n",
       "      age_group  distance_to_coast  tenure_valuation_mul  tenure_valuation_div  \n",
       "9530      31-50           3.973526                    84              1.714286  \n",
       "385       31-50          38.424585                    30              0.300000  \n",
       "15307     31-50          17.449963                    50              0.500000  \n",
       "4153      31-50          32.667056                   187              1.545455  \n",
       "8658      31-50          38.026580                    80              1.250000  "
      ]
     },
     "execution_count": 186,
     "metadata": {},
     "output_type": "execute_result"
    }
   ],
   "source": [
    "data_test.head()\n"
   ]
  },
  {
   "cell_type": "code",
   "execution_count": 187,
   "metadata": {},
   "outputs": [
    {
     "data": {
      "text/plain": [
       "array(['Gold', 'Gold', 'Silver', 'Gold', 'Gold'], dtype=object)"
      ]
     },
     "execution_count": 187,
     "metadata": {},
     "output_type": "execute_result"
    }
   ],
   "source": [
    "model_1.predict(data_test)[:5]\n"
   ]
  },
  {
   "cell_type": "code",
   "execution_count": 188,
   "metadata": {},
   "outputs": [
    {
     "data": {
      "text/plain": [
       "9530     Bronze\n",
       "385        Gold\n",
       "15307      Gold\n",
       "4153       Gold\n",
       "8658       Gold\n",
       "Name: customer_category, dtype: object"
      ]
     },
     "execution_count": 188,
     "metadata": {},
     "output_type": "execute_result"
    }
   ],
   "source": [
    "target_test[:5]"
   ]
  },
  {
   "cell_type": "code",
   "execution_count": 189,
   "metadata": {},
   "outputs": [
    {
     "data": {
      "text/plain": [
       "0.5316423264155777"
      ]
     },
     "execution_count": 189,
     "metadata": {},
     "output_type": "execute_result"
    }
   ],
   "source": [
    "model_1.score(data_test, target_test)"
   ]
  },
  {
   "cell_type": "code",
   "execution_count": 190,
   "metadata": {},
   "outputs": [
    {
     "data": {
      "text/plain": [
       "{'fit_time': array([3.53116274, 3.27520633, 4.48396277, 3.88765502, 3.39960694]),\n",
       " 'score_time': array([0.01612687, 0.01691604, 0.03242636, 0.04653358, 0.0420053 ]),\n",
       " 'test_score': array([0.46682039, 0.45836536, 0.46169613, 0.47514095, 0.46258329])}"
      ]
     },
     "execution_count": 190,
     "metadata": {},
     "output_type": "execute_result"
    }
   ],
   "source": [
    "# Evaluating the model with cross-validation\n",
    "from sklearn.model_selection import cross_validate\n",
    "\n",
    "cv_results = cross_validate(model_1, data, target, cv=5)\n",
    "cv_results"
   ]
  },
  {
   "cell_type": "code",
   "execution_count": 191,
   "metadata": {},
   "outputs": [
    {
     "name": "stdout",
     "output_type": "stream",
     "text": [
      "Mean Accuracy: 0.465\n",
      "Accuracy standard deviation: 0.006\n"
     ]
    }
   ],
   "source": [
    "# Getting the final score for our model\n",
    "\n",
    "scores = cv_results[\"test_score\"]\n",
    "\n",
    "# Print mean cross-validation accuracy\n",
    "print(f\"Mean Accuracy: {scores.mean():.3f}\")\n",
    "print(f\"Accuracy standard deviation: {scores.std():.3f}\")"
   ]
  },
  {
   "cell_type": "markdown",
   "metadata": {},
   "source": [
    "## 3.5 Building a HistGradientBoostingClassifier Model"
   ]
  },
  {
   "cell_type": "code",
   "execution_count": 192,
   "metadata": {},
   "outputs": [],
   "source": [
    "# Making the train-test split\n",
    "\n",
    "from sklearn.model_selection import train_test_split\n",
    "\n",
    "data_train, data_test, target_train, target_test = train_test_split(\n",
    "    data, target, test_size=0.2, random_state=42\n",
    ")"
   ]
  },
  {
   "cell_type": "code",
   "execution_count": 193,
   "metadata": {},
   "outputs": [
    {
     "data": {
      "text/html": [
       "<style>#sk-container-id-18 {color: black;}#sk-container-id-18 pre{padding: 0;}#sk-container-id-18 div.sk-toggleable {background-color: white;}#sk-container-id-18 label.sk-toggleable__label {cursor: pointer;display: block;width: 100%;margin-bottom: 0;padding: 0.3em;box-sizing: border-box;text-align: center;}#sk-container-id-18 label.sk-toggleable__label-arrow:before {content: \"▸\";float: left;margin-right: 0.25em;color: #696969;}#sk-container-id-18 label.sk-toggleable__label-arrow:hover:before {color: black;}#sk-container-id-18 div.sk-estimator:hover label.sk-toggleable__label-arrow:before {color: black;}#sk-container-id-18 div.sk-toggleable__content {max-height: 0;max-width: 0;overflow: hidden;text-align: left;background-color: #f0f8ff;}#sk-container-id-18 div.sk-toggleable__content pre {margin: 0.2em;color: black;border-radius: 0.25em;background-color: #f0f8ff;}#sk-container-id-18 input.sk-toggleable__control:checked~div.sk-toggleable__content {max-height: 200px;max-width: 100%;overflow: auto;}#sk-container-id-18 input.sk-toggleable__control:checked~label.sk-toggleable__label-arrow:before {content: \"▾\";}#sk-container-id-18 div.sk-estimator input.sk-toggleable__control:checked~label.sk-toggleable__label {background-color: #d4ebff;}#sk-container-id-18 div.sk-label input.sk-toggleable__control:checked~label.sk-toggleable__label {background-color: #d4ebff;}#sk-container-id-18 input.sk-hidden--visually {border: 0;clip: rect(1px 1px 1px 1px);clip: rect(1px, 1px, 1px, 1px);height: 1px;margin: -1px;overflow: hidden;padding: 0;position: absolute;width: 1px;}#sk-container-id-18 div.sk-estimator {font-family: monospace;background-color: #f0f8ff;border: 1px dotted black;border-radius: 0.25em;box-sizing: border-box;margin-bottom: 0.5em;}#sk-container-id-18 div.sk-estimator:hover {background-color: #d4ebff;}#sk-container-id-18 div.sk-parallel-item::after {content: \"\";width: 100%;border-bottom: 1px solid gray;flex-grow: 1;}#sk-container-id-18 div.sk-label:hover label.sk-toggleable__label {background-color: #d4ebff;}#sk-container-id-18 div.sk-serial::before {content: \"\";position: absolute;border-left: 1px solid gray;box-sizing: border-box;top: 0;bottom: 0;left: 50%;z-index: 0;}#sk-container-id-18 div.sk-serial {display: flex;flex-direction: column;align-items: center;background-color: white;padding-right: 0.2em;padding-left: 0.2em;position: relative;}#sk-container-id-18 div.sk-item {position: relative;z-index: 1;}#sk-container-id-18 div.sk-parallel {display: flex;align-items: stretch;justify-content: center;background-color: white;position: relative;}#sk-container-id-18 div.sk-item::before, #sk-container-id-18 div.sk-parallel-item::before {content: \"\";position: absolute;border-left: 1px solid gray;box-sizing: border-box;top: 0;bottom: 0;left: 50%;z-index: -1;}#sk-container-id-18 div.sk-parallel-item {display: flex;flex-direction: column;z-index: 1;position: relative;background-color: white;}#sk-container-id-18 div.sk-parallel-item:first-child::after {align-self: flex-end;width: 50%;}#sk-container-id-18 div.sk-parallel-item:last-child::after {align-self: flex-start;width: 50%;}#sk-container-id-18 div.sk-parallel-item:only-child::after {width: 0;}#sk-container-id-18 div.sk-dashed-wrapped {border: 1px dashed gray;margin: 0 0.4em 0.5em 0.4em;box-sizing: border-box;padding-bottom: 0.4em;background-color: white;}#sk-container-id-18 div.sk-label label {font-family: monospace;font-weight: bold;display: inline-block;line-height: 1.2em;}#sk-container-id-18 div.sk-label-container {text-align: center;}#sk-container-id-18 div.sk-container {/* jupyter's `normalize.less` sets `[hidden] { display: none; }` but bootstrap.min.css set `[hidden] { display: none !important; }` so we also need the `!important` here to be able to override the default hidden behavior on the sphinx rendered scikit-learn.org. See: https://github.com/scikit-learn/scikit-learn/issues/21755 */display: inline-block !important;position: relative;}#sk-container-id-18 div.sk-text-repr-fallback {display: none;}</style><div id=\"sk-container-id-18\" class=\"sk-top-container\"><div class=\"sk-text-repr-fallback\"><pre>Pipeline(steps=[(&#x27;columntransformer&#x27;,\n",
       "                 ColumnTransformer(remainder=&#x27;passthrough&#x27;,\n",
       "                                   transformers=[(&#x27;cat-preprocessor&#x27;,\n",
       "                                                  OrdinalEncoder(handle_unknown=&#x27;use_encoded_value&#x27;,\n",
       "                                                                 unknown_value=-1),\n",
       "                                                  [&#x27;gender&#x27;, &#x27;job_title&#x27;,\n",
       "                                                   &#x27;job_industry_category&#x27;,\n",
       "                                                   &#x27;wealth_segment&#x27;,\n",
       "                                                   &#x27;deceased_indicator&#x27;,\n",
       "                                                   &#x27;owns_car&#x27;, &#x27;state&#x27;,\n",
       "                                                   &#x27;age_group&#x27;])])),\n",
       "                (&#x27;histgradientboostingclassifier&#x27;,\n",
       "                 HistGradientBoostingClassifier())])</pre><b>In a Jupyter environment, please rerun this cell to show the HTML representation or trust the notebook. <br />On GitHub, the HTML representation is unable to render, please try loading this page with nbviewer.org.</b></div><div class=\"sk-container\" hidden><div class=\"sk-item sk-dashed-wrapped\"><div class=\"sk-label-container\"><div class=\"sk-label sk-toggleable\"><input class=\"sk-toggleable__control sk-hidden--visually\" id=\"sk-estimator-id-129\" type=\"checkbox\" ><label for=\"sk-estimator-id-129\" class=\"sk-toggleable__label sk-toggleable__label-arrow\">Pipeline</label><div class=\"sk-toggleable__content\"><pre>Pipeline(steps=[(&#x27;columntransformer&#x27;,\n",
       "                 ColumnTransformer(remainder=&#x27;passthrough&#x27;,\n",
       "                                   transformers=[(&#x27;cat-preprocessor&#x27;,\n",
       "                                                  OrdinalEncoder(handle_unknown=&#x27;use_encoded_value&#x27;,\n",
       "                                                                 unknown_value=-1),\n",
       "                                                  [&#x27;gender&#x27;, &#x27;job_title&#x27;,\n",
       "                                                   &#x27;job_industry_category&#x27;,\n",
       "                                                   &#x27;wealth_segment&#x27;,\n",
       "                                                   &#x27;deceased_indicator&#x27;,\n",
       "                                                   &#x27;owns_car&#x27;, &#x27;state&#x27;,\n",
       "                                                   &#x27;age_group&#x27;])])),\n",
       "                (&#x27;histgradientboostingclassifier&#x27;,\n",
       "                 HistGradientBoostingClassifier())])</pre></div></div></div><div class=\"sk-serial\"><div class=\"sk-item sk-dashed-wrapped\"><div class=\"sk-label-container\"><div class=\"sk-label sk-toggleable\"><input class=\"sk-toggleable__control sk-hidden--visually\" id=\"sk-estimator-id-130\" type=\"checkbox\" ><label for=\"sk-estimator-id-130\" class=\"sk-toggleable__label sk-toggleable__label-arrow\">columntransformer: ColumnTransformer</label><div class=\"sk-toggleable__content\"><pre>ColumnTransformer(remainder=&#x27;passthrough&#x27;,\n",
       "                  transformers=[(&#x27;cat-preprocessor&#x27;,\n",
       "                                 OrdinalEncoder(handle_unknown=&#x27;use_encoded_value&#x27;,\n",
       "                                                unknown_value=-1),\n",
       "                                 [&#x27;gender&#x27;, &#x27;job_title&#x27;,\n",
       "                                  &#x27;job_industry_category&#x27;, &#x27;wealth_segment&#x27;,\n",
       "                                  &#x27;deceased_indicator&#x27;, &#x27;owns_car&#x27;, &#x27;state&#x27;,\n",
       "                                  &#x27;age_group&#x27;])])</pre></div></div></div><div class=\"sk-parallel\"><div class=\"sk-parallel-item\"><div class=\"sk-item\"><div class=\"sk-label-container\"><div class=\"sk-label sk-toggleable\"><input class=\"sk-toggleable__control sk-hidden--visually\" id=\"sk-estimator-id-131\" type=\"checkbox\" ><label for=\"sk-estimator-id-131\" class=\"sk-toggleable__label sk-toggleable__label-arrow\">cat-preprocessor</label><div class=\"sk-toggleable__content\"><pre>[&#x27;gender&#x27;, &#x27;job_title&#x27;, &#x27;job_industry_category&#x27;, &#x27;wealth_segment&#x27;, &#x27;deceased_indicator&#x27;, &#x27;owns_car&#x27;, &#x27;state&#x27;, &#x27;age_group&#x27;]</pre></div></div></div><div class=\"sk-serial\"><div class=\"sk-item\"><div class=\"sk-estimator sk-toggleable\"><input class=\"sk-toggleable__control sk-hidden--visually\" id=\"sk-estimator-id-132\" type=\"checkbox\" ><label for=\"sk-estimator-id-132\" class=\"sk-toggleable__label sk-toggleable__label-arrow\">OrdinalEncoder</label><div class=\"sk-toggleable__content\"><pre>OrdinalEncoder(handle_unknown=&#x27;use_encoded_value&#x27;, unknown_value=-1)</pre></div></div></div></div></div></div><div class=\"sk-parallel-item\"><div class=\"sk-item\"><div class=\"sk-label-container\"><div class=\"sk-label sk-toggleable\"><input class=\"sk-toggleable__control sk-hidden--visually\" id=\"sk-estimator-id-133\" type=\"checkbox\" ><label for=\"sk-estimator-id-133\" class=\"sk-toggleable__label sk-toggleable__label-arrow\">remainder</label><div class=\"sk-toggleable__content\"><pre></pre></div></div></div><div class=\"sk-serial\"><div class=\"sk-item\"><div class=\"sk-estimator sk-toggleable\"><input class=\"sk-toggleable__control sk-hidden--visually\" id=\"sk-estimator-id-134\" type=\"checkbox\" ><label for=\"sk-estimator-id-134\" class=\"sk-toggleable__label sk-toggleable__label-arrow\">passthrough</label><div class=\"sk-toggleable__content\"><pre>passthrough</pre></div></div></div></div></div></div></div></div><div class=\"sk-item\"><div class=\"sk-estimator sk-toggleable\"><input class=\"sk-toggleable__control sk-hidden--visually\" id=\"sk-estimator-id-135\" type=\"checkbox\" ><label for=\"sk-estimator-id-135\" class=\"sk-toggleable__label sk-toggleable__label-arrow\">HistGradientBoostingClassifier</label><div class=\"sk-toggleable__content\"><pre>HistGradientBoostingClassifier()</pre></div></div></div></div></div></div></div>"
      ],
      "text/plain": [
       "Pipeline(steps=[('columntransformer',\n",
       "                 ColumnTransformer(remainder='passthrough',\n",
       "                                   transformers=[('cat-preprocessor',\n",
       "                                                  OrdinalEncoder(handle_unknown='use_encoded_value',\n",
       "                                                                 unknown_value=-1),\n",
       "                                                  ['gender', 'job_title',\n",
       "                                                   'job_industry_category',\n",
       "                                                   'wealth_segment',\n",
       "                                                   'deceased_indicator',\n",
       "                                                   'owns_car', 'state',\n",
       "                                                   'age_group'])])),\n",
       "                ('histgradientboostingclassifier',\n",
       "                 HistGradientBoostingClassifier())])"
      ]
     },
     "execution_count": 193,
     "metadata": {},
     "output_type": "execute_result"
    }
   ],
   "source": [
    "from sklearn.ensemble import HistGradientBoostingClassifier\n",
    "from sklearn.preprocessing import OrdinalEncoder\n",
    "\n",
    "categorical_preprocessor = OrdinalEncoder(\n",
    "    handle_unknown=\"use_encoded_value\", unknown_value=-1\n",
    ")\n",
    "\n",
    "preprocessor = ColumnTransformer(\n",
    "    [(\"cat-preprocessor\", categorical_preprocessor, category_columns)],\n",
    "    remainder=\"passthrough\",\n",
    ")\n",
    "\n",
    "model_2 = make_pipeline(preprocessor, HistGradientBoostingClassifier())\n",
    "\n",
    "model_2\n"
   ]
  },
  {
   "cell_type": "code",
   "execution_count": 194,
   "metadata": {},
   "outputs": [
    {
     "name": "stdout",
     "output_type": "stream",
     "text": [
      "CPU times: user 26.7 s, sys: 186 ms, total: 26.9 s\n",
      "Wall time: 3.58 s\n"
     ]
    }
   ],
   "source": [
    "%%time\n",
    "_ = model_2.fit(data_train, target_train)\n"
   ]
  },
  {
   "cell_type": "code",
   "execution_count": 195,
   "metadata": {},
   "outputs": [
    {
     "data": {
      "text/plain": [
       "0.9459390212656931"
      ]
     },
     "execution_count": 195,
     "metadata": {},
     "output_type": "execute_result"
    }
   ],
   "source": [
    "model_2.score(data_test, target_test)"
   ]
  },
  {
   "cell_type": "code",
   "execution_count": 196,
   "metadata": {},
   "outputs": [
    {
     "data": {
      "text/plain": [
       "array(['Gold', 'Gold', 'Gold', 'Gold', 'Gold', 'Gold', 'Silver', 'Gold',\n",
       "       'Gold', 'Gold'], dtype=object)"
      ]
     },
     "execution_count": 196,
     "metadata": {},
     "output_type": "execute_result"
    }
   ],
   "source": [
    "model_2.predict(data_test)[:10]"
   ]
  },
  {
   "cell_type": "code",
   "execution_count": 197,
   "metadata": {},
   "outputs": [
    {
     "data": {
      "text/plain": [
       "9530     Bronze\n",
       "385        Gold\n",
       "15307      Gold\n",
       "4153       Gold\n",
       "8658       Gold\n",
       "6847       Gold\n",
       "16879    Silver\n",
       "16552      Gold\n",
       "2112       Gold\n",
       "12868      Gold\n",
       "Name: customer_category, dtype: object"
      ]
     },
     "execution_count": 197,
     "metadata": {},
     "output_type": "execute_result"
    }
   ],
   "source": [
    "target_test[:10]"
   ]
  },
  {
   "cell_type": "code",
   "execution_count": 198,
   "metadata": {},
   "outputs": [
    {
     "name": "stdout",
     "output_type": "stream",
     "text": [
      "{'fit_time': array([3.55521965, 1.74478197, 1.80755591]), 'score_time': array([0.0607574 , 0.07443833, 0.06538749]), 'test_score': array([0.45933897, 0.43388684, 0.4295818 ])}\n",
      "Mean Accuracy: 0.465\n",
      "Accuracy standard deviation: 0.006\n"
     ]
    }
   ],
   "source": [
    "# Evaluating the model with cross-validation\n",
    "\n",
    "from sklearn.model_selection import cross_validate\n",
    "\n",
    "model_2_cv = cross_validate(model_2, data, target, cv=3)\n",
    "\n",
    "# Getting the final score for our model\n",
    "\n",
    "scores_2 = model_2_cv[\"test_score\"]\n",
    "\n",
    "# Print mean cross-validation accuracy\n",
    "print(model_2_cv)\n",
    "print(f\"Mean Accuracy: {scores.mean():.3f}\")\n",
    "print(f\"Accuracy standard deviation: {scores.std():.3f}\")"
   ]
  },
  {
   "cell_type": "markdown",
   "metadata": {},
   "source": [
    "## 3.6 Using GridSearchCV to find the best parameters"
   ]
  },
  {
   "cell_type": "code",
   "execution_count": 199,
   "metadata": {},
   "outputs": [],
   "source": [
    "from sklearn.model_selection import train_test_split\n",
    "\n",
    "data_train, data_test, target_train, target_test = train_test_split(\n",
    "    data, target, random_state=42\n",
    ")"
   ]
  },
  {
   "cell_type": "code",
   "execution_count": 200,
   "metadata": {},
   "outputs": [],
   "source": [
    "from sklearn.compose import make_column_selector as selector\n",
    "\n",
    "categorical_columns_selector = selector(dtype_include=object)\n",
    "categorical_columns = categorical_columns_selector(data)"
   ]
  },
  {
   "cell_type": "code",
   "execution_count": 201,
   "metadata": {},
   "outputs": [],
   "source": [
    "from sklearn.preprocessing import OrdinalEncoder\n",
    "\n",
    "categorical_preprocessor = OrdinalEncoder(\n",
    "    handle_unknown=\"use_encoded_value\", unknown_value=-1\n",
    ")"
   ]
  },
  {
   "cell_type": "code",
   "execution_count": 202,
   "metadata": {},
   "outputs": [],
   "source": [
    "from sklearn.compose import ColumnTransformer\n",
    "\n",
    "preprocessor = ColumnTransformer(\n",
    "    [(\"cat_preprocessor\", categorical_preprocessor, categorical_columns)],\n",
    "    remainder=\"passthrough\",\n",
    ")"
   ]
  },
  {
   "cell_type": "code",
   "execution_count": 203,
   "metadata": {},
   "outputs": [
    {
     "data": {
      "text/html": [
       "<style>#sk-container-id-19 {color: black;}#sk-container-id-19 pre{padding: 0;}#sk-container-id-19 div.sk-toggleable {background-color: white;}#sk-container-id-19 label.sk-toggleable__label {cursor: pointer;display: block;width: 100%;margin-bottom: 0;padding: 0.3em;box-sizing: border-box;text-align: center;}#sk-container-id-19 label.sk-toggleable__label-arrow:before {content: \"▸\";float: left;margin-right: 0.25em;color: #696969;}#sk-container-id-19 label.sk-toggleable__label-arrow:hover:before {color: black;}#sk-container-id-19 div.sk-estimator:hover label.sk-toggleable__label-arrow:before {color: black;}#sk-container-id-19 div.sk-toggleable__content {max-height: 0;max-width: 0;overflow: hidden;text-align: left;background-color: #f0f8ff;}#sk-container-id-19 div.sk-toggleable__content pre {margin: 0.2em;color: black;border-radius: 0.25em;background-color: #f0f8ff;}#sk-container-id-19 input.sk-toggleable__control:checked~div.sk-toggleable__content {max-height: 200px;max-width: 100%;overflow: auto;}#sk-container-id-19 input.sk-toggleable__control:checked~label.sk-toggleable__label-arrow:before {content: \"▾\";}#sk-container-id-19 div.sk-estimator input.sk-toggleable__control:checked~label.sk-toggleable__label {background-color: #d4ebff;}#sk-container-id-19 div.sk-label input.sk-toggleable__control:checked~label.sk-toggleable__label {background-color: #d4ebff;}#sk-container-id-19 input.sk-hidden--visually {border: 0;clip: rect(1px 1px 1px 1px);clip: rect(1px, 1px, 1px, 1px);height: 1px;margin: -1px;overflow: hidden;padding: 0;position: absolute;width: 1px;}#sk-container-id-19 div.sk-estimator {font-family: monospace;background-color: #f0f8ff;border: 1px dotted black;border-radius: 0.25em;box-sizing: border-box;margin-bottom: 0.5em;}#sk-container-id-19 div.sk-estimator:hover {background-color: #d4ebff;}#sk-container-id-19 div.sk-parallel-item::after {content: \"\";width: 100%;border-bottom: 1px solid gray;flex-grow: 1;}#sk-container-id-19 div.sk-label:hover label.sk-toggleable__label {background-color: #d4ebff;}#sk-container-id-19 div.sk-serial::before {content: \"\";position: absolute;border-left: 1px solid gray;box-sizing: border-box;top: 0;bottom: 0;left: 50%;z-index: 0;}#sk-container-id-19 div.sk-serial {display: flex;flex-direction: column;align-items: center;background-color: white;padding-right: 0.2em;padding-left: 0.2em;position: relative;}#sk-container-id-19 div.sk-item {position: relative;z-index: 1;}#sk-container-id-19 div.sk-parallel {display: flex;align-items: stretch;justify-content: center;background-color: white;position: relative;}#sk-container-id-19 div.sk-item::before, #sk-container-id-19 div.sk-parallel-item::before {content: \"\";position: absolute;border-left: 1px solid gray;box-sizing: border-box;top: 0;bottom: 0;left: 50%;z-index: -1;}#sk-container-id-19 div.sk-parallel-item {display: flex;flex-direction: column;z-index: 1;position: relative;background-color: white;}#sk-container-id-19 div.sk-parallel-item:first-child::after {align-self: flex-end;width: 50%;}#sk-container-id-19 div.sk-parallel-item:last-child::after {align-self: flex-start;width: 50%;}#sk-container-id-19 div.sk-parallel-item:only-child::after {width: 0;}#sk-container-id-19 div.sk-dashed-wrapped {border: 1px dashed gray;margin: 0 0.4em 0.5em 0.4em;box-sizing: border-box;padding-bottom: 0.4em;background-color: white;}#sk-container-id-19 div.sk-label label {font-family: monospace;font-weight: bold;display: inline-block;line-height: 1.2em;}#sk-container-id-19 div.sk-label-container {text-align: center;}#sk-container-id-19 div.sk-container {/* jupyter's `normalize.less` sets `[hidden] { display: none; }` but bootstrap.min.css set `[hidden] { display: none !important; }` so we also need the `!important` here to be able to override the default hidden behavior on the sphinx rendered scikit-learn.org. See: https://github.com/scikit-learn/scikit-learn/issues/21755 */display: inline-block !important;position: relative;}#sk-container-id-19 div.sk-text-repr-fallback {display: none;}</style><div id=\"sk-container-id-19\" class=\"sk-top-container\"><div class=\"sk-text-repr-fallback\"><pre>Pipeline(steps=[(&#x27;preprocessor&#x27;,\n",
       "                 ColumnTransformer(remainder=&#x27;passthrough&#x27;,\n",
       "                                   transformers=[(&#x27;cat_preprocessor&#x27;,\n",
       "                                                  OrdinalEncoder(handle_unknown=&#x27;use_encoded_value&#x27;,\n",
       "                                                                 unknown_value=-1),\n",
       "                                                  [&#x27;gender&#x27;, &#x27;job_title&#x27;,\n",
       "                                                   &#x27;job_industry_category&#x27;,\n",
       "                                                   &#x27;wealth_segment&#x27;,\n",
       "                                                   &#x27;deceased_indicator&#x27;,\n",
       "                                                   &#x27;owns_car&#x27;, &#x27;state&#x27;,\n",
       "                                                   &#x27;age_group&#x27;])])),\n",
       "                (&#x27;classifier&#x27;,\n",
       "                 HistGradientBoostingClassifier(max_leaf_nodes=4,\n",
       "                                                random_state=42))])</pre><b>In a Jupyter environment, please rerun this cell to show the HTML representation or trust the notebook. <br />On GitHub, the HTML representation is unable to render, please try loading this page with nbviewer.org.</b></div><div class=\"sk-container\" hidden><div class=\"sk-item sk-dashed-wrapped\"><div class=\"sk-label-container\"><div class=\"sk-label sk-toggleable\"><input class=\"sk-toggleable__control sk-hidden--visually\" id=\"sk-estimator-id-136\" type=\"checkbox\" ><label for=\"sk-estimator-id-136\" class=\"sk-toggleable__label sk-toggleable__label-arrow\">Pipeline</label><div class=\"sk-toggleable__content\"><pre>Pipeline(steps=[(&#x27;preprocessor&#x27;,\n",
       "                 ColumnTransformer(remainder=&#x27;passthrough&#x27;,\n",
       "                                   transformers=[(&#x27;cat_preprocessor&#x27;,\n",
       "                                                  OrdinalEncoder(handle_unknown=&#x27;use_encoded_value&#x27;,\n",
       "                                                                 unknown_value=-1),\n",
       "                                                  [&#x27;gender&#x27;, &#x27;job_title&#x27;,\n",
       "                                                   &#x27;job_industry_category&#x27;,\n",
       "                                                   &#x27;wealth_segment&#x27;,\n",
       "                                                   &#x27;deceased_indicator&#x27;,\n",
       "                                                   &#x27;owns_car&#x27;, &#x27;state&#x27;,\n",
       "                                                   &#x27;age_group&#x27;])])),\n",
       "                (&#x27;classifier&#x27;,\n",
       "                 HistGradientBoostingClassifier(max_leaf_nodes=4,\n",
       "                                                random_state=42))])</pre></div></div></div><div class=\"sk-serial\"><div class=\"sk-item sk-dashed-wrapped\"><div class=\"sk-label-container\"><div class=\"sk-label sk-toggleable\"><input class=\"sk-toggleable__control sk-hidden--visually\" id=\"sk-estimator-id-137\" type=\"checkbox\" ><label for=\"sk-estimator-id-137\" class=\"sk-toggleable__label sk-toggleable__label-arrow\">preprocessor: ColumnTransformer</label><div class=\"sk-toggleable__content\"><pre>ColumnTransformer(remainder=&#x27;passthrough&#x27;,\n",
       "                  transformers=[(&#x27;cat_preprocessor&#x27;,\n",
       "                                 OrdinalEncoder(handle_unknown=&#x27;use_encoded_value&#x27;,\n",
       "                                                unknown_value=-1),\n",
       "                                 [&#x27;gender&#x27;, &#x27;job_title&#x27;,\n",
       "                                  &#x27;job_industry_category&#x27;, &#x27;wealth_segment&#x27;,\n",
       "                                  &#x27;deceased_indicator&#x27;, &#x27;owns_car&#x27;, &#x27;state&#x27;,\n",
       "                                  &#x27;age_group&#x27;])])</pre></div></div></div><div class=\"sk-parallel\"><div class=\"sk-parallel-item\"><div class=\"sk-item\"><div class=\"sk-label-container\"><div class=\"sk-label sk-toggleable\"><input class=\"sk-toggleable__control sk-hidden--visually\" id=\"sk-estimator-id-138\" type=\"checkbox\" ><label for=\"sk-estimator-id-138\" class=\"sk-toggleable__label sk-toggleable__label-arrow\">cat_preprocessor</label><div class=\"sk-toggleable__content\"><pre>[&#x27;gender&#x27;, &#x27;job_title&#x27;, &#x27;job_industry_category&#x27;, &#x27;wealth_segment&#x27;, &#x27;deceased_indicator&#x27;, &#x27;owns_car&#x27;, &#x27;state&#x27;, &#x27;age_group&#x27;]</pre></div></div></div><div class=\"sk-serial\"><div class=\"sk-item\"><div class=\"sk-estimator sk-toggleable\"><input class=\"sk-toggleable__control sk-hidden--visually\" id=\"sk-estimator-id-139\" type=\"checkbox\" ><label for=\"sk-estimator-id-139\" class=\"sk-toggleable__label sk-toggleable__label-arrow\">OrdinalEncoder</label><div class=\"sk-toggleable__content\"><pre>OrdinalEncoder(handle_unknown=&#x27;use_encoded_value&#x27;, unknown_value=-1)</pre></div></div></div></div></div></div><div class=\"sk-parallel-item\"><div class=\"sk-item\"><div class=\"sk-label-container\"><div class=\"sk-label sk-toggleable\"><input class=\"sk-toggleable__control sk-hidden--visually\" id=\"sk-estimator-id-140\" type=\"checkbox\" ><label for=\"sk-estimator-id-140\" class=\"sk-toggleable__label sk-toggleable__label-arrow\">remainder</label><div class=\"sk-toggleable__content\"><pre></pre></div></div></div><div class=\"sk-serial\"><div class=\"sk-item\"><div class=\"sk-estimator sk-toggleable\"><input class=\"sk-toggleable__control sk-hidden--visually\" id=\"sk-estimator-id-141\" type=\"checkbox\" ><label for=\"sk-estimator-id-141\" class=\"sk-toggleable__label sk-toggleable__label-arrow\">passthrough</label><div class=\"sk-toggleable__content\"><pre>passthrough</pre></div></div></div></div></div></div></div></div><div class=\"sk-item\"><div class=\"sk-estimator sk-toggleable\"><input class=\"sk-toggleable__control sk-hidden--visually\" id=\"sk-estimator-id-142\" type=\"checkbox\" ><label for=\"sk-estimator-id-142\" class=\"sk-toggleable__label sk-toggleable__label-arrow\">HistGradientBoostingClassifier</label><div class=\"sk-toggleable__content\"><pre>HistGradientBoostingClassifier(max_leaf_nodes=4, random_state=42)</pre></div></div></div></div></div></div></div>"
      ],
      "text/plain": [
       "Pipeline(steps=[('preprocessor',\n",
       "                 ColumnTransformer(remainder='passthrough',\n",
       "                                   transformers=[('cat_preprocessor',\n",
       "                                                  OrdinalEncoder(handle_unknown='use_encoded_value',\n",
       "                                                                 unknown_value=-1),\n",
       "                                                  ['gender', 'job_title',\n",
       "                                                   'job_industry_category',\n",
       "                                                   'wealth_segment',\n",
       "                                                   'deceased_indicator',\n",
       "                                                   'owns_car', 'state',\n",
       "                                                   'age_group'])])),\n",
       "                ('classifier',\n",
       "                 HistGradientBoostingClassifier(max_leaf_nodes=4,\n",
       "                                                random_state=42))])"
      ]
     },
     "execution_count": 203,
     "metadata": {},
     "output_type": "execute_result"
    }
   ],
   "source": [
    "from sklearn.ensemble import HistGradientBoostingClassifier\n",
    "from sklearn.pipeline import Pipeline\n",
    "\n",
    "model = Pipeline(\n",
    "    [\n",
    "        (\"preprocessor\", preprocessor),\n",
    "        (\n",
    "            \"classifier\",\n",
    "            HistGradientBoostingClassifier(random_state=42, max_leaf_nodes=4),\n",
    "        ),\n",
    "    ]\n",
    ")\n",
    "model"
   ]
  },
  {
   "cell_type": "code",
   "execution_count": 204,
   "metadata": {},
   "outputs": [
    {
     "name": "stdout",
     "output_type": "stream",
     "text": [
      "CPU times: user 10.9 s, sys: 200 ms, total: 11.1 s\n",
      "Wall time: 32 s\n"
     ]
    },
    {
     "data": {
      "text/html": [
       "<style>#sk-container-id-20 {color: black;}#sk-container-id-20 pre{padding: 0;}#sk-container-id-20 div.sk-toggleable {background-color: white;}#sk-container-id-20 label.sk-toggleable__label {cursor: pointer;display: block;width: 100%;margin-bottom: 0;padding: 0.3em;box-sizing: border-box;text-align: center;}#sk-container-id-20 label.sk-toggleable__label-arrow:before {content: \"▸\";float: left;margin-right: 0.25em;color: #696969;}#sk-container-id-20 label.sk-toggleable__label-arrow:hover:before {color: black;}#sk-container-id-20 div.sk-estimator:hover label.sk-toggleable__label-arrow:before {color: black;}#sk-container-id-20 div.sk-toggleable__content {max-height: 0;max-width: 0;overflow: hidden;text-align: left;background-color: #f0f8ff;}#sk-container-id-20 div.sk-toggleable__content pre {margin: 0.2em;color: black;border-radius: 0.25em;background-color: #f0f8ff;}#sk-container-id-20 input.sk-toggleable__control:checked~div.sk-toggleable__content {max-height: 200px;max-width: 100%;overflow: auto;}#sk-container-id-20 input.sk-toggleable__control:checked~label.sk-toggleable__label-arrow:before {content: \"▾\";}#sk-container-id-20 div.sk-estimator input.sk-toggleable__control:checked~label.sk-toggleable__label {background-color: #d4ebff;}#sk-container-id-20 div.sk-label input.sk-toggleable__control:checked~label.sk-toggleable__label {background-color: #d4ebff;}#sk-container-id-20 input.sk-hidden--visually {border: 0;clip: rect(1px 1px 1px 1px);clip: rect(1px, 1px, 1px, 1px);height: 1px;margin: -1px;overflow: hidden;padding: 0;position: absolute;width: 1px;}#sk-container-id-20 div.sk-estimator {font-family: monospace;background-color: #f0f8ff;border: 1px dotted black;border-radius: 0.25em;box-sizing: border-box;margin-bottom: 0.5em;}#sk-container-id-20 div.sk-estimator:hover {background-color: #d4ebff;}#sk-container-id-20 div.sk-parallel-item::after {content: \"\";width: 100%;border-bottom: 1px solid gray;flex-grow: 1;}#sk-container-id-20 div.sk-label:hover label.sk-toggleable__label {background-color: #d4ebff;}#sk-container-id-20 div.sk-serial::before {content: \"\";position: absolute;border-left: 1px solid gray;box-sizing: border-box;top: 0;bottom: 0;left: 50%;z-index: 0;}#sk-container-id-20 div.sk-serial {display: flex;flex-direction: column;align-items: center;background-color: white;padding-right: 0.2em;padding-left: 0.2em;position: relative;}#sk-container-id-20 div.sk-item {position: relative;z-index: 1;}#sk-container-id-20 div.sk-parallel {display: flex;align-items: stretch;justify-content: center;background-color: white;position: relative;}#sk-container-id-20 div.sk-item::before, #sk-container-id-20 div.sk-parallel-item::before {content: \"\";position: absolute;border-left: 1px solid gray;box-sizing: border-box;top: 0;bottom: 0;left: 50%;z-index: -1;}#sk-container-id-20 div.sk-parallel-item {display: flex;flex-direction: column;z-index: 1;position: relative;background-color: white;}#sk-container-id-20 div.sk-parallel-item:first-child::after {align-self: flex-end;width: 50%;}#sk-container-id-20 div.sk-parallel-item:last-child::after {align-self: flex-start;width: 50%;}#sk-container-id-20 div.sk-parallel-item:only-child::after {width: 0;}#sk-container-id-20 div.sk-dashed-wrapped {border: 1px dashed gray;margin: 0 0.4em 0.5em 0.4em;box-sizing: border-box;padding-bottom: 0.4em;background-color: white;}#sk-container-id-20 div.sk-label label {font-family: monospace;font-weight: bold;display: inline-block;line-height: 1.2em;}#sk-container-id-20 div.sk-label-container {text-align: center;}#sk-container-id-20 div.sk-container {/* jupyter's `normalize.less` sets `[hidden] { display: none; }` but bootstrap.min.css set `[hidden] { display: none !important; }` so we also need the `!important` here to be able to override the default hidden behavior on the sphinx rendered scikit-learn.org. See: https://github.com/scikit-learn/scikit-learn/issues/21755 */display: inline-block !important;position: relative;}#sk-container-id-20 div.sk-text-repr-fallback {display: none;}</style><div id=\"sk-container-id-20\" class=\"sk-top-container\"><div class=\"sk-text-repr-fallback\"><pre>GridSearchCV(cv=2,\n",
       "             estimator=Pipeline(steps=[(&#x27;preprocessor&#x27;,\n",
       "                                        ColumnTransformer(remainder=&#x27;passthrough&#x27;,\n",
       "                                                          transformers=[(&#x27;cat_preprocessor&#x27;,\n",
       "                                                                         OrdinalEncoder(handle_unknown=&#x27;use_encoded_value&#x27;,\n",
       "                                                                                        unknown_value=-1),\n",
       "                                                                         [&#x27;gender&#x27;,\n",
       "                                                                          &#x27;job_title&#x27;,\n",
       "                                                                          &#x27;job_industry_category&#x27;,\n",
       "                                                                          &#x27;wealth_segment&#x27;,\n",
       "                                                                          &#x27;deceased_indicator&#x27;,\n",
       "                                                                          &#x27;owns_car&#x27;,\n",
       "                                                                          &#x27;state&#x27;,\n",
       "                                                                          &#x27;age_group&#x27;])])),\n",
       "                                       (&#x27;classifier&#x27;,\n",
       "                                        HistGradientBoostingClassifier(max_leaf_nodes=4,\n",
       "                                                                       random_state=42))]),\n",
       "             n_jobs=2,\n",
       "             param_grid={&#x27;classifier__learning_rate&#x27;: (0.01, 0.1, 1, 10),\n",
       "                         &#x27;classifier__max_leaf_nodes&#x27;: (3, 10, 30)})</pre><b>In a Jupyter environment, please rerun this cell to show the HTML representation or trust the notebook. <br />On GitHub, the HTML representation is unable to render, please try loading this page with nbviewer.org.</b></div><div class=\"sk-container\" hidden><div class=\"sk-item sk-dashed-wrapped\"><div class=\"sk-label-container\"><div class=\"sk-label sk-toggleable\"><input class=\"sk-toggleable__control sk-hidden--visually\" id=\"sk-estimator-id-143\" type=\"checkbox\" ><label for=\"sk-estimator-id-143\" class=\"sk-toggleable__label sk-toggleable__label-arrow\">GridSearchCV</label><div class=\"sk-toggleable__content\"><pre>GridSearchCV(cv=2,\n",
       "             estimator=Pipeline(steps=[(&#x27;preprocessor&#x27;,\n",
       "                                        ColumnTransformer(remainder=&#x27;passthrough&#x27;,\n",
       "                                                          transformers=[(&#x27;cat_preprocessor&#x27;,\n",
       "                                                                         OrdinalEncoder(handle_unknown=&#x27;use_encoded_value&#x27;,\n",
       "                                                                                        unknown_value=-1),\n",
       "                                                                         [&#x27;gender&#x27;,\n",
       "                                                                          &#x27;job_title&#x27;,\n",
       "                                                                          &#x27;job_industry_category&#x27;,\n",
       "                                                                          &#x27;wealth_segment&#x27;,\n",
       "                                                                          &#x27;deceased_indicator&#x27;,\n",
       "                                                                          &#x27;owns_car&#x27;,\n",
       "                                                                          &#x27;state&#x27;,\n",
       "                                                                          &#x27;age_group&#x27;])])),\n",
       "                                       (&#x27;classifier&#x27;,\n",
       "                                        HistGradientBoostingClassifier(max_leaf_nodes=4,\n",
       "                                                                       random_state=42))]),\n",
       "             n_jobs=2,\n",
       "             param_grid={&#x27;classifier__learning_rate&#x27;: (0.01, 0.1, 1, 10),\n",
       "                         &#x27;classifier__max_leaf_nodes&#x27;: (3, 10, 30)})</pre></div></div></div><div class=\"sk-parallel\"><div class=\"sk-parallel-item\"><div class=\"sk-item\"><div class=\"sk-label-container\"><div class=\"sk-label sk-toggleable\"><input class=\"sk-toggleable__control sk-hidden--visually\" id=\"sk-estimator-id-144\" type=\"checkbox\" ><label for=\"sk-estimator-id-144\" class=\"sk-toggleable__label sk-toggleable__label-arrow\">estimator: Pipeline</label><div class=\"sk-toggleable__content\"><pre>Pipeline(steps=[(&#x27;preprocessor&#x27;,\n",
       "                 ColumnTransformer(remainder=&#x27;passthrough&#x27;,\n",
       "                                   transformers=[(&#x27;cat_preprocessor&#x27;,\n",
       "                                                  OrdinalEncoder(handle_unknown=&#x27;use_encoded_value&#x27;,\n",
       "                                                                 unknown_value=-1),\n",
       "                                                  [&#x27;gender&#x27;, &#x27;job_title&#x27;,\n",
       "                                                   &#x27;job_industry_category&#x27;,\n",
       "                                                   &#x27;wealth_segment&#x27;,\n",
       "                                                   &#x27;deceased_indicator&#x27;,\n",
       "                                                   &#x27;owns_car&#x27;, &#x27;state&#x27;,\n",
       "                                                   &#x27;age_group&#x27;])])),\n",
       "                (&#x27;classifier&#x27;,\n",
       "                 HistGradientBoostingClassifier(max_leaf_nodes=4,\n",
       "                                                random_state=42))])</pre></div></div></div><div class=\"sk-serial\"><div class=\"sk-item\"><div class=\"sk-serial\"><div class=\"sk-item sk-dashed-wrapped\"><div class=\"sk-label-container\"><div class=\"sk-label sk-toggleable\"><input class=\"sk-toggleable__control sk-hidden--visually\" id=\"sk-estimator-id-145\" type=\"checkbox\" ><label for=\"sk-estimator-id-145\" class=\"sk-toggleable__label sk-toggleable__label-arrow\">preprocessor: ColumnTransformer</label><div class=\"sk-toggleable__content\"><pre>ColumnTransformer(remainder=&#x27;passthrough&#x27;,\n",
       "                  transformers=[(&#x27;cat_preprocessor&#x27;,\n",
       "                                 OrdinalEncoder(handle_unknown=&#x27;use_encoded_value&#x27;,\n",
       "                                                unknown_value=-1),\n",
       "                                 [&#x27;gender&#x27;, &#x27;job_title&#x27;,\n",
       "                                  &#x27;job_industry_category&#x27;, &#x27;wealth_segment&#x27;,\n",
       "                                  &#x27;deceased_indicator&#x27;, &#x27;owns_car&#x27;, &#x27;state&#x27;,\n",
       "                                  &#x27;age_group&#x27;])])</pre></div></div></div><div class=\"sk-parallel\"><div class=\"sk-parallel-item\"><div class=\"sk-item\"><div class=\"sk-label-container\"><div class=\"sk-label sk-toggleable\"><input class=\"sk-toggleable__control sk-hidden--visually\" id=\"sk-estimator-id-146\" type=\"checkbox\" ><label for=\"sk-estimator-id-146\" class=\"sk-toggleable__label sk-toggleable__label-arrow\">cat_preprocessor</label><div class=\"sk-toggleable__content\"><pre>[&#x27;gender&#x27;, &#x27;job_title&#x27;, &#x27;job_industry_category&#x27;, &#x27;wealth_segment&#x27;, &#x27;deceased_indicator&#x27;, &#x27;owns_car&#x27;, &#x27;state&#x27;, &#x27;age_group&#x27;]</pre></div></div></div><div class=\"sk-serial\"><div class=\"sk-item\"><div class=\"sk-estimator sk-toggleable\"><input class=\"sk-toggleable__control sk-hidden--visually\" id=\"sk-estimator-id-147\" type=\"checkbox\" ><label for=\"sk-estimator-id-147\" class=\"sk-toggleable__label sk-toggleable__label-arrow\">OrdinalEncoder</label><div class=\"sk-toggleable__content\"><pre>OrdinalEncoder(handle_unknown=&#x27;use_encoded_value&#x27;, unknown_value=-1)</pre></div></div></div></div></div></div><div class=\"sk-parallel-item\"><div class=\"sk-item\"><div class=\"sk-label-container\"><div class=\"sk-label sk-toggleable\"><input class=\"sk-toggleable__control sk-hidden--visually\" id=\"sk-estimator-id-148\" type=\"checkbox\" ><label for=\"sk-estimator-id-148\" class=\"sk-toggleable__label sk-toggleable__label-arrow\">remainder</label><div class=\"sk-toggleable__content\"><pre></pre></div></div></div><div class=\"sk-serial\"><div class=\"sk-item\"><div class=\"sk-estimator sk-toggleable\"><input class=\"sk-toggleable__control sk-hidden--visually\" id=\"sk-estimator-id-149\" type=\"checkbox\" ><label for=\"sk-estimator-id-149\" class=\"sk-toggleable__label sk-toggleable__label-arrow\">passthrough</label><div class=\"sk-toggleable__content\"><pre>passthrough</pre></div></div></div></div></div></div></div></div><div class=\"sk-item\"><div class=\"sk-estimator sk-toggleable\"><input class=\"sk-toggleable__control sk-hidden--visually\" id=\"sk-estimator-id-150\" type=\"checkbox\" ><label for=\"sk-estimator-id-150\" class=\"sk-toggleable__label sk-toggleable__label-arrow\">HistGradientBoostingClassifier</label><div class=\"sk-toggleable__content\"><pre>HistGradientBoostingClassifier(max_leaf_nodes=4, random_state=42)</pre></div></div></div></div></div></div></div></div></div></div></div></div>"
      ],
      "text/plain": [
       "GridSearchCV(cv=2,\n",
       "             estimator=Pipeline(steps=[('preprocessor',\n",
       "                                        ColumnTransformer(remainder='passthrough',\n",
       "                                                          transformers=[('cat_preprocessor',\n",
       "                                                                         OrdinalEncoder(handle_unknown='use_encoded_value',\n",
       "                                                                                        unknown_value=-1),\n",
       "                                                                         ['gender',\n",
       "                                                                          'job_title',\n",
       "                                                                          'job_industry_category',\n",
       "                                                                          'wealth_segment',\n",
       "                                                                          'deceased_indicator',\n",
       "                                                                          'owns_car',\n",
       "                                                                          'state',\n",
       "                                                                          'age_group'])])),\n",
       "                                       ('classifier',\n",
       "                                        HistGradientBoostingClassifier(max_leaf_nodes=4,\n",
       "                                                                       random_state=42))]),\n",
       "             n_jobs=2,\n",
       "             param_grid={'classifier__learning_rate': (0.01, 0.1, 1, 10),\n",
       "                         'classifier__max_leaf_nodes': (3, 10, 30)})"
      ]
     },
     "execution_count": 204,
     "metadata": {},
     "output_type": "execute_result"
    }
   ],
   "source": [
    "%%time\n",
    "from sklearn.model_selection import GridSearchCV\n",
    "\n",
    "param_grid = {\n",
    "    \"classifier__learning_rate\": (0.01, 0.1, 1, 10),\n",
    "    \"classifier__max_leaf_nodes\": (3, 10, 30),\n",
    "}\n",
    "model_grid_search = GridSearchCV(model, param_grid=param_grid, n_jobs=2, cv=2)\n",
    "model_grid_search.fit(data_train, target_train)"
   ]
  },
  {
   "cell_type": "code",
   "execution_count": 205,
   "metadata": {},
   "outputs": [
    {
     "name": "stdout",
     "output_type": "stream",
     "text": [
      "The test accuracy score of the grid-searched pipeline is: 0.95\n"
     ]
    }
   ],
   "source": [
    "accuracy = model_grid_search.score(data_test, target_test)\n",
    "print(\n",
    "    f\"The test accuracy score of the grid-searched pipeline is: {accuracy:.2f}\"\n",
    ")"
   ]
  },
  {
   "cell_type": "code",
   "execution_count": 206,
   "metadata": {},
   "outputs": [
    {
     "name": "stdout",
     "output_type": "stream",
     "text": [
      "The best set of parameters is: {'classifier__learning_rate': 0.1, 'classifier__max_leaf_nodes': 30}\n"
     ]
    }
   ],
   "source": [
    "print(f\"The best set of parameters is: {model_grid_search.best_params_}\")"
   ]
  },
  {
   "cell_type": "code",
   "execution_count": 207,
   "metadata": {},
   "outputs": [
    {
     "data": {
      "text/html": [
       "<div>\n",
       "<style scoped>\n",
       "    .dataframe tbody tr th:only-of-type {\n",
       "        vertical-align: middle;\n",
       "    }\n",
       "\n",
       "    .dataframe tbody tr th {\n",
       "        vertical-align: top;\n",
       "    }\n",
       "\n",
       "    .dataframe thead th {\n",
       "        text-align: right;\n",
       "    }\n",
       "</style>\n",
       "<table border=\"1\" class=\"dataframe\">\n",
       "  <thead>\n",
       "    <tr style=\"text-align: right;\">\n",
       "      <th></th>\n",
       "      <th>mean_fit_time</th>\n",
       "      <th>std_fit_time</th>\n",
       "      <th>mean_score_time</th>\n",
       "      <th>std_score_time</th>\n",
       "      <th>param_classifier__learning_rate</th>\n",
       "      <th>param_classifier__max_leaf_nodes</th>\n",
       "      <th>params</th>\n",
       "      <th>split0_test_score</th>\n",
       "      <th>split1_test_score</th>\n",
       "      <th>mean_test_score</th>\n",
       "      <th>std_test_score</th>\n",
       "      <th>rank_test_score</th>\n",
       "    </tr>\n",
       "  </thead>\n",
       "  <tbody>\n",
       "    <tr>\n",
       "      <th>5</th>\n",
       "      <td>4.207955</td>\n",
       "      <td>0.043758</td>\n",
       "      <td>0.117631</td>\n",
       "      <td>0.046231</td>\n",
       "      <td>0.1</td>\n",
       "      <td>30</td>\n",
       "      <td>{'classifier__learning_rate': 0.1, 'classifier...</td>\n",
       "      <td>0.893536</td>\n",
       "      <td>0.894219</td>\n",
       "      <td>0.893877</td>\n",
       "      <td>0.000342</td>\n",
       "      <td>1</td>\n",
       "    </tr>\n",
       "    <tr>\n",
       "      <th>4</th>\n",
       "      <td>1.693932</td>\n",
       "      <td>0.026523</td>\n",
       "      <td>0.155967</td>\n",
       "      <td>0.010307</td>\n",
       "      <td>0.1</td>\n",
       "      <td>10</td>\n",
       "      <td>{'classifier__learning_rate': 0.1, 'classifier...</td>\n",
       "      <td>0.734864</td>\n",
       "      <td>0.729807</td>\n",
       "      <td>0.732336</td>\n",
       "      <td>0.002528</td>\n",
       "      <td>2</td>\n",
       "    </tr>\n",
       "    <tr>\n",
       "      <th>2</th>\n",
       "      <td>6.659263</td>\n",
       "      <td>0.048238</td>\n",
       "      <td>0.109815</td>\n",
       "      <td>0.037286</td>\n",
       "      <td>0.01</td>\n",
       "      <td>30</td>\n",
       "      <td>{'classifier__learning_rate': 0.01, 'classifie...</td>\n",
       "      <td>0.689080</td>\n",
       "      <td>0.669400</td>\n",
       "      <td>0.679240</td>\n",
       "      <td>0.009840</td>\n",
       "      <td>3</td>\n",
       "    </tr>\n",
       "    <tr>\n",
       "      <th>1</th>\n",
       "      <td>1.792381</td>\n",
       "      <td>0.022881</td>\n",
       "      <td>0.083117</td>\n",
       "      <td>0.004744</td>\n",
       "      <td>0.01</td>\n",
       "      <td>10</td>\n",
       "      <td>{'classifier__learning_rate': 0.01, 'classifie...</td>\n",
       "      <td>0.565942</td>\n",
       "      <td>0.559519</td>\n",
       "      <td>0.562731</td>\n",
       "      <td>0.003212</td>\n",
       "      <td>4</td>\n",
       "    </tr>\n",
       "    <tr>\n",
       "      <th>7</th>\n",
       "      <td>1.258700</td>\n",
       "      <td>0.094601</td>\n",
       "      <td>0.143329</td>\n",
       "      <td>0.004096</td>\n",
       "      <td>1</td>\n",
       "      <td>10</td>\n",
       "      <td>{'classifier__learning_rate': 1, 'classifier__...</td>\n",
       "      <td>0.581112</td>\n",
       "      <td>0.540249</td>\n",
       "      <td>0.560681</td>\n",
       "      <td>0.020432</td>\n",
       "      <td>5</td>\n",
       "    </tr>\n",
       "  </tbody>\n",
       "</table>\n",
       "</div>"
      ],
      "text/plain": [
       "   mean_fit_time  std_fit_time  mean_score_time  std_score_time  \\\n",
       "5       4.207955      0.043758         0.117631        0.046231   \n",
       "4       1.693932      0.026523         0.155967        0.010307   \n",
       "2       6.659263      0.048238         0.109815        0.037286   \n",
       "1       1.792381      0.022881         0.083117        0.004744   \n",
       "7       1.258700      0.094601         0.143329        0.004096   \n",
       "\n",
       "  param_classifier__learning_rate param_classifier__max_leaf_nodes  \\\n",
       "5                             0.1                               30   \n",
       "4                             0.1                               10   \n",
       "2                            0.01                               30   \n",
       "1                            0.01                               10   \n",
       "7                               1                               10   \n",
       "\n",
       "                                              params  split0_test_score  \\\n",
       "5  {'classifier__learning_rate': 0.1, 'classifier...           0.893536   \n",
       "4  {'classifier__learning_rate': 0.1, 'classifier...           0.734864   \n",
       "2  {'classifier__learning_rate': 0.01, 'classifie...           0.689080   \n",
       "1  {'classifier__learning_rate': 0.01, 'classifie...           0.565942   \n",
       "7  {'classifier__learning_rate': 1, 'classifier__...           0.581112   \n",
       "\n",
       "   split1_test_score  mean_test_score  std_test_score  rank_test_score  \n",
       "5           0.894219         0.893877        0.000342                1  \n",
       "4           0.729807         0.732336        0.002528                2  \n",
       "2           0.669400         0.679240        0.009840                3  \n",
       "1           0.559519         0.562731        0.003212                4  \n",
       "7           0.540249         0.560681        0.020432                5  "
      ]
     },
     "execution_count": 207,
     "metadata": {},
     "output_type": "execute_result"
    }
   ],
   "source": [
    "cv_results = pd.DataFrame(model_grid_search.cv_results_).sort_values(\n",
    "    \"mean_test_score\", ascending=False\n",
    ")\n",
    "cv_results.head()"
   ]
  },
  {
   "cell_type": "markdown",
   "metadata": {},
   "source": [
    "## RandomSearchCV"
   ]
  },
  {
   "cell_type": "code",
   "execution_count": 208,
   "metadata": {},
   "outputs": [],
   "source": [
    "from sklearn.model_selection import train_test_split\n",
    "\n",
    "data_train, data_test, target_train, target_test = train_test_split(\n",
    "    data, target, random_state=42\n",
    ")"
   ]
  },
  {
   "cell_type": "code",
   "execution_count": 209,
   "metadata": {},
   "outputs": [],
   "source": [
    "from sklearn.compose import ColumnTransformer\n",
    "from sklearn.preprocessing import OrdinalEncoder\n",
    "from sklearn.compose import make_column_selector as selector\n",
    "\n",
    "categorical_columns_selector = selector(dtype_include=object)\n",
    "categorical_columns = categorical_columns_selector(data)\n",
    "\n",
    "categorical_preprocessor = OrdinalEncoder(\n",
    "    handle_unknown=\"use_encoded_value\", unknown_value=-1\n",
    ")\n",
    "preprocessor = ColumnTransformer(\n",
    "    [(\"cat_preprocessor\", categorical_preprocessor, categorical_columns)],\n",
    "    remainder=\"passthrough\",\n",
    ")"
   ]
  },
  {
   "cell_type": "code",
   "execution_count": 210,
   "metadata": {},
   "outputs": [
    {
     "data": {
      "text/html": [
       "<style>#sk-container-id-21 {color: black;}#sk-container-id-21 pre{padding: 0;}#sk-container-id-21 div.sk-toggleable {background-color: white;}#sk-container-id-21 label.sk-toggleable__label {cursor: pointer;display: block;width: 100%;margin-bottom: 0;padding: 0.3em;box-sizing: border-box;text-align: center;}#sk-container-id-21 label.sk-toggleable__label-arrow:before {content: \"▸\";float: left;margin-right: 0.25em;color: #696969;}#sk-container-id-21 label.sk-toggleable__label-arrow:hover:before {color: black;}#sk-container-id-21 div.sk-estimator:hover label.sk-toggleable__label-arrow:before {color: black;}#sk-container-id-21 div.sk-toggleable__content {max-height: 0;max-width: 0;overflow: hidden;text-align: left;background-color: #f0f8ff;}#sk-container-id-21 div.sk-toggleable__content pre {margin: 0.2em;color: black;border-radius: 0.25em;background-color: #f0f8ff;}#sk-container-id-21 input.sk-toggleable__control:checked~div.sk-toggleable__content {max-height: 200px;max-width: 100%;overflow: auto;}#sk-container-id-21 input.sk-toggleable__control:checked~label.sk-toggleable__label-arrow:before {content: \"▾\";}#sk-container-id-21 div.sk-estimator input.sk-toggleable__control:checked~label.sk-toggleable__label {background-color: #d4ebff;}#sk-container-id-21 div.sk-label input.sk-toggleable__control:checked~label.sk-toggleable__label {background-color: #d4ebff;}#sk-container-id-21 input.sk-hidden--visually {border: 0;clip: rect(1px 1px 1px 1px);clip: rect(1px, 1px, 1px, 1px);height: 1px;margin: -1px;overflow: hidden;padding: 0;position: absolute;width: 1px;}#sk-container-id-21 div.sk-estimator {font-family: monospace;background-color: #f0f8ff;border: 1px dotted black;border-radius: 0.25em;box-sizing: border-box;margin-bottom: 0.5em;}#sk-container-id-21 div.sk-estimator:hover {background-color: #d4ebff;}#sk-container-id-21 div.sk-parallel-item::after {content: \"\";width: 100%;border-bottom: 1px solid gray;flex-grow: 1;}#sk-container-id-21 div.sk-label:hover label.sk-toggleable__label {background-color: #d4ebff;}#sk-container-id-21 div.sk-serial::before {content: \"\";position: absolute;border-left: 1px solid gray;box-sizing: border-box;top: 0;bottom: 0;left: 50%;z-index: 0;}#sk-container-id-21 div.sk-serial {display: flex;flex-direction: column;align-items: center;background-color: white;padding-right: 0.2em;padding-left: 0.2em;position: relative;}#sk-container-id-21 div.sk-item {position: relative;z-index: 1;}#sk-container-id-21 div.sk-parallel {display: flex;align-items: stretch;justify-content: center;background-color: white;position: relative;}#sk-container-id-21 div.sk-item::before, #sk-container-id-21 div.sk-parallel-item::before {content: \"\";position: absolute;border-left: 1px solid gray;box-sizing: border-box;top: 0;bottom: 0;left: 50%;z-index: -1;}#sk-container-id-21 div.sk-parallel-item {display: flex;flex-direction: column;z-index: 1;position: relative;background-color: white;}#sk-container-id-21 div.sk-parallel-item:first-child::after {align-self: flex-end;width: 50%;}#sk-container-id-21 div.sk-parallel-item:last-child::after {align-self: flex-start;width: 50%;}#sk-container-id-21 div.sk-parallel-item:only-child::after {width: 0;}#sk-container-id-21 div.sk-dashed-wrapped {border: 1px dashed gray;margin: 0 0.4em 0.5em 0.4em;box-sizing: border-box;padding-bottom: 0.4em;background-color: white;}#sk-container-id-21 div.sk-label label {font-family: monospace;font-weight: bold;display: inline-block;line-height: 1.2em;}#sk-container-id-21 div.sk-label-container {text-align: center;}#sk-container-id-21 div.sk-container {/* jupyter's `normalize.less` sets `[hidden] { display: none; }` but bootstrap.min.css set `[hidden] { display: none !important; }` so we also need the `!important` here to be able to override the default hidden behavior on the sphinx rendered scikit-learn.org. See: https://github.com/scikit-learn/scikit-learn/issues/21755 */display: inline-block !important;position: relative;}#sk-container-id-21 div.sk-text-repr-fallback {display: none;}</style><div id=\"sk-container-id-21\" class=\"sk-top-container\"><div class=\"sk-text-repr-fallback\"><pre>Pipeline(steps=[(&#x27;preprocessor&#x27;,\n",
       "                 ColumnTransformer(remainder=&#x27;passthrough&#x27;,\n",
       "                                   transformers=[(&#x27;cat_preprocessor&#x27;,\n",
       "                                                  OrdinalEncoder(handle_unknown=&#x27;use_encoded_value&#x27;,\n",
       "                                                                 unknown_value=-1),\n",
       "                                                  [&#x27;gender&#x27;, &#x27;job_title&#x27;,\n",
       "                                                   &#x27;job_industry_category&#x27;,\n",
       "                                                   &#x27;wealth_segment&#x27;,\n",
       "                                                   &#x27;deceased_indicator&#x27;,\n",
       "                                                   &#x27;owns_car&#x27;, &#x27;state&#x27;,\n",
       "                                                   &#x27;age_group&#x27;])])),\n",
       "                (&#x27;classifier&#x27;,\n",
       "                 HistGradientBoostingClassifier(max_leaf_nodes=4,\n",
       "                                                random_state=42))])</pre><b>In a Jupyter environment, please rerun this cell to show the HTML representation or trust the notebook. <br />On GitHub, the HTML representation is unable to render, please try loading this page with nbviewer.org.</b></div><div class=\"sk-container\" hidden><div class=\"sk-item sk-dashed-wrapped\"><div class=\"sk-label-container\"><div class=\"sk-label sk-toggleable\"><input class=\"sk-toggleable__control sk-hidden--visually\" id=\"sk-estimator-id-151\" type=\"checkbox\" ><label for=\"sk-estimator-id-151\" class=\"sk-toggleable__label sk-toggleable__label-arrow\">Pipeline</label><div class=\"sk-toggleable__content\"><pre>Pipeline(steps=[(&#x27;preprocessor&#x27;,\n",
       "                 ColumnTransformer(remainder=&#x27;passthrough&#x27;,\n",
       "                                   transformers=[(&#x27;cat_preprocessor&#x27;,\n",
       "                                                  OrdinalEncoder(handle_unknown=&#x27;use_encoded_value&#x27;,\n",
       "                                                                 unknown_value=-1),\n",
       "                                                  [&#x27;gender&#x27;, &#x27;job_title&#x27;,\n",
       "                                                   &#x27;job_industry_category&#x27;,\n",
       "                                                   &#x27;wealth_segment&#x27;,\n",
       "                                                   &#x27;deceased_indicator&#x27;,\n",
       "                                                   &#x27;owns_car&#x27;, &#x27;state&#x27;,\n",
       "                                                   &#x27;age_group&#x27;])])),\n",
       "                (&#x27;classifier&#x27;,\n",
       "                 HistGradientBoostingClassifier(max_leaf_nodes=4,\n",
       "                                                random_state=42))])</pre></div></div></div><div class=\"sk-serial\"><div class=\"sk-item sk-dashed-wrapped\"><div class=\"sk-label-container\"><div class=\"sk-label sk-toggleable\"><input class=\"sk-toggleable__control sk-hidden--visually\" id=\"sk-estimator-id-152\" type=\"checkbox\" ><label for=\"sk-estimator-id-152\" class=\"sk-toggleable__label sk-toggleable__label-arrow\">preprocessor: ColumnTransformer</label><div class=\"sk-toggleable__content\"><pre>ColumnTransformer(remainder=&#x27;passthrough&#x27;,\n",
       "                  transformers=[(&#x27;cat_preprocessor&#x27;,\n",
       "                                 OrdinalEncoder(handle_unknown=&#x27;use_encoded_value&#x27;,\n",
       "                                                unknown_value=-1),\n",
       "                                 [&#x27;gender&#x27;, &#x27;job_title&#x27;,\n",
       "                                  &#x27;job_industry_category&#x27;, &#x27;wealth_segment&#x27;,\n",
       "                                  &#x27;deceased_indicator&#x27;, &#x27;owns_car&#x27;, &#x27;state&#x27;,\n",
       "                                  &#x27;age_group&#x27;])])</pre></div></div></div><div class=\"sk-parallel\"><div class=\"sk-parallel-item\"><div class=\"sk-item\"><div class=\"sk-label-container\"><div class=\"sk-label sk-toggleable\"><input class=\"sk-toggleable__control sk-hidden--visually\" id=\"sk-estimator-id-153\" type=\"checkbox\" ><label for=\"sk-estimator-id-153\" class=\"sk-toggleable__label sk-toggleable__label-arrow\">cat_preprocessor</label><div class=\"sk-toggleable__content\"><pre>[&#x27;gender&#x27;, &#x27;job_title&#x27;, &#x27;job_industry_category&#x27;, &#x27;wealth_segment&#x27;, &#x27;deceased_indicator&#x27;, &#x27;owns_car&#x27;, &#x27;state&#x27;, &#x27;age_group&#x27;]</pre></div></div></div><div class=\"sk-serial\"><div class=\"sk-item\"><div class=\"sk-estimator sk-toggleable\"><input class=\"sk-toggleable__control sk-hidden--visually\" id=\"sk-estimator-id-154\" type=\"checkbox\" ><label for=\"sk-estimator-id-154\" class=\"sk-toggleable__label sk-toggleable__label-arrow\">OrdinalEncoder</label><div class=\"sk-toggleable__content\"><pre>OrdinalEncoder(handle_unknown=&#x27;use_encoded_value&#x27;, unknown_value=-1)</pre></div></div></div></div></div></div><div class=\"sk-parallel-item\"><div class=\"sk-item\"><div class=\"sk-label-container\"><div class=\"sk-label sk-toggleable\"><input class=\"sk-toggleable__control sk-hidden--visually\" id=\"sk-estimator-id-155\" type=\"checkbox\" ><label for=\"sk-estimator-id-155\" class=\"sk-toggleable__label sk-toggleable__label-arrow\">remainder</label><div class=\"sk-toggleable__content\"><pre></pre></div></div></div><div class=\"sk-serial\"><div class=\"sk-item\"><div class=\"sk-estimator sk-toggleable\"><input class=\"sk-toggleable__control sk-hidden--visually\" id=\"sk-estimator-id-156\" type=\"checkbox\" ><label for=\"sk-estimator-id-156\" class=\"sk-toggleable__label sk-toggleable__label-arrow\">passthrough</label><div class=\"sk-toggleable__content\"><pre>passthrough</pre></div></div></div></div></div></div></div></div><div class=\"sk-item\"><div class=\"sk-estimator sk-toggleable\"><input class=\"sk-toggleable__control sk-hidden--visually\" id=\"sk-estimator-id-157\" type=\"checkbox\" ><label for=\"sk-estimator-id-157\" class=\"sk-toggleable__label sk-toggleable__label-arrow\">HistGradientBoostingClassifier</label><div class=\"sk-toggleable__content\"><pre>HistGradientBoostingClassifier(max_leaf_nodes=4, random_state=42)</pre></div></div></div></div></div></div></div>"
      ],
      "text/plain": [
       "Pipeline(steps=[('preprocessor',\n",
       "                 ColumnTransformer(remainder='passthrough',\n",
       "                                   transformers=[('cat_preprocessor',\n",
       "                                                  OrdinalEncoder(handle_unknown='use_encoded_value',\n",
       "                                                                 unknown_value=-1),\n",
       "                                                  ['gender', 'job_title',\n",
       "                                                   'job_industry_category',\n",
       "                                                   'wealth_segment',\n",
       "                                                   'deceased_indicator',\n",
       "                                                   'owns_car', 'state',\n",
       "                                                   'age_group'])])),\n",
       "                ('classifier',\n",
       "                 HistGradientBoostingClassifier(max_leaf_nodes=4,\n",
       "                                                random_state=42))])"
      ]
     },
     "execution_count": 210,
     "metadata": {},
     "output_type": "execute_result"
    }
   ],
   "source": [
    "from sklearn.ensemble import HistGradientBoostingClassifier\n",
    "from sklearn.pipeline import Pipeline\n",
    "\n",
    "model = Pipeline(\n",
    "    [\n",
    "        (\"preprocessor\", preprocessor),\n",
    "        (\n",
    "            \"classifier\",\n",
    "            HistGradientBoostingClassifier(random_state=42, max_leaf_nodes=4),\n",
    "        ),\n",
    "    ]\n",
    ")\n",
    "\n",
    "model"
   ]
  },
  {
   "cell_type": "code",
   "execution_count": 211,
   "metadata": {},
   "outputs": [],
   "source": [
    "from scipy.stats import loguniform\n",
    "\n",
    "\n",
    "class loguniform_int:\n",
    "    \"\"\"Integer valued version of the log-uniform distribution\"\"\"\n",
    "\n",
    "    def __init__(self, a, b):\n",
    "        self._distribution = loguniform(a, b)\n",
    "\n",
    "    def rvs(self, *args, **kwargs):\n",
    "        \"\"\"Random variable sample\"\"\"\n",
    "        return self._distribution.rvs(*args, **kwargs).astype(int)"
   ]
  },
  {
   "cell_type": "code",
   "execution_count": 212,
   "metadata": {},
   "outputs": [
    {
     "name": "stdout",
     "output_type": "stream",
     "text": [
      "Fitting 5 folds for each of 5 candidates, totalling 25 fits\n"
     ]
    },
    {
     "name": "stdout",
     "output_type": "stream",
     "text": [
      "CPU times: user 37.6 s, sys: 1.04 s, total: 38.6 s\n",
      "Wall time: 27.3 s\n"
     ]
    },
    {
     "data": {
      "text/html": [
       "<style>#sk-container-id-22 {color: black;}#sk-container-id-22 pre{padding: 0;}#sk-container-id-22 div.sk-toggleable {background-color: white;}#sk-container-id-22 label.sk-toggleable__label {cursor: pointer;display: block;width: 100%;margin-bottom: 0;padding: 0.3em;box-sizing: border-box;text-align: center;}#sk-container-id-22 label.sk-toggleable__label-arrow:before {content: \"▸\";float: left;margin-right: 0.25em;color: #696969;}#sk-container-id-22 label.sk-toggleable__label-arrow:hover:before {color: black;}#sk-container-id-22 div.sk-estimator:hover label.sk-toggleable__label-arrow:before {color: black;}#sk-container-id-22 div.sk-toggleable__content {max-height: 0;max-width: 0;overflow: hidden;text-align: left;background-color: #f0f8ff;}#sk-container-id-22 div.sk-toggleable__content pre {margin: 0.2em;color: black;border-radius: 0.25em;background-color: #f0f8ff;}#sk-container-id-22 input.sk-toggleable__control:checked~div.sk-toggleable__content {max-height: 200px;max-width: 100%;overflow: auto;}#sk-container-id-22 input.sk-toggleable__control:checked~label.sk-toggleable__label-arrow:before {content: \"▾\";}#sk-container-id-22 div.sk-estimator input.sk-toggleable__control:checked~label.sk-toggleable__label {background-color: #d4ebff;}#sk-container-id-22 div.sk-label input.sk-toggleable__control:checked~label.sk-toggleable__label {background-color: #d4ebff;}#sk-container-id-22 input.sk-hidden--visually {border: 0;clip: rect(1px 1px 1px 1px);clip: rect(1px, 1px, 1px, 1px);height: 1px;margin: -1px;overflow: hidden;padding: 0;position: absolute;width: 1px;}#sk-container-id-22 div.sk-estimator {font-family: monospace;background-color: #f0f8ff;border: 1px dotted black;border-radius: 0.25em;box-sizing: border-box;margin-bottom: 0.5em;}#sk-container-id-22 div.sk-estimator:hover {background-color: #d4ebff;}#sk-container-id-22 div.sk-parallel-item::after {content: \"\";width: 100%;border-bottom: 1px solid gray;flex-grow: 1;}#sk-container-id-22 div.sk-label:hover label.sk-toggleable__label {background-color: #d4ebff;}#sk-container-id-22 div.sk-serial::before {content: \"\";position: absolute;border-left: 1px solid gray;box-sizing: border-box;top: 0;bottom: 0;left: 50%;z-index: 0;}#sk-container-id-22 div.sk-serial {display: flex;flex-direction: column;align-items: center;background-color: white;padding-right: 0.2em;padding-left: 0.2em;position: relative;}#sk-container-id-22 div.sk-item {position: relative;z-index: 1;}#sk-container-id-22 div.sk-parallel {display: flex;align-items: stretch;justify-content: center;background-color: white;position: relative;}#sk-container-id-22 div.sk-item::before, #sk-container-id-22 div.sk-parallel-item::before {content: \"\";position: absolute;border-left: 1px solid gray;box-sizing: border-box;top: 0;bottom: 0;left: 50%;z-index: -1;}#sk-container-id-22 div.sk-parallel-item {display: flex;flex-direction: column;z-index: 1;position: relative;background-color: white;}#sk-container-id-22 div.sk-parallel-item:first-child::after {align-self: flex-end;width: 50%;}#sk-container-id-22 div.sk-parallel-item:last-child::after {align-self: flex-start;width: 50%;}#sk-container-id-22 div.sk-parallel-item:only-child::after {width: 0;}#sk-container-id-22 div.sk-dashed-wrapped {border: 1px dashed gray;margin: 0 0.4em 0.5em 0.4em;box-sizing: border-box;padding-bottom: 0.4em;background-color: white;}#sk-container-id-22 div.sk-label label {font-family: monospace;font-weight: bold;display: inline-block;line-height: 1.2em;}#sk-container-id-22 div.sk-label-container {text-align: center;}#sk-container-id-22 div.sk-container {/* jupyter's `normalize.less` sets `[hidden] { display: none; }` but bootstrap.min.css set `[hidden] { display: none !important; }` so we also need the `!important` here to be able to override the default hidden behavior on the sphinx rendered scikit-learn.org. See: https://github.com/scikit-learn/scikit-learn/issues/21755 */display: inline-block !important;position: relative;}#sk-container-id-22 div.sk-text-repr-fallback {display: none;}</style><div id=\"sk-container-id-22\" class=\"sk-top-container\"><div class=\"sk-text-repr-fallback\"><pre>RandomizedSearchCV(cv=5,\n",
       "                   estimator=Pipeline(steps=[(&#x27;preprocessor&#x27;,\n",
       "                                              ColumnTransformer(remainder=&#x27;passthrough&#x27;,\n",
       "                                                                transformers=[(&#x27;cat_preprocessor&#x27;,\n",
       "                                                                               OrdinalEncoder(handle_unknown=&#x27;use_encoded_value&#x27;,\n",
       "                                                                                              unknown_value=-1),\n",
       "                                                                               [&#x27;gender&#x27;,\n",
       "                                                                                &#x27;job_title&#x27;,\n",
       "                                                                                &#x27;job_industry_category&#x27;,\n",
       "                                                                                &#x27;wealth_segment&#x27;,\n",
       "                                                                                &#x27;deceased_indicator&#x27;,\n",
       "                                                                                &#x27;owns_car&#x27;,\n",
       "                                                                                &#x27;state&#x27;,\n",
       "                                                                                &#x27;age_group&#x27;])])),\n",
       "                                             (&#x27;classifier&#x27;,\n",
       "                                              HistGr...\n",
       "                   param_distributions={&#x27;classifier__l2_regularization&#x27;: &lt;scipy.stats._distn_infrastructure.rv_continuous_frozen object at 0x7ff26b380d90&gt;,\n",
       "                                        &#x27;classifier__learning_rate&#x27;: &lt;scipy.stats._distn_infrastructure.rv_continuous_frozen object at 0x7ff2469801c0&gt;,\n",
       "                                        &#x27;classifier__max_bins&#x27;: &lt;__main__.loguniform_int object at 0x7ff27762b850&gt;,\n",
       "                                        &#x27;classifier__max_leaf_nodes&#x27;: &lt;__main__.loguniform_int object at 0x7ff27762a110&gt;,\n",
       "                                        &#x27;classifier__min_samples_leaf&#x27;: &lt;__main__.loguniform_int object at 0x7ff27762aaa0&gt;},\n",
       "                   verbose=1)</pre><b>In a Jupyter environment, please rerun this cell to show the HTML representation or trust the notebook. <br />On GitHub, the HTML representation is unable to render, please try loading this page with nbviewer.org.</b></div><div class=\"sk-container\" hidden><div class=\"sk-item sk-dashed-wrapped\"><div class=\"sk-label-container\"><div class=\"sk-label sk-toggleable\"><input class=\"sk-toggleable__control sk-hidden--visually\" id=\"sk-estimator-id-158\" type=\"checkbox\" ><label for=\"sk-estimator-id-158\" class=\"sk-toggleable__label sk-toggleable__label-arrow\">RandomizedSearchCV</label><div class=\"sk-toggleable__content\"><pre>RandomizedSearchCV(cv=5,\n",
       "                   estimator=Pipeline(steps=[(&#x27;preprocessor&#x27;,\n",
       "                                              ColumnTransformer(remainder=&#x27;passthrough&#x27;,\n",
       "                                                                transformers=[(&#x27;cat_preprocessor&#x27;,\n",
       "                                                                               OrdinalEncoder(handle_unknown=&#x27;use_encoded_value&#x27;,\n",
       "                                                                                              unknown_value=-1),\n",
       "                                                                               [&#x27;gender&#x27;,\n",
       "                                                                                &#x27;job_title&#x27;,\n",
       "                                                                                &#x27;job_industry_category&#x27;,\n",
       "                                                                                &#x27;wealth_segment&#x27;,\n",
       "                                                                                &#x27;deceased_indicator&#x27;,\n",
       "                                                                                &#x27;owns_car&#x27;,\n",
       "                                                                                &#x27;state&#x27;,\n",
       "                                                                                &#x27;age_group&#x27;])])),\n",
       "                                             (&#x27;classifier&#x27;,\n",
       "                                              HistGr...\n",
       "                   param_distributions={&#x27;classifier__l2_regularization&#x27;: &lt;scipy.stats._distn_infrastructure.rv_continuous_frozen object at 0x7ff26b380d90&gt;,\n",
       "                                        &#x27;classifier__learning_rate&#x27;: &lt;scipy.stats._distn_infrastructure.rv_continuous_frozen object at 0x7ff2469801c0&gt;,\n",
       "                                        &#x27;classifier__max_bins&#x27;: &lt;__main__.loguniform_int object at 0x7ff27762b850&gt;,\n",
       "                                        &#x27;classifier__max_leaf_nodes&#x27;: &lt;__main__.loguniform_int object at 0x7ff27762a110&gt;,\n",
       "                                        &#x27;classifier__min_samples_leaf&#x27;: &lt;__main__.loguniform_int object at 0x7ff27762aaa0&gt;},\n",
       "                   verbose=1)</pre></div></div></div><div class=\"sk-parallel\"><div class=\"sk-parallel-item\"><div class=\"sk-item\"><div class=\"sk-label-container\"><div class=\"sk-label sk-toggleable\"><input class=\"sk-toggleable__control sk-hidden--visually\" id=\"sk-estimator-id-159\" type=\"checkbox\" ><label for=\"sk-estimator-id-159\" class=\"sk-toggleable__label sk-toggleable__label-arrow\">estimator: Pipeline</label><div class=\"sk-toggleable__content\"><pre>Pipeline(steps=[(&#x27;preprocessor&#x27;,\n",
       "                 ColumnTransformer(remainder=&#x27;passthrough&#x27;,\n",
       "                                   transformers=[(&#x27;cat_preprocessor&#x27;,\n",
       "                                                  OrdinalEncoder(handle_unknown=&#x27;use_encoded_value&#x27;,\n",
       "                                                                 unknown_value=-1),\n",
       "                                                  [&#x27;gender&#x27;, &#x27;job_title&#x27;,\n",
       "                                                   &#x27;job_industry_category&#x27;,\n",
       "                                                   &#x27;wealth_segment&#x27;,\n",
       "                                                   &#x27;deceased_indicator&#x27;,\n",
       "                                                   &#x27;owns_car&#x27;, &#x27;state&#x27;,\n",
       "                                                   &#x27;age_group&#x27;])])),\n",
       "                (&#x27;classifier&#x27;,\n",
       "                 HistGradientBoostingClassifier(max_leaf_nodes=4,\n",
       "                                                random_state=42))])</pre></div></div></div><div class=\"sk-serial\"><div class=\"sk-item\"><div class=\"sk-serial\"><div class=\"sk-item sk-dashed-wrapped\"><div class=\"sk-label-container\"><div class=\"sk-label sk-toggleable\"><input class=\"sk-toggleable__control sk-hidden--visually\" id=\"sk-estimator-id-160\" type=\"checkbox\" ><label for=\"sk-estimator-id-160\" class=\"sk-toggleable__label sk-toggleable__label-arrow\">preprocessor: ColumnTransformer</label><div class=\"sk-toggleable__content\"><pre>ColumnTransformer(remainder=&#x27;passthrough&#x27;,\n",
       "                  transformers=[(&#x27;cat_preprocessor&#x27;,\n",
       "                                 OrdinalEncoder(handle_unknown=&#x27;use_encoded_value&#x27;,\n",
       "                                                unknown_value=-1),\n",
       "                                 [&#x27;gender&#x27;, &#x27;job_title&#x27;,\n",
       "                                  &#x27;job_industry_category&#x27;, &#x27;wealth_segment&#x27;,\n",
       "                                  &#x27;deceased_indicator&#x27;, &#x27;owns_car&#x27;, &#x27;state&#x27;,\n",
       "                                  &#x27;age_group&#x27;])])</pre></div></div></div><div class=\"sk-parallel\"><div class=\"sk-parallel-item\"><div class=\"sk-item\"><div class=\"sk-label-container\"><div class=\"sk-label sk-toggleable\"><input class=\"sk-toggleable__control sk-hidden--visually\" id=\"sk-estimator-id-161\" type=\"checkbox\" ><label for=\"sk-estimator-id-161\" class=\"sk-toggleable__label sk-toggleable__label-arrow\">cat_preprocessor</label><div class=\"sk-toggleable__content\"><pre>[&#x27;gender&#x27;, &#x27;job_title&#x27;, &#x27;job_industry_category&#x27;, &#x27;wealth_segment&#x27;, &#x27;deceased_indicator&#x27;, &#x27;owns_car&#x27;, &#x27;state&#x27;, &#x27;age_group&#x27;]</pre></div></div></div><div class=\"sk-serial\"><div class=\"sk-item\"><div class=\"sk-estimator sk-toggleable\"><input class=\"sk-toggleable__control sk-hidden--visually\" id=\"sk-estimator-id-162\" type=\"checkbox\" ><label for=\"sk-estimator-id-162\" class=\"sk-toggleable__label sk-toggleable__label-arrow\">OrdinalEncoder</label><div class=\"sk-toggleable__content\"><pre>OrdinalEncoder(handle_unknown=&#x27;use_encoded_value&#x27;, unknown_value=-1)</pre></div></div></div></div></div></div><div class=\"sk-parallel-item\"><div class=\"sk-item\"><div class=\"sk-label-container\"><div class=\"sk-label sk-toggleable\"><input class=\"sk-toggleable__control sk-hidden--visually\" id=\"sk-estimator-id-163\" type=\"checkbox\" ><label for=\"sk-estimator-id-163\" class=\"sk-toggleable__label sk-toggleable__label-arrow\">remainder</label><div class=\"sk-toggleable__content\"><pre></pre></div></div></div><div class=\"sk-serial\"><div class=\"sk-item\"><div class=\"sk-estimator sk-toggleable\"><input class=\"sk-toggleable__control sk-hidden--visually\" id=\"sk-estimator-id-164\" type=\"checkbox\" ><label for=\"sk-estimator-id-164\" class=\"sk-toggleable__label sk-toggleable__label-arrow\">passthrough</label><div class=\"sk-toggleable__content\"><pre>passthrough</pre></div></div></div></div></div></div></div></div><div class=\"sk-item\"><div class=\"sk-estimator sk-toggleable\"><input class=\"sk-toggleable__control sk-hidden--visually\" id=\"sk-estimator-id-165\" type=\"checkbox\" ><label for=\"sk-estimator-id-165\" class=\"sk-toggleable__label sk-toggleable__label-arrow\">HistGradientBoostingClassifier</label><div class=\"sk-toggleable__content\"><pre>HistGradientBoostingClassifier(max_leaf_nodes=4, random_state=42)</pre></div></div></div></div></div></div></div></div></div></div></div></div>"
      ],
      "text/plain": [
       "RandomizedSearchCV(cv=5,\n",
       "                   estimator=Pipeline(steps=[('preprocessor',\n",
       "                                              ColumnTransformer(remainder='passthrough',\n",
       "                                                                transformers=[('cat_preprocessor',\n",
       "                                                                               OrdinalEncoder(handle_unknown='use_encoded_value',\n",
       "                                                                                              unknown_value=-1),\n",
       "                                                                               ['gender',\n",
       "                                                                                'job_title',\n",
       "                                                                                'job_industry_category',\n",
       "                                                                                'wealth_segment',\n",
       "                                                                                'deceased_indicator',\n",
       "                                                                                'owns_car',\n",
       "                                                                                'state',\n",
       "                                                                                'age_group'])])),\n",
       "                                             ('classifier',\n",
       "                                              HistGr...\n",
       "                   param_distributions={'classifier__l2_regularization': <scipy.stats._distn_infrastructure.rv_continuous_frozen object at 0x7ff26b380d90>,\n",
       "                                        'classifier__learning_rate': <scipy.stats._distn_infrastructure.rv_continuous_frozen object at 0x7ff2469801c0>,\n",
       "                                        'classifier__max_bins': <__main__.loguniform_int object at 0x7ff27762b850>,\n",
       "                                        'classifier__max_leaf_nodes': <__main__.loguniform_int object at 0x7ff27762a110>,\n",
       "                                        'classifier__min_samples_leaf': <__main__.loguniform_int object at 0x7ff27762aaa0>},\n",
       "                   verbose=1)"
      ]
     },
     "execution_count": 212,
     "metadata": {},
     "output_type": "execute_result"
    }
   ],
   "source": [
    "%%time\n",
    "from sklearn.model_selection import RandomizedSearchCV\n",
    "\n",
    "param_distributions = {\n",
    "    \"classifier__l2_regularization\": loguniform(1e-6, 1e3),\n",
    "    \"classifier__learning_rate\": loguniform(0.001, 10),\n",
    "    \"classifier__max_leaf_nodes\": loguniform_int(2, 256),\n",
    "    \"classifier__min_samples_leaf\": loguniform_int(1, 100),\n",
    "    \"classifier__max_bins\": loguniform_int(2, 255),\n",
    "}\n",
    "\n",
    "model_random_search = RandomizedSearchCV(\n",
    "    model,\n",
    "    param_distributions=param_distributions,\n",
    "    n_iter=5,\n",
    "    cv=5,\n",
    "    verbose=1,\n",
    "    n_jobs=-1,\n",
    ")\n",
    "model_random_search.fit(data_train, target_train)"
   ]
  },
  {
   "cell_type": "code",
   "execution_count": 213,
   "metadata": {},
   "outputs": [
    {
     "name": "stdout",
     "output_type": "stream",
     "text": [
      "The test accuracy score of the best model is 0.99\n"
     ]
    }
   ],
   "source": [
    "accuracy = model_random_search.score(data_test, target_test)\n",
    "\n",
    "print(f\"The test accuracy score of the best model is {accuracy:.2f}\")"
   ]
  },
  {
   "cell_type": "code",
   "execution_count": 214,
   "metadata": {},
   "outputs": [
    {
     "name": "stdout",
     "output_type": "stream",
     "text": [
      "The best parameters are:\n",
      "{'classifier__l2_regularization': 8.345470368802708,\n",
      " 'classifier__learning_rate': 0.9946611487089738,\n",
      " 'classifier__max_bins': 104,\n",
      " 'classifier__max_leaf_nodes': 255,\n",
      " 'classifier__min_samples_leaf': 8}\n"
     ]
    }
   ],
   "source": [
    "from pprint import pprint\n",
    "\n",
    "print(\"The best parameters are:\")\n",
    "pprint(model_random_search.best_params_)"
   ]
  },
  {
   "cell_type": "code",
   "execution_count": 239,
   "metadata": {},
   "outputs": [
    {
     "data": {
      "text/html": [
       "<div>\n",
       "<style scoped>\n",
       "    .dataframe tbody tr th:only-of-type {\n",
       "        vertical-align: middle;\n",
       "    }\n",
       "\n",
       "    .dataframe tbody tr th {\n",
       "        vertical-align: top;\n",
       "    }\n",
       "\n",
       "    .dataframe thead th {\n",
       "        text-align: right;\n",
       "    }\n",
       "</style>\n",
       "<table border=\"1\" class=\"dataframe\">\n",
       "  <thead>\n",
       "    <tr style=\"text-align: right;\">\n",
       "      <th></th>\n",
       "      <th>l2_regularization</th>\n",
       "      <th>learning_rate</th>\n",
       "      <th>max_leaf_nodes</th>\n",
       "      <th>min_samples_leaf</th>\n",
       "      <th>max_bins</th>\n",
       "      <th>mean_test_score</th>\n",
       "      <th>std_test_score</th>\n",
       "      <th>rank_test_score</th>\n",
       "    </tr>\n",
       "  </thead>\n",
       "  <tbody>\n",
       "    <tr>\n",
       "      <th>2</th>\n",
       "      <td>8.34547</td>\n",
       "      <td>0.994661</td>\n",
       "      <td>255</td>\n",
       "      <td>8</td>\n",
       "      <td>104</td>\n",
       "      <td>0.972940</td>\n",
       "      <td>0.002607</td>\n",
       "      <td>1</td>\n",
       "    </tr>\n",
       "    <tr>\n",
       "      <th>1</th>\n",
       "      <td>0.370407</td>\n",
       "      <td>0.527232</td>\n",
       "      <td>68</td>\n",
       "      <td>1</td>\n",
       "      <td>49</td>\n",
       "      <td>0.972940</td>\n",
       "      <td>0.001842</td>\n",
       "      <td>2</td>\n",
       "    </tr>\n",
       "    <tr>\n",
       "      <th>4</th>\n",
       "      <td>0.000046</td>\n",
       "      <td>0.310548</td>\n",
       "      <td>98</td>\n",
       "      <td>98</td>\n",
       "      <td>176</td>\n",
       "      <td>0.972392</td>\n",
       "      <td>0.004896</td>\n",
       "      <td>3</td>\n",
       "    </tr>\n",
       "    <tr>\n",
       "      <th>3</th>\n",
       "      <td>9.50623</td>\n",
       "      <td>0.012268</td>\n",
       "      <td>98</td>\n",
       "      <td>24</td>\n",
       "      <td>17</td>\n",
       "      <td>0.781537</td>\n",
       "      <td>0.006452</td>\n",
       "      <td>4</td>\n",
       "    </tr>\n",
       "    <tr>\n",
       "      <th>0</th>\n",
       "      <td>0.000007</td>\n",
       "      <td>0.838729</td>\n",
       "      <td>6</td>\n",
       "      <td>7</td>\n",
       "      <td>6</td>\n",
       "      <td>0.733503</td>\n",
       "      <td>0.068784</td>\n",
       "      <td>5</td>\n",
       "    </tr>\n",
       "  </tbody>\n",
       "</table>\n",
       "</div>"
      ],
      "text/plain": [
       "  l2_regularization learning_rate max_leaf_nodes min_samples_leaf max_bins  \\\n",
       "2           8.34547      0.994661            255                8      104   \n",
       "1          0.370407      0.527232             68                1       49   \n",
       "4          0.000046      0.310548             98               98      176   \n",
       "3           9.50623      0.012268             98               24       17   \n",
       "0          0.000007      0.838729              6                7        6   \n",
       "\n",
       "   mean_test_score  std_test_score  rank_test_score  \n",
       "2         0.972940        0.002607                1  \n",
       "1         0.972940        0.001842                2  \n",
       "4         0.972392        0.004896                3  \n",
       "3         0.781537        0.006452                4  \n",
       "0         0.733503        0.068784                5  "
      ]
     },
     "execution_count": 239,
     "metadata": {},
     "output_type": "execute_result"
    }
   ],
   "source": [
    "# get the parameter names\n",
    "column_results = [f\"param_{name}\" for name in param_distributions.keys()]\n",
    "column_results += [\"mean_test_score\", \"std_test_score\", \"rank_test_score\"]\n",
    "\n",
    "cv_results = pd.DataFrame(model_random_search.cv_results_)\n",
    "cv_results = cv_results[column_results].sort_values(\n",
    "    \"mean_test_score\", ascending=False\n",
    ")\n",
    "\n",
    "\n",
    "def shorten_param(param_name):\n",
    "    if \"__\" in param_name:\n",
    "        return param_name.rsplit(\"__\", 1)[1]\n",
    "    return param_name\n",
    "\n",
    "\n",
    "cv_results = cv_results.rename(shorten_param, axis=1)\n",
    "cv_results"
   ]
  },
  {
   "cell_type": "code",
   "execution_count": 223,
   "metadata": {},
   "outputs": [
    {
     "data": {
      "image/png": "[encoded data removed]",
      "text/plain": [
       "<Figure size 640x480 with 1 Axes>"
      ]
     },
     "metadata": {},
     "output_type": "display_data"
    }
   ],
   "source": [
    "import seaborn as sns\n",
    "import numpy as np\n",
    "\n",
    "df = pd.DataFrame(\n",
    "    {\n",
    "        \"max_leaf_nodes\": cv_results[\"max_leaf_nodes\"],\n",
    "        \"learning_rate\": cv_results[\"learning_rate\"],\n",
    "        \"score_bin\": pd.cut(\n",
    "            cv_results[\"mean_test_score\"], bins=np.linspace(0.5, 1.0, 6)\n",
    "        ),\n",
    "    }\n",
    ")\n",
    "sns.set_palette(\"YlGnBu_r\")\n",
    "ax = sns.scatterplot(\n",
    "    data=df,\n",
    "    x=\"max_leaf_nodes\",\n",
    "    y=\"learning_rate\",\n",
    "    hue=\"score_bin\",\n",
    "    s=50,\n",
    "    color=\"k\",\n",
    "    edgecolor=None,\n",
    ")\n",
    "ax.set_xscale(\"log\")\n",
    "ax.set_yscale(\"log\")\n",
    "\n",
    "_ = ax.legend(\n",
    "    title=\"mean_test_score\", loc=\"center left\", bbox_to_anchor=(1, 0.5)\n",
    ")"
   ]
  },
  {
   "cell_type": "code",
   "execution_count": 242,
   "metadata": {},
   "outputs": [
    {
     "data": {
      "text/html": [
       "<div>\n",
       "<style scoped>\n",
       "    .dataframe tbody tr th:only-of-type {\n",
       "        vertical-align: middle;\n",
       "    }\n",
       "\n",
       "    .dataframe tbody tr th {\n",
       "        vertical-align: top;\n",
       "    }\n",
       "\n",
       "    .dataframe thead th {\n",
       "        text-align: right;\n",
       "    }\n",
       "</style>\n",
       "<table border=\"1\" class=\"dataframe\">\n",
       "  <thead>\n",
       "    <tr style=\"text-align: right;\">\n",
       "      <th></th>\n",
       "      <th>l2_regularization</th>\n",
       "      <th>learning_rate</th>\n",
       "      <th>max_leaf_nodes</th>\n",
       "      <th>min_samples_leaf</th>\n",
       "      <th>max_bins</th>\n",
       "      <th>mean_test_score</th>\n",
       "      <th>std_test_score</th>\n",
       "      <th>rank_test_score</th>\n",
       "    </tr>\n",
       "  </thead>\n",
       "  <tbody>\n",
       "    <tr>\n",
       "      <th>2</th>\n",
       "      <td>8.34547</td>\n",
       "      <td>0.994661</td>\n",
       "      <td>255</td>\n",
       "      <td>8</td>\n",
       "      <td>104</td>\n",
       "      <td>0.972940</td>\n",
       "      <td>0.002607</td>\n",
       "      <td>1</td>\n",
       "    </tr>\n",
       "    <tr>\n",
       "      <th>1</th>\n",
       "      <td>0.370407</td>\n",
       "      <td>0.527232</td>\n",
       "      <td>68</td>\n",
       "      <td>1</td>\n",
       "      <td>49</td>\n",
       "      <td>0.972940</td>\n",
       "      <td>0.001842</td>\n",
       "      <td>2</td>\n",
       "    </tr>\n",
       "    <tr>\n",
       "      <th>4</th>\n",
       "      <td>0.000046</td>\n",
       "      <td>0.310548</td>\n",
       "      <td>98</td>\n",
       "      <td>98</td>\n",
       "      <td>176</td>\n",
       "      <td>0.972392</td>\n",
       "      <td>0.004896</td>\n",
       "      <td>3</td>\n",
       "    </tr>\n",
       "    <tr>\n",
       "      <th>3</th>\n",
       "      <td>9.50623</td>\n",
       "      <td>0.012268</td>\n",
       "      <td>98</td>\n",
       "      <td>24</td>\n",
       "      <td>17</td>\n",
       "      <td>0.781537</td>\n",
       "      <td>0.006452</td>\n",
       "      <td>4</td>\n",
       "    </tr>\n",
       "    <tr>\n",
       "      <th>0</th>\n",
       "      <td>0.000007</td>\n",
       "      <td>0.838729</td>\n",
       "      <td>6</td>\n",
       "      <td>7</td>\n",
       "      <td>6</td>\n",
       "      <td>0.733503</td>\n",
       "      <td>0.068784</td>\n",
       "      <td>5</td>\n",
       "    </tr>\n",
       "  </tbody>\n",
       "</table>\n",
       "</div>"
      ],
      "text/plain": [
       "  l2_regularization learning_rate max_leaf_nodes min_samples_leaf max_bins  \\\n",
       "2           8.34547      0.994661            255                8      104   \n",
       "1          0.370407      0.527232             68                1       49   \n",
       "4          0.000046      0.310548             98               98      176   \n",
       "3           9.50623      0.012268             98               24       17   \n",
       "0          0.000007      0.838729              6                7        6   \n",
       "\n",
       "   mean_test_score  std_test_score  rank_test_score  \n",
       "2         0.972940        0.002607                1  \n",
       "1         0.972940        0.001842                2  \n",
       "4         0.972392        0.004896                3  \n",
       "3         0.781537        0.006452                4  \n",
       "0         0.733503        0.068784                5  "
      ]
     },
     "execution_count": 242,
     "metadata": {},
     "output_type": "execute_result"
    }
   ],
   "source": [
    "cv_results"
   ]
  },
  {
   "cell_type": "code",
   "execution_count": 251,
   "metadata": {},
   "outputs": [
    {
     "data": {
      "application/vnd.plotly.v1+json": {
       "config": {
        "plotlyServerURL": "https://plot.ly"
       },
       "data": [
        {
         "dimensions": [
          {
           "label": "learning_rate",
           "values": [
            -0.07637821070870005,
            -0.27799844741425156,
            -0.00232484519372078,
            -1.9112366786212165,
            -0.5078711981575555
           ]
          },
          {
           "label": "max_leaf_nodes",
           "values": [
            2.584962500721156,
            6.087462841250339,
            7.994353436858858,
            6.614709844115208,
            6.614709844115208
           ]
          },
          {
           "label": "min_samples_leaf",
           "values": [
            2.807354922057604,
            0,
            3,
            4.584962500721156,
            6.614709844115208
           ]
          },
          {
           "label": "max_bins",
           "values": [
            0.7781512503836436,
            1.6901960800285136,
            2.0170333392987803,
            1.2304489213782739,
            2.24551266781415
           ]
          },
          {
           "label": "l2_regularization",
           "values": [
            -5.1579417944517445,
            -0.43132109913377414,
            0.9214508194836388,
            0.9780083298324869,
            -4.340982070650534
           ]
          },
          {
           "label": "mean_test_score",
           "values": [
            0.9729395934473886,
            0.9729395467424344,
            0.9723924449132584,
            0.7815369479386886,
            0.733502560949381
           ]
          }
         ],
         "domain": {
          "x": [
           0,
           1
          ],
          "y": [
           0,
           1
          ]
         },
         "line": {
          "color": [
           0.9729395934473886,
           0.9729395467424344,
           0.9723924449132584,
           0.7815369479386886,
           0.733502560949381
          ],
          "coloraxis": "coloraxis"
         },
         "name": "",
         "type": "parcoords"
        }
       ],
       "layout": {
        "coloraxis": {
         "colorbar": {
          "title": {
           "text": "mean_test_score"
          }
         },
         "colorscale": [
          [
           0,
           "#440154"
          ],
          [
           0.1111111111111111,
           "#482878"
          ],
          [
           0.2222222222222222,
           "#3e4989"
          ],
          [
           0.3333333333333333,
           "#31688e"
          ],
          [
           0.4444444444444444,
           "#26828e"
          ],
          [
           0.5555555555555556,
           "#1f9e89"
          ],
          [
           0.6666666666666666,
           "#35b779"
          ],
          [
           0.7777777777777778,
           "#6ece58"
          ],
          [
           0.8888888888888888,
           "#b5de2b"
          ],
          [
           1,
           "#fde725"
          ]
         ]
        },
        "legend": {
         "tracegroupgap": 0
        },
        "margin": {
         "t": 60
        },
        "template": {
         "data": {
          "bar": [
           {
            "error_x": {
             "color": "#2a3f5f"
            },
            "error_y": {
             "color": "#2a3f5f"
            },
            "marker": {
             "line": {
              "color": "#E5ECF6",
              "width": 0.5
             },
             "pattern": {
              "fillmode": "overlay",
              "size": 10,
              "solidity": 0.2
             }
            },
            "type": "bar"
           }
          ],
          "barpolar": [
           {
            "marker": {
             "line": {
              "color": "#E5ECF6",
              "width": 0.5
             },
             "pattern": {
              "fillmode": "overlay",
              "size": 10,
              "solidity": 0.2
             }
            },
            "type": "barpolar"
           }
          ],
          "carpet": [
           {
            "aaxis": {
             "endlinecolor": "#2a3f5f",
             "gridcolor": "white",
             "linecolor": "white",
             "minorgridcolor": "white",
             "startlinecolor": "#2a3f5f"
            },
            "baxis": {
             "endlinecolor": "#2a3f5f",
             "gridcolor": "white",
             "linecolor": "white",
             "minorgridcolor": "white",
             "startlinecolor": "#2a3f5f"
            },
            "type": "carpet"
           }
          ],
          "choropleth": [
           {
            "colorbar": {
             "outlinewidth": 0,
             "ticks": ""
            },
            "type": "choropleth"
           }
          ],
          "contour": [
           {
            "colorbar": {
             "outlinewidth": 0,
             "ticks": ""
            },
            "colorscale": [
             [
              0,
              "#0d0887"
             ],
             [
              0.1111111111111111,
              "#46039f"
             ],
             [
              0.2222222222222222,
              "#7201a8"
             ],
             [
              0.3333333333333333,
              "#9c179e"
             ],
             [
              0.4444444444444444,
              "#bd3786"
             ],
             [
              0.5555555555555556,
              "#d8576b"
             ],
             [
              0.6666666666666666,
              "#ed7953"
             ],
             [
              0.7777777777777778,
              "#fb9f3a"
             ],
             [
              0.8888888888888888,
              "#fdca26"
             ],
             [
              1,
              "#f0f921"
             ]
            ],
            "type": "contour"
           }
          ],
          "contourcarpet": [
           {
            "colorbar": {
             "outlinewidth": 0,
             "ticks": ""
            },
            "type": "contourcarpet"
           }
          ],
          "heatmap": [
           {
            "colorbar": {
             "outlinewidth": 0,
             "ticks": ""
            },
            "colorscale": [
             [
              0,
              "#0d0887"
             ],
             [
              0.1111111111111111,
              "#46039f"
             ],
             [
              0.2222222222222222,
              "#7201a8"
             ],
             [
              0.3333333333333333,
              "#9c179e"
             ],
             [
              0.4444444444444444,
              "#bd3786"
             ],
             [
              0.5555555555555556,
              "#d8576b"
             ],
             [
              0.6666666666666666,
              "#ed7953"
             ],
             [
              0.7777777777777778,
              "#fb9f3a"
             ],
             [
              0.8888888888888888,
              "#fdca26"
             ],
             [
              1,
              "#f0f921"
             ]
            ],
            "type": "heatmap"
           }
          ],
          "heatmapgl": [
           {
            "colorbar": {
             "outlinewidth": 0,
             "ticks": ""
            },
            "colorscale": [
             [
              0,
              "#0d0887"
             ],
             [
              0.1111111111111111,
              "#46039f"
             ],
             [
              0.2222222222222222,
              "#7201a8"
             ],
             [
              0.3333333333333333,
              "#9c179e"
             ],
             [
              0.4444444444444444,
              "#bd3786"
             ],
             [
              0.5555555555555556,
              "#d8576b"
             ],
             [
              0.6666666666666666,
              "#ed7953"
             ],
             [
              0.7777777777777778,
              "#fb9f3a"
             ],
             [
              0.8888888888888888,
              "#fdca26"
             ],
             [
              1,
              "#f0f921"
             ]
            ],
            "type": "heatmapgl"
           }
          ],
          "histogram": [
           {
            "marker": {
             "pattern": {
              "fillmode": "overlay",
              "size": 10,
              "solidity": 0.2
             }
            },
            "type": "histogram"
           }
          ],
          "histogram2d": [
           {
            "colorbar": {
             "outlinewidth": 0,
             "ticks": ""
            },
            "colorscale": [
             [
              0,
              "#0d0887"
             ],
             [
              0.1111111111111111,
              "#46039f"
             ],
             [
              0.2222222222222222,
              "#7201a8"
             ],
             [
              0.3333333333333333,
              "#9c179e"
             ],
             [
              0.4444444444444444,
              "#bd3786"
             ],
             [
              0.5555555555555556,
              "#d8576b"
             ],
             [
              0.6666666666666666,
              "#ed7953"
             ],
             [
              0.7777777777777778,
              "#fb9f3a"
             ],
             [
              0.8888888888888888,
              "#fdca26"
             ],
             [
              1,
              "#f0f921"
             ]
            ],
            "type": "histogram2d"
           }
          ],
          "histogram2dcontour": [
           {
            "colorbar": {
             "outlinewidth": 0,
             "ticks": ""
            },
            "colorscale": [
             [
              0,
              "#0d0887"
             ],
             [
              0.1111111111111111,
              "#46039f"
             ],
             [
              0.2222222222222222,
              "#7201a8"
             ],
             [
              0.3333333333333333,
              "#9c179e"
             ],
             [
              0.4444444444444444,
              "#bd3786"
             ],
             [
              0.5555555555555556,
              "#d8576b"
             ],
             [
              0.6666666666666666,
              "#ed7953"
             ],
             [
              0.7777777777777778,
              "#fb9f3a"
             ],
             [
              0.8888888888888888,
              "#fdca26"
             ],
             [
              1,
              "#f0f921"
             ]
            ],
            "type": "histogram2dcontour"
           }
          ],
          "mesh3d": [
           {
            "colorbar": {
             "outlinewidth": 0,
             "ticks": ""
            },
            "type": "mesh3d"
           }
          ],
          "parcoords": [
           {
            "line": {
             "colorbar": {
              "outlinewidth": 0,
              "ticks": ""
             }
            },
            "type": "parcoords"
           }
          ],
          "pie": [
           {
            "automargin": true,
            "type": "pie"
           }
          ],
          "scatter": [
           {
            "fillpattern": {
             "fillmode": "overlay",
             "size": 10,
             "solidity": 0.2
            },
            "type": "scatter"
           }
          ],
          "scatter3d": [
           {
            "line": {
             "colorbar": {
              "outlinewidth": 0,
              "ticks": ""
             }
            },
            "marker": {
             "colorbar": {
              "outlinewidth": 0,
              "ticks": ""
             }
            },
            "type": "scatter3d"
           }
          ],
          "scattercarpet": [
           {
            "marker": {
             "colorbar": {
              "outlinewidth": 0,
              "ticks": ""
             }
            },
            "type": "scattercarpet"
           }
          ],
          "scattergeo": [
           {
            "marker": {
             "colorbar": {
              "outlinewidth": 0,
              "ticks": ""
             }
            },
            "type": "scattergeo"
           }
          ],
          "scattergl": [
           {
            "marker": {
             "colorbar": {
              "outlinewidth": 0,
              "ticks": ""
             }
            },
            "type": "scattergl"
           }
          ],
          "scattermapbox": [
           {
            "marker": {
             "colorbar": {
              "outlinewidth": 0,
              "ticks": ""
             }
            },
            "type": "scattermapbox"
           }
          ],
          "scatterpolar": [
           {
            "marker": {
             "colorbar": {
              "outlinewidth": 0,
              "ticks": ""
             }
            },
            "type": "scatterpolar"
           }
          ],
          "scatterpolargl": [
           {
            "marker": {
             "colorbar": {
              "outlinewidth": 0,
              "ticks": ""
             }
            },
            "type": "scatterpolargl"
           }
          ],
          "scatterternary": [
           {
            "marker": {
             "colorbar": {
              "outlinewidth": 0,
              "ticks": ""
             }
            },
            "type": "scatterternary"
           }
          ],
          "surface": [
           {
            "colorbar": {
             "outlinewidth": 0,
             "ticks": ""
            },
            "colorscale": [
             [
              0,
              "#0d0887"
             ],
             [
              0.1111111111111111,
              "#46039f"
             ],
             [
              0.2222222222222222,
              "#7201a8"
             ],
             [
              0.3333333333333333,
              "#9c179e"
             ],
             [
              0.4444444444444444,
              "#bd3786"
             ],
             [
              0.5555555555555556,
              "#d8576b"
             ],
             [
              0.6666666666666666,
              "#ed7953"
             ],
             [
              0.7777777777777778,
              "#fb9f3a"
             ],
             [
              0.8888888888888888,
              "#fdca26"
             ],
             [
              1,
              "#f0f921"
             ]
            ],
            "type": "surface"
           }
          ],
          "table": [
           {
            "cells": {
             "fill": {
              "color": "#EBF0F8"
             },
             "line": {
              "color": "white"
             }
            },
            "header": {
             "fill": {
              "color": "#C8D4E3"
             },
             "line": {
              "color": "white"
             }
            },
            "type": "table"
           }
          ]
         },
         "layout": {
          "annotationdefaults": {
           "arrowcolor": "#2a3f5f",
           "arrowhead": 0,
           "arrowwidth": 1
          },
          "autotypenumbers": "strict",
          "coloraxis": {
           "colorbar": {
            "outlinewidth": 0,
            "ticks": ""
           }
          },
          "colorscale": {
           "diverging": [
            [
             0,
             "#8e0152"
            ],
            [
             0.1,
             "#c51b7d"
            ],
            [
             0.2,
             "#de77ae"
            ],
            [
             0.3,
             "#f1b6da"
            ],
            [
             0.4,
             "#fde0ef"
            ],
            [
             0.5,
             "#f7f7f7"
            ],
            [
             0.6,
             "#e6f5d0"
            ],
            [
             0.7,
             "#b8e186"
            ],
            [
             0.8,
             "#7fbc41"
            ],
            [
             0.9,
             "#4d9221"
            ],
            [
             1,
             "#276419"
            ]
           ],
           "sequential": [
            [
             0,
             "#0d0887"
            ],
            [
             0.1111111111111111,
             "#46039f"
            ],
            [
             0.2222222222222222,
             "#7201a8"
            ],
            [
             0.3333333333333333,
             "#9c179e"
            ],
            [
             0.4444444444444444,
             "#bd3786"
            ],
            [
             0.5555555555555556,
             "#d8576b"
            ],
            [
             0.6666666666666666,
             "#ed7953"
            ],
            [
             0.7777777777777778,
             "#fb9f3a"
            ],
            [
             0.8888888888888888,
             "#fdca26"
            ],
            [
             1,
             "#f0f921"
            ]
           ],
           "sequentialminus": [
            [
             0,
             "#0d0887"
            ],
            [
             0.1111111111111111,
             "#46039f"
            ],
            [
             0.2222222222222222,
             "#7201a8"
            ],
            [
             0.3333333333333333,
             "#9c179e"
            ],
            [
             0.4444444444444444,
             "#bd3786"
            ],
            [
             0.5555555555555556,
             "#d8576b"
            ],
            [
             0.6666666666666666,
             "#ed7953"
            ],
            [
             0.7777777777777778,
             "#fb9f3a"
            ],
            [
             0.8888888888888888,
             "#fdca26"
            ],
            [
             1,
             "#f0f921"
            ]
           ]
          },
          "colorway": [
           "#636efa",
           "#EF553B",
           "#00cc96",
           "#ab63fa",
           "#FFA15A",
           "#19d3f3",
           "#FF6692",
           "#B6E880",
           "#FF97FF",
           "#FECB52"
          ],
          "font": {
           "color": "#2a3f5f"
          },
          "geo": {
           "bgcolor": "white",
           "lakecolor": "white",
           "landcolor": "#E5ECF6",
           "showlakes": true,
           "showland": true,
           "subunitcolor": "white"
          },
          "hoverlabel": {
           "align": "left"
          },
          "hovermode": "closest",
          "mapbox": {
           "style": "light"
          },
          "paper_bgcolor": "white",
          "plot_bgcolor": "#E5ECF6",
          "polar": {
           "angularaxis": {
            "gridcolor": "white",
            "linecolor": "white",
            "ticks": ""
           },
           "bgcolor": "#E5ECF6",
           "radialaxis": {
            "gridcolor": "white",
            "linecolor": "white",
            "ticks": ""
           }
          },
          "scene": {
           "xaxis": {
            "backgroundcolor": "#E5ECF6",
            "gridcolor": "white",
            "gridwidth": 2,
            "linecolor": "white",
            "showbackground": true,
            "ticks": "",
            "zerolinecolor": "white"
           },
           "yaxis": {
            "backgroundcolor": "#E5ECF6",
            "gridcolor": "white",
            "gridwidth": 2,
            "linecolor": "white",
            "showbackground": true,
            "ticks": "",
            "zerolinecolor": "white"
           },
           "zaxis": {
            "backgroundcolor": "#E5ECF6",
            "gridcolor": "white",
            "gridwidth": 2,
            "linecolor": "white",
            "showbackground": true,
            "ticks": "",
            "zerolinecolor": "white"
           }
          },
          "shapedefaults": {
           "line": {
            "color": "#2a3f5f"
           }
          },
          "ternary": {
           "aaxis": {
            "gridcolor": "white",
            "linecolor": "white",
            "ticks": ""
           },
           "baxis": {
            "gridcolor": "white",
            "linecolor": "white",
            "ticks": ""
           },
           "bgcolor": "#E5ECF6",
           "caxis": {
            "gridcolor": "white",
            "linecolor": "white",
            "ticks": ""
           }
          },
          "title": {
           "x": 0.05
          },
          "xaxis": {
           "automargin": true,
           "gridcolor": "white",
           "linecolor": "white",
           "ticks": "",
           "title": {
            "standoff": 15
           },
           "zerolinecolor": "white",
           "zerolinewidth": 2
          },
          "yaxis": {
           "automargin": true,
           "gridcolor": "white",
           "linecolor": "white",
           "ticks": "",
           "title": {
            "standoff": 15
           },
           "zerolinecolor": "white",
           "zerolinewidth": 2
          }
         }
        }
       }
      },
      "text/html": [
       "<div>                            <div id=\"74beff56-f305-4ce8-8ef0-a14694e5e45f\" class=\"plotly-graph-div\" style=\"height:525px; width:100%;\"></div>            <script type=\"text/javascript\">                require([\"plotly\"], function(Plotly) {                    window.PLOTLYENV=window.PLOTLYENV || {};                                    if (document.getElementById(\"74beff56-f305-4ce8-8ef0-a14694e5e45f\")) {                    Plotly.newPlot(                        \"74beff56-f305-4ce8-8ef0-a14694e5e45f\",                        [{\"dimensions\":[{\"label\":\"learning_rate\",\"values\":[-0.07637821070870005,-0.27799844741425156,-0.00232484519372078,-1.9112366786212165,-0.5078711981575555]},{\"label\":\"max_leaf_nodes\",\"values\":[2.584962500721156,6.087462841250339,7.994353436858858,6.614709844115208,6.614709844115208]},{\"label\":\"min_samples_leaf\",\"values\":[2.807354922057604,0.0,3.0,4.584962500721156,6.614709844115208]},{\"label\":\"max_bins\",\"values\":[0.7781512503836436,1.6901960800285136,2.0170333392987803,1.2304489213782739,2.24551266781415]},{\"label\":\"l2_regularization\",\"values\":[-5.1579417944517445,-0.43132109913377414,0.9214508194836388,0.9780083298324869,-4.340982070650534]},{\"label\":\"mean_test_score\",\"values\":[0.9729395934473886,0.9729395467424344,0.9723924449132584,0.7815369479386886,0.733502560949381]}],\"domain\":{\"x\":[0.0,1.0],\"y\":[0.0,1.0]},\"line\":{\"color\":[0.9729395934473886,0.9729395467424344,0.9723924449132584,0.7815369479386886,0.733502560949381],\"coloraxis\":\"coloraxis\"},\"name\":\"\",\"type\":\"parcoords\"}],                        {\"template\":{\"data\":{\"histogram2dcontour\":[{\"type\":\"histogram2dcontour\",\"colorbar\":{\"outlinewidth\":0,\"ticks\":\"\"},\"colorscale\":[[0.0,\"#0d0887\"],[0.1111111111111111,\"#46039f\"],[0.2222222222222222,\"#7201a8\"],[0.3333333333333333,\"#9c179e\"],[0.4444444444444444,\"#bd3786\"],[0.5555555555555556,\"#d8576b\"],[0.6666666666666666,\"#ed7953\"],[0.7777777777777778,\"#fb9f3a\"],[0.8888888888888888,\"#fdca26\"],[1.0,\"#f0f921\"]]}],\"choropleth\":[{\"type\":\"choropleth\",\"colorbar\":{\"outlinewidth\":0,\"ticks\":\"\"}}],\"histogram2d\":[{\"type\":\"histogram2d\",\"colorbar\":{\"outlinewidth\":0,\"ticks\":\"\"},\"colorscale\":[[0.0,\"#0d0887\"],[0.1111111111111111,\"#46039f\"],[0.2222222222222222,\"#7201a8\"],[0.3333333333333333,\"#9c179e\"],[0.4444444444444444,\"#bd3786\"],[0.5555555555555556,\"#d8576b\"],[0.6666666666666666,\"#ed7953\"],[0.7777777777777778,\"#fb9f3a\"],[0.8888888888888888,\"#fdca26\"],[1.0,\"#f0f921\"]]}],\"heatmap\":[{\"type\":\"heatmap\",\"colorbar\":{\"outlinewidth\":0,\"ticks\":\"\"},\"colorscale\":[[0.0,\"#0d0887\"],[0.1111111111111111,\"#46039f\"],[0.2222222222222222,\"#7201a8\"],[0.3333333333333333,\"#9c179e\"],[0.4444444444444444,\"#bd3786\"],[0.5555555555555556,\"#d8576b\"],[0.6666666666666666,\"#ed7953\"],[0.7777777777777778,\"#fb9f3a\"],[0.8888888888888888,\"#fdca26\"],[1.0,\"#f0f921\"]]}],\"heatmapgl\":[{\"type\":\"heatmapgl\",\"colorbar\":{\"outlinewidth\":0,\"ticks\":\"\"},\"colorscale\":[[0.0,\"#0d0887\"],[0.1111111111111111,\"#46039f\"],[0.2222222222222222,\"#7201a8\"],[0.3333333333333333,\"#9c179e\"],[0.4444444444444444,\"#bd3786\"],[0.5555555555555556,\"#d8576b\"],[0.6666666666666666,\"#ed7953\"],[0.7777777777777778,\"#fb9f3a\"],[0.8888888888888888,\"#fdca26\"],[1.0,\"#f0f921\"]]}],\"contourcarpet\":[{\"type\":\"contourcarpet\",\"colorbar\":{\"outlinewidth\":0,\"ticks\":\"\"}}],\"contour\":[{\"type\":\"contour\",\"colorbar\":{\"outlinewidth\":0,\"ticks\":\"\"},\"colorscale\":[[0.0,\"#0d0887\"],[0.1111111111111111,\"#46039f\"],[0.2222222222222222,\"#7201a8\"],[0.3333333333333333,\"#9c179e\"],[0.4444444444444444,\"#bd3786\"],[0.5555555555555556,\"#d8576b\"],[0.6666666666666666,\"#ed7953\"],[0.7777777777777778,\"#fb9f3a\"],[0.8888888888888888,\"#fdca26\"],[1.0,\"#f0f921\"]]}],\"surface\":[{\"type\":\"surface\",\"colorbar\":{\"outlinewidth\":0,\"ticks\":\"\"},\"colorscale\":[[0.0,\"#0d0887\"],[0.1111111111111111,\"#46039f\"],[0.2222222222222222,\"#7201a8\"],[0.3333333333333333,\"#9c179e\"],[0.4444444444444444,\"#bd3786\"],[0.5555555555555556,\"#d8576b\"],[0.6666666666666666,\"#ed7953\"],[0.7777777777777778,\"#fb9f3a\"],[0.8888888888888888,\"#fdca26\"],[1.0,\"#f0f921\"]]}],\"mesh3d\":[{\"type\":\"mesh3d\",\"colorbar\":{\"outlinewidth\":0,\"ticks\":\"\"}}],\"scatter\":[{\"fillpattern\":{\"fillmode\":\"overlay\",\"size\":10,\"solidity\":0.2},\"type\":\"scatter\"}],\"parcoords\":[{\"type\":\"parcoords\",\"line\":{\"colorbar\":{\"outlinewidth\":0,\"ticks\":\"\"}}}],\"scatterpolargl\":[{\"type\":\"scatterpolargl\",\"marker\":{\"colorbar\":{\"outlinewidth\":0,\"ticks\":\"\"}}}],\"bar\":[{\"error_x\":{\"color\":\"#2a3f5f\"},\"error_y\":{\"color\":\"#2a3f5f\"},\"marker\":{\"line\":{\"color\":\"#E5ECF6\",\"width\":0.5},\"pattern\":{\"fillmode\":\"overlay\",\"size\":10,\"solidity\":0.2}},\"type\":\"bar\"}],\"scattergeo\":[{\"type\":\"scattergeo\",\"marker\":{\"colorbar\":{\"outlinewidth\":0,\"ticks\":\"\"}}}],\"scatterpolar\":[{\"type\":\"scatterpolar\",\"marker\":{\"colorbar\":{\"outlinewidth\":0,\"ticks\":\"\"}}}],\"histogram\":[{\"marker\":{\"pattern\":{\"fillmode\":\"overlay\",\"size\":10,\"solidity\":0.2}},\"type\":\"histogram\"}],\"scattergl\":[{\"type\":\"scattergl\",\"marker\":{\"colorbar\":{\"outlinewidth\":0,\"ticks\":\"\"}}}],\"scatter3d\":[{\"type\":\"scatter3d\",\"line\":{\"colorbar\":{\"outlinewidth\":0,\"ticks\":\"\"}},\"marker\":{\"colorbar\":{\"outlinewidth\":0,\"ticks\":\"\"}}}],\"scattermapbox\":[{\"type\":\"scattermapbox\",\"marker\":{\"colorbar\":{\"outlinewidth\":0,\"ticks\":\"\"}}}],\"scatterternary\":[{\"type\":\"scatterternary\",\"marker\":{\"colorbar\":{\"outlinewidth\":0,\"ticks\":\"\"}}}],\"scattercarpet\":[{\"type\":\"scattercarpet\",\"marker\":{\"colorbar\":{\"outlinewidth\":0,\"ticks\":\"\"}}}],\"carpet\":[{\"aaxis\":{\"endlinecolor\":\"#2a3f5f\",\"gridcolor\":\"white\",\"linecolor\":\"white\",\"minorgridcolor\":\"white\",\"startlinecolor\":\"#2a3f5f\"},\"baxis\":{\"endlinecolor\":\"#2a3f5f\",\"gridcolor\":\"white\",\"linecolor\":\"white\",\"minorgridcolor\":\"white\",\"startlinecolor\":\"#2a3f5f\"},\"type\":\"carpet\"}],\"table\":[{\"cells\":{\"fill\":{\"color\":\"#EBF0F8\"},\"line\":{\"color\":\"white\"}},\"header\":{\"fill\":{\"color\":\"#C8D4E3\"},\"line\":{\"color\":\"white\"}},\"type\":\"table\"}],\"barpolar\":[{\"marker\":{\"line\":{\"color\":\"#E5ECF6\",\"width\":0.5},\"pattern\":{\"fillmode\":\"overlay\",\"size\":10,\"solidity\":0.2}},\"type\":\"barpolar\"}],\"pie\":[{\"automargin\":true,\"type\":\"pie\"}]},\"layout\":{\"autotypenumbers\":\"strict\",\"colorway\":[\"#636efa\",\"#EF553B\",\"#00cc96\",\"#ab63fa\",\"#FFA15A\",\"#19d3f3\",\"#FF6692\",\"#B6E880\",\"#FF97FF\",\"#FECB52\"],\"font\":{\"color\":\"#2a3f5f\"},\"hovermode\":\"closest\",\"hoverlabel\":{\"align\":\"left\"},\"paper_bgcolor\":\"white\",\"plot_bgcolor\":\"#E5ECF6\",\"polar\":{\"bgcolor\":\"#E5ECF6\",\"angularaxis\":{\"gridcolor\":\"white\",\"linecolor\":\"white\",\"ticks\":\"\"},\"radialaxis\":{\"gridcolor\":\"white\",\"linecolor\":\"white\",\"ticks\":\"\"}},\"ternary\":{\"bgcolor\":\"#E5ECF6\",\"aaxis\":{\"gridcolor\":\"white\",\"linecolor\":\"white\",\"ticks\":\"\"},\"baxis\":{\"gridcolor\":\"white\",\"linecolor\":\"white\",\"ticks\":\"\"},\"caxis\":{\"gridcolor\":\"white\",\"linecolor\":\"white\",\"ticks\":\"\"}},\"coloraxis\":{\"colorbar\":{\"outlinewidth\":0,\"ticks\":\"\"}},\"colorscale\":{\"sequential\":[[0.0,\"#0d0887\"],[0.1111111111111111,\"#46039f\"],[0.2222222222222222,\"#7201a8\"],[0.3333333333333333,\"#9c179e\"],[0.4444444444444444,\"#bd3786\"],[0.5555555555555556,\"#d8576b\"],[0.6666666666666666,\"#ed7953\"],[0.7777777777777778,\"#fb9f3a\"],[0.8888888888888888,\"#fdca26\"],[1.0,\"#f0f921\"]],\"sequentialminus\":[[0.0,\"#0d0887\"],[0.1111111111111111,\"#46039f\"],[0.2222222222222222,\"#7201a8\"],[0.3333333333333333,\"#9c179e\"],[0.4444444444444444,\"#bd3786\"],[0.5555555555555556,\"#d8576b\"],[0.6666666666666666,\"#ed7953\"],[0.7777777777777778,\"#fb9f3a\"],[0.8888888888888888,\"#fdca26\"],[1.0,\"#f0f921\"]],\"diverging\":[[0,\"#8e0152\"],[0.1,\"#c51b7d\"],[0.2,\"#de77ae\"],[0.3,\"#f1b6da\"],[0.4,\"#fde0ef\"],[0.5,\"#f7f7f7\"],[0.6,\"#e6f5d0\"],[0.7,\"#b8e186\"],[0.8,\"#7fbc41\"],[0.9,\"#4d9221\"],[1,\"#276419\"]]},\"xaxis\":{\"gridcolor\":\"white\",\"linecolor\":\"white\",\"ticks\":\"\",\"title\":{\"standoff\":15},\"zerolinecolor\":\"white\",\"automargin\":true,\"zerolinewidth\":2},\"yaxis\":{\"gridcolor\":\"white\",\"linecolor\":\"white\",\"ticks\":\"\",\"title\":{\"standoff\":15},\"zerolinecolor\":\"white\",\"automargin\":true,\"zerolinewidth\":2},\"scene\":{\"xaxis\":{\"backgroundcolor\":\"#E5ECF6\",\"gridcolor\":\"white\",\"linecolor\":\"white\",\"showbackground\":true,\"ticks\":\"\",\"zerolinecolor\":\"white\",\"gridwidth\":2},\"yaxis\":{\"backgroundcolor\":\"#E5ECF6\",\"gridcolor\":\"white\",\"linecolor\":\"white\",\"showbackground\":true,\"ticks\":\"\",\"zerolinecolor\":\"white\",\"gridwidth\":2},\"zaxis\":{\"backgroundcolor\":\"#E5ECF6\",\"gridcolor\":\"white\",\"linecolor\":\"white\",\"showbackground\":true,\"ticks\":\"\",\"zerolinecolor\":\"white\",\"gridwidth\":2}},\"shapedefaults\":{\"line\":{\"color\":\"#2a3f5f\"}},\"annotationdefaults\":{\"arrowcolor\":\"#2a3f5f\",\"arrowhead\":0,\"arrowwidth\":1},\"geo\":{\"bgcolor\":\"white\",\"landcolor\":\"#E5ECF6\",\"subunitcolor\":\"white\",\"showland\":true,\"showlakes\":true,\"lakecolor\":\"white\"},\"title\":{\"x\":0.05},\"mapbox\":{\"style\":\"light\"}}},\"coloraxis\":{\"colorbar\":{\"title\":{\"text\":\"mean_test_score\"}},\"colorscale\":[[0.0,\"#440154\"],[0.1111111111111111,\"#482878\"],[0.2222222222222222,\"#3e4989\"],[0.3333333333333333,\"#31688e\"],[0.4444444444444444,\"#26828e\"],[0.5555555555555556,\"#1f9e89\"],[0.6666666666666666,\"#35b779\"],[0.7777777777777778,\"#6ece58\"],[0.8888888888888888,\"#b5de2b\"],[1.0,\"#fde725\"]]},\"legend\":{\"tracegroupgap\":0},\"margin\":{\"t\":60}},                        {\"responsive\": true}                    ).then(function(){\n",
       "                            \n",
       "var gd = document.getElementById('74beff56-f305-4ce8-8ef0-a14694e5e45f');\n",
       "var x = new MutationObserver(function (mutations, observer) {{\n",
       "        var display = window.getComputedStyle(gd).display;\n",
       "        if (!display || display === 'none') {{\n",
       "            console.log([gd, 'removed!']);\n",
       "            Plotly.purge(gd);\n",
       "            observer.disconnect();\n",
       "        }}\n",
       "}});\n",
       "\n",
       "// Listen for the removal of the full notebook cells\n",
       "var notebookContainer = gd.closest('#notebook-container');\n",
       "if (notebookContainer) {{\n",
       "    x.observe(notebookContainer, {childList: true});\n",
       "}}\n",
       "\n",
       "// Listen for the clearing of the current output cell\n",
       "var outputEl = gd.closest('.output');\n",
       "if (outputEl) {{\n",
       "    x.observe(outputEl, {childList: true});\n",
       "}}\n",
       "\n",
       "                        })                };                });            </script>        </div>"
      ]
     },
     "metadata": {},
     "output_type": "display_data"
    }
   ],
   "source": [
    "import numpy as np\n",
    "import plotly.express as px\n",
    "\n",
    "# Rest of your code\n",
    "log10_func = np.vectorize(np.log10)\n",
    "log2_func = np.vectorize(np.log2)\n",
    "\n",
    "fig = px.parallel_coordinates(\n",
    "    cv_results.rename(shorten_param, axis=1).apply({\n",
    "        \"learning_rate\": log10_func,\n",
    "        \"max_leaf_nodes\": log2_func,\n",
    "        \"min_samples_leaf\": log2_func,\n",
    "        \"max_bins\": log10_func,\n",
    "        \"l2_regularization\": log10_func,\n",
    "        \"mean_test_score\": lambda x: x,\n",
    "    }),\n",
    "    color=\"mean_test_score\",\n",
    "    color_continuous_scale=px.colors.sequential.Viridis,\n",
    ")\n",
    "fig.show()"
   ]
  },
  {
   "cell_type": "code",
   "execution_count": 252,
   "metadata": {},
   "outputs": [
    {
     "name": "stdout",
     "output_type": "stream",
     "text": [
      "The best parameters are: {'classifier__l2_regularization': 8.345470368802708, 'classifier__learning_rate': 0.9946611487089738, 'classifier__max_bins': 104, 'classifier__max_leaf_nodes': 255, 'classifier__min_samples_leaf': 8}\n"
     ]
    }
   ],
   "source": [
    "# Print the best parameters\n",
    "print(f\"The best parameters are: {model_random_search.best_params_}\")"
   ]
  }
 ],
 "metadata": {
  "kernelspec": {
   "display_name": ".internship",
   "language": "python",
   "name": "python3"
  },
  "language_info": {
   "codemirror_mode": {
    "name": "ipython",
    "version": 3
   },
   "file_extension": ".py",
   "mimetype": "text/x-python",
   "name": "python",
   "nbconvert_exporter": "python",
   "pygments_lexer": "ipython3",
   "version": "3.10.12"
  }
 },
 "nbformat": 4,
 "nbformat_minor": 2
}
