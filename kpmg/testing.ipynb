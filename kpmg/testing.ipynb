{
 "cells": [
  {
   "cell_type": "code",
   "execution_count": 3,
   "metadata": {},
   "outputs": [
    {
     "name": "stdout",
     "output_type": "stream",
     "text": [
      "transaction_id                         0\n",
      "product_id                             0\n",
      "customer_id                            0\n",
      "transaction_date                       0\n",
      "online_order                           0\n",
      "order_status                           0\n",
      "brand                                  0\n",
      "product_line                           0\n",
      "product_class                          0\n",
      "product_size                           0\n",
      "list_price                             0\n",
      "standard_cost                          0\n",
      "product_first_sold_date                0\n",
      "first_name                             0\n",
      "last_name                              0\n",
      "gender                                 0\n",
      "past_3_years_bike_related_purchases    0\n",
      "DOB                                    0\n",
      "job_title                              0\n",
      "job_industry_category                  0\n",
      "wealth_segment                         0\n",
      "deceased_indicator                     0\n",
      "owns_car                               0\n",
      "tenure                                 0\n",
      "address                                0\n",
      "postcode                               0\n",
      "country                                0\n",
      "property_valuation                     0\n",
      "lat                                    0\n",
      "long                                   0\n",
      "state                                  0\n",
      "customer_age                           0\n",
      "product_age                            0\n",
      "age_group                              0\n",
      "profit                                 0\n",
      "recency                                0\n",
      "frequency                              0\n",
      "transaction_day                        0\n",
      "transaction_week                       0\n",
      "transaction_month                      0\n",
      "cluster                                0\n",
      "customer_category                      0\n",
      "nearest_point                          0\n",
      "distance_to_coast                      0\n",
      "tenure_valuation_mul                   0\n",
      "tenure_valuation_div                   0\n",
      "dtype: int64\n"
     ]
    }
   ],
   "source": [
    "import pandas as pd\n",
    "import numpy as np\n",
    "\n",
    "df = pd.read_csv('Train_dash.csv')\n",
    "adf = df.dropna()\n",
    "\n",
    "# Check null values\n",
    "print(adf.isnull().sum())\n",
    "\n",
    "adf.to_csv('Train_dash.csv', index=False)"
   ]
  }
 ],
 "metadata": {
  "kernelspec": {
   "display_name": ".internship",
   "language": "python",
   "name": "python3"
  },
  "language_info": {
   "codemirror_mode": {
    "name": "ipython",
    "version": 3
   },
   "file_extension": ".py",
   "mimetype": "text/x-python",
   "name": "python",
   "nbconvert_exporter": "python",
   "pygments_lexer": "ipython3",
   "version": "3.10.12"
  }
 },
 "nbformat": 4,
 "nbformat_minor": 2
}
