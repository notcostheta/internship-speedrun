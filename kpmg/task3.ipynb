{
 "cells": [
  {
   "cell_type": "markdown",
   "metadata": {},
   "source": [
    "# Data Modelling for Medium Size Bikes & Cycling Accessories Organization\n",
    "> This project was done under the umbrella of KPMG internship experience. I was provided data sets of an organization targeting a client who wants a feedback from us on their dataset quality and how this can be improved.\n",
    "\n",
    "### Background\n",
    "- Sprocket Central Pty Ltd, a medium size bikes & cycling accessories organisation\n",
    "- needs help with its customer and transactions data\n",
    "- how to analyse it to help optimise its marketing strategy effectively.\n",
    "\n",
    "### Datasets\n",
    "- New Customer List\n",
    "- Customer Demographic\n",
    "- Customer Addresses\n",
    "- Transactions data in the past 3 months\n",
    "\n",
    "### Task\n",
    "- Build a model to predict which new customers will convert into paying customers.\n",
    "- Use the RFM analysis based cluster segmentation to identify the target customers.\n",
    "- Build Dashboards in Tableau/PowerBI to present your findings."
   ]
  },
  {
   "cell_type": "code",
   "execution_count": 1,
   "metadata": {},
   "outputs": [],
   "source": [
    "# Importing the required libraries\n",
    "import pandas as pd\n",
    "import numpy as np\n",
    "import matplotlib.pyplot as plt\n",
    "import seaborn as sns\n",
    "\n",
    "# Suppress warnings\n",
    "import warnings\n",
    "warnings.filterwarnings('ignore')"
   ]
  },
  {
   "cell_type": "code",
   "execution_count": 2,
   "metadata": {},
   "outputs": [],
   "source": [
    "# Import core excel sheet\n",
    "xls = pd.ExcelFile('KPMG_VI_New_raw_data_update_final.xlsx')\n",
    "\n",
    "Transactions = pd.read_excel(xls, 'Transactions', skiprows=1)\n",
    "NewCustomerList = pd.read_excel(xls, 'NewCustomerList', skiprows=1)\n",
    "Demographic = pd.read_excel(xls, 'CustomerDemographic', skiprows=1)\n",
    "Address = pd.read_excel(xls, 'CustomerAddress', skiprows=1)\n",
    "\n",
    "# Import Reference sheet\n",
    "Reference = pd.read_csv('reference.csv')"
   ]
  },
  {
   "cell_type": "code",
   "execution_count": 3,
   "metadata": {},
   "outputs": [
    {
     "name": "stdout",
     "output_type": "stream",
     "text": [
      "Common columns between Reference and NewCustomerList:\n",
      "{'job_industry_category', 'postcode', 'DOB', 'past_3_years_bike_related_purchases', 'property_valuation', 'wealth_segment', 'owns_car', 'state', 'tenure', 'gender', 'job_title'}\n"
     ]
    }
   ],
   "source": [
    "common_columns = set(Reference.columns) & set(NewCustomerList.columns)\n",
    "\n",
    "print(\"Common columns between Reference and NewCustomerList:\")\n",
    "print(common_columns)"
   ]
  },
  {
   "cell_type": "markdown",
   "metadata": {},
   "source": [
    "We would try to use most of these features, but I dont really think postcode would be of any use so might as well drop it,\n",
    "we would also need to engineer some features like customer_age like we did in the previous task."
   ]
  },
  {
   "cell_type": "code",
   "execution_count": 4,
   "metadata": {},
   "outputs": [
    {
     "name": "stdout",
     "output_type": "stream",
     "text": [
      "<class 'pandas.core.frame.DataFrame'>\n",
      "RangeIndex: 17015 entries, 0 to 17014\n",
      "Data columns (total 32 columns):\n",
      " #   Column                               Non-Null Count  Dtype  \n",
      "---  ------                               --------------  -----  \n",
      " 0   customer_id                          17015 non-null  int64  \n",
      " 1   gender                               17015 non-null  object \n",
      " 2   past_3_years_bike_related_purchases  17015 non-null  int64  \n",
      " 3   DOB                                  17015 non-null  object \n",
      " 4   job_title                            17015 non-null  object \n",
      " 5   job_industry_category                17015 non-null  object \n",
      " 6   wealth_segment                       17015 non-null  object \n",
      " 7   owns_car                             17015 non-null  bool   \n",
      " 8   tenure                               17015 non-null  int64  \n",
      " 9   postcode                             17015 non-null  int64  \n",
      " 10  state                                17015 non-null  object \n",
      " 11  property_valuation                   17015 non-null  int64  \n",
      " 12  transaction_date                     17015 non-null  object \n",
      " 13  online_order                         17015 non-null  bool   \n",
      " 14  order_status                         17015 non-null  bool   \n",
      " 15  brand                                17015 non-null  object \n",
      " 16  product_line                         17015 non-null  object \n",
      " 17  product_class                        17015 non-null  object \n",
      " 18  product_size                         17015 non-null  object \n",
      " 19  list_price                           17015 non-null  float64\n",
      " 20  standard_cost                        17015 non-null  float64\n",
      " 21  product_first_sold_date              17015 non-null  object \n",
      " 22  customer_age                         17015 non-null  int64  \n",
      " 23  product_age                          17015 non-null  float64\n",
      " 24  profit                               17015 non-null  float64\n",
      " 25  transaction_day                      17015 non-null  object \n",
      " 26  transaction_month                    17015 non-null  object \n",
      " 27  age_group                            17015 non-null  object \n",
      " 28  recency                              17015 non-null  int64  \n",
      " 29  frequency                            17015 non-null  int64  \n",
      " 30  cluster                              17015 non-null  int64  \n",
      " 31  customer_category                    17015 non-null  object \n",
      "dtypes: bool(3), float64(4), int64(9), object(16)\n",
      "memory usage: 3.8+ MB\n"
     ]
    }
   ],
   "source": [
    "# Lets have a look at reference dataset\n",
    "Reference.info()"
   ]
  }
 ],
 "metadata": {
  "kernelspec": {
   "display_name": ".internship",
   "language": "python",
   "name": "python3"
  },
  "language_info": {
   "codemirror_mode": {
    "name": "ipython",
    "version": 3
   },
   "file_extension": ".py",
   "mimetype": "text/x-python",
   "name": "python",
   "nbconvert_exporter": "python",
   "pygments_lexer": "ipython3",
   "version": "3.10.12"
  },
  "orig_nbformat": 4
 },
 "nbformat": 4,
 "nbformat_minor": 2
}
