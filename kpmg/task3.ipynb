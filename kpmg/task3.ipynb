{
 "cells": [
  {
   "cell_type": "markdown",
   "metadata": {},
   "source": [
    "# Data Modelling for Medium Size Bikes & Cycling Accessories Organization\n",
    "> This project was done under the umbrella of KPMG internship experience. I was provided data sets of an organization targeting a client who wants a feedback from us on their dataset quality and how this can be improved.\n",
    "\n",
    "### Background\n",
    "- Sprocket Central Pty Ltd, a medium size bikes & cycling accessories organisation\n",
    "- needs help with its customer and transactions data\n",
    "- how to analyse it to help optimise its marketing strategy effectively.\n",
    "\n",
    "### Datasets\n",
    "- New Customer List\n",
    "- Customer Demographic\n",
    "- Customer Addresses\n",
    "- Transactions data in the past 3 months\n",
    "\n",
    "### Task\n",
    "- Build a model to predict which new customers will convert into paying customers.\n",
    "- Use the RFM analysis based cluster segmentation to identify the target customers.\n",
    "- Build Dashboards in Tableau/PowerBI to present your findings."
   ]
  },
  {
   "cell_type": "code",
   "execution_count": 1,
   "metadata": {},
   "outputs": [],
   "source": [
    "# Importing the required libraries\n",
    "import pandas as pd\n",
    "import numpy as np\n",
    "import matplotlib.pyplot as plt\n",
    "import seaborn as sns\n",
    "\n",
    "# Suppress warnings\n",
    "import warnings\n",
    "warnings.filterwarnings('ignore')"
   ]
  },
  {
   "cell_type": "code",
   "execution_count": 2,
   "metadata": {},
   "outputs": [],
   "source": [
    "# Import core excel sheet\n",
    "xls = pd.ExcelFile('KPMG_VI_New_raw_data_update_final.xlsx')\n",
    "\n",
    "Transactions = pd.read_excel(xls, 'Transactions', skiprows=1)\n",
    "NewCustomerList = pd.read_excel(xls, 'NewCustomerList', skiprows=1)\n",
    "Demographic = pd.read_excel(xls, 'CustomerDemographic', skiprows=1)\n",
    "Address = pd.read_excel(xls, 'CustomerAddress', skiprows=1)\n",
    "\n",
    "# Import Reference sheet\n",
    "Reference = pd.read_csv('reference.csv')"
   ]
  },
  {
   "cell_type": "code",
   "execution_count": 3,
   "metadata": {},
   "outputs": [
    {
     "name": "stdout",
     "output_type": "stream",
     "text": [
      "Common columns between Reference and NewCustomerList:\n",
      "{'state', 'wealth_segment', 'owns_car', 'postcode', 'job_industry_category', 'tenure', 'gender', 'job_title', 'property_valuation', 'DOB', 'past_3_years_bike_related_purchases'}\n"
     ]
    }
   ],
   "source": [
    "common_columns = set(Reference.columns) & set(NewCustomerList.columns)\n",
    "\n",
    "print(\"Common columns between Reference and NewCustomerList:\")\n",
    "print(common_columns)"
   ]
  },
  {
   "cell_type": "markdown",
   "metadata": {},
   "source": [
    "We would try to use most of these features, but I dont really think postcode would be of any use so might as well drop it,\n",
    "we would also need to engineer some features like customer_age like we did in the previous task."
   ]
  }
 ],
 "metadata": {
  "kernelspec": {
   "display_name": ".internship",
   "language": "python",
   "name": "python3"
  },
  "language_info": {
   "codemirror_mode": {
    "name": "ipython",
    "version": 3
   },
   "file_extension": ".py",
   "mimetype": "text/x-python",
   "name": "python",
   "nbconvert_exporter": "python",
   "pygments_lexer": "ipython3",
   "version": "3.10.6"
  },
  "orig_nbformat": 4
 },
 "nbformat": 4,
 "nbformat_minor": 2
}
