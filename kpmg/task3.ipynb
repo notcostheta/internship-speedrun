{
 "cells": [
  {
   "cell_type": "markdown",
   "metadata": {},
   "source": [
    "# Data Modelling for Medium Size Bikes & Cycling Accessories Organization\n",
    "> This project was done under the umbrella of KPMG internship experience. I was provided data sets of an organization targeting a client who wants a feedback from us on their dataset quality and how this can be improved.\n",
    "\n",
    "### Background\n",
    "- Sprocket Central Pty Ltd, a medium size bikes & cycling accessories organisation\n",
    "- needs help with its customer and transactions data\n",
    "- how to analyse it to help optimise its marketing strategy effectively.\n",
    "\n",
    "### Datasets\n",
    "- New Customer List\n",
    "- Customer Demographic\n",
    "- Customer Addresses\n",
    "- Transactions data in the past 3 months\n",
    "\n",
    "### Task\n",
    "- Build a model to predict which new customers will convert into paying customers.\n",
    "- Use the RFM analysis based cluster segmentation to identify the target customers.\n",
    "- Build Dashboards in Tableau/PowerBI to present your findings."
   ]
  },
  {
   "cell_type": "code",
   "execution_count": null,
   "metadata": {},
   "outputs": [],
   "source": []
  }
 ],
 "metadata": {
  "language_info": {
   "name": "python"
  },
  "orig_nbformat": 4
 },
 "nbformat": 4,
 "nbformat_minor": 2
}
