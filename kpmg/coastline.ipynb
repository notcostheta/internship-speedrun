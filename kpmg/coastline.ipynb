{
 "cells": [
  {
   "cell_type": "markdown",
   "metadata": {},
   "source": [
    "# Shortest Distance to Coastline\n",
    "> A visual guide using geopandas, shapely and folium\n",
    "> \n",
    "I was given the data of a Bicycle company, on analysing it I found out people on the coastlines are more likely to buy a bicycle than people who live in the interior. So I tried to find out the shortest distance to the coastline from each point in the dataset.\n",
    "\n",
    "This would give me a really nice feature to add to my model.\n",
    "\n",
    "Read more about the case study [here]()"
   ]
  },
  {
   "cell_type": "code",
   "execution_count": null,
   "metadata": {},
   "outputs": [],
   "source": [
    "# Importing the Dataset\n",
    "\n",
    "import pandas as pd\n",
    "import numpy as np\n",
    "\n",
    "GeoCustomers = pd.read_csv('GeoCustomers.csv')\n",
    "GeoCustomers.head()"
   ]
  },
  {
   "cell_type": "code",
   "execution_count": null,
   "metadata": {},
   "outputs": [],
   "source": [
    "# Create a new dataframe with only the columns we need\n",
    "\n",
    "df = GeoCustomers[['customer_id', 'lat', 'long']]\n",
    "df.head()"
   ]
  },
  {
   "cell_type": "markdown",
   "metadata": {},
   "source": [
    "# Getting the world map ready"
   ]
  },
  {
   "cell_type": "code",
   "execution_count": null,
   "metadata": {},
   "outputs": [],
   "source": [
    "# Getting australia map from geopandas\n",
    "import geopandas as gpd\n",
    "\n",
    "world = gpd.read_file(gpd.datasets.get_path('naturalearth_lowres'))\n",
    "country = world[world.name == \"Australia\"]\n",
    "\n",
    "# Plotting using folium\n",
    "\n",
    "import folium\n",
    "m_1 = folium.Map(location=[-25.2744, 133.7751], tiles='cartodbpositron', zoom_start=4)\n",
    "folium.GeoJson(country).add_to(m_1)\n",
    "m_1"
   ]
  },
  {
   "cell_type": "code",
   "execution_count": null,
   "metadata": {},
   "outputs": [],
   "source": [
    "# Plotting only the coastline\n",
    "\n",
    "coastline = country.boundary\n",
    "m_2 = folium.Map(location=[-25.2744, 133.7751], tiles='cartodbpositron', zoom_start=4)\n",
    "folium.GeoJson(coastline).add_to(m_2)\n",
    "m_2"
   ]
  },
  {
   "cell_type": "markdown",
   "metadata": {},
   "source": [
    "# Explaining the Implementation\n",
    "- use shapely to create a point from the lat and long\n",
    "- use shapely.nearst_points to find the nearest point on the coastline\n",
    "- calculate the distance between the two points using harvesine distance"
   ]
  },
  {
   "cell_type": "code",
   "execution_count": null,
   "metadata": {},
   "outputs": [],
   "source": [
    "# Example of how we it actually works\n",
    "\n",
    "from shapely.ops import Point, nearest_points\n",
    "\n",
    "point = Point(df[\"long\"][0], df[\"lat\"][0])  # longitude, latitude of base point\n",
    "nearest = nearest_points(point, coastline)[1]  # nearest point on boundary\n",
    "\n",
    "m_3 = folium.Map(location=[-33.934109, 151.264326], tiles=\"cartodbpositron\", zoom_start=10)\n",
    "folium.Marker([df[\"lat\"][0], df[\"long\"][0]]).add_to(m_3)\n",
    "folium.Marker([nearest.y, nearest.x]).add_to(m_3)\n",
    "folium.GeoJson(coastline).add_to(m_3)\n",
    "m_3"
   ]
  },
  {
   "cell_type": "markdown",
   "metadata": {},
   "source": [
    "Works perfectly, now we will calculate the distance for each point in the dataset"
   ]
  },
  {
   "cell_type": "code",
   "execution_count": null,
   "metadata": {},
   "outputs": [],
   "source": [
    "# Calculating the distance between two points in km\n",
    "\n",
    "import haversine as hs\n",
    "from haversine import Unit\n",
    "\n",
    "geo = Point(df['long'][0], df['lat'][0])\n",
    "cos = Point(nearest.x, nearest.y)\n",
    "\n",
    "# Calculate the distance using haveversine formula\n",
    "loc1 = (geo.y, geo.x)\n",
    "loc2 = (cos.y, cos.x)\n",
    "\n",
    "result = hs.haversine(loc1, loc2, unit=Unit.KILOMETERS)\n",
    "print(result)"
   ]
  },
  {
   "cell_type": "markdown",
   "metadata": {},
   "source": [
    "# Writing the function"
   ]
  },
  {
   "cell_type": "code",
   "execution_count": null,
   "metadata": {},
   "outputs": [],
   "source": [
    "from shapely.ops import nearest_points\n",
    "import haversine as hs\n",
    "from haversine import Unit\n",
    "\n",
    "\n",
    "def coastline_minima(df, lat_col, long_col, country):\n",
    "    \"\"\"\n",
    "    This function takes in a dataframe with latitude and longitude columns and returns the nearest point on the coastline and the distance in km\n",
    "\n",
    "    Required libraries: geopandas, shapely, folium, haversine\n",
    "    Returns: original dataframe with two new columns: nearest_point and distance_to_coast\n",
    "\n",
    "    \"\"\"\n",
    "    # Getting the coastline\n",
    "    world = gpd.read_file(gpd.datasets.get_path(\"naturalearth_lowres\"))\n",
    "    coastline = world[world.name.str.contains(country)].boundary\n",
    "\n",
    "    # Creating empty lists to store the nearest point and the distance\n",
    "    nearest_points_list = []\n",
    "    distance_list = []\n",
    "\n",
    "    for i in range(len(df)):\n",
    "        geo = Point(df[long_col][i], df[lat_col][i])\n",
    "        nearest = nearest_points(geo, coastline)[1]\n",
    "        cos = Point(nearest.x, nearest.y)\n",
    "        loc1 = (geo.y, geo.x)\n",
    "        loc2 = (cos.y, cos.x)\n",
    "        result = hs.haversine(loc1, loc2, unit=Unit.KILOMETERS)\n",
    "\n",
    "        nearest_points_list.append(nearest)\n",
    "        distance_list.append(result)\n",
    "\n",
    "    # Adding the new columns to the dataframe\n",
    "    df[\"nearest_point\"] = nearest_points_list\n",
    "    df[\"distance_to_coast\"] = distance_list\n",
    "\n",
    "    return df"
   ]
  },
  {
   "cell_type": "code",
   "execution_count": null,
   "metadata": {},
   "outputs": [],
   "source": [
    "coastline_minima(df, 'lat', 'long', 'Australia')"
   ]
  },
  {
   "cell_type": "markdown",
   "metadata": {},
   "source": [
    "Works perfectly fine\n"
   ]
  },
  {
   "cell_type": "markdown",
   "metadata": {},
   "source": [
    "# References\n",
    "- geopandas: [link](https://geopandas.org/)\n",
    "- shapely: [link](https://shapely.readthedocs.io/)\n",
    "- folium: [link](https://python-visualization.github.io/folium/)\n",
    "- haversine: [link](https://pypi.org/project/haversine/)\n",
    "\n"
   ]
  }
 ],
 "metadata": {
  "kernelspec": {
   "display_name": ".internship",
   "language": "python",
   "name": "python3"
  },
  "language_info": {
   "codemirror_mode": {
    "name": "ipython",
    "version": 3
   },
   "file_extension": ".py",
   "mimetype": "text/x-python",
   "name": "python",
   "nbconvert_exporter": "python",
   "pygments_lexer": "ipython3",
   "version": "3.10.12"
  }
 },
 "nbformat": 4,
 "nbformat_minor": 2
}
