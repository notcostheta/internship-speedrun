{
 "cells": [
  {
   "cell_type": "markdown",
   "metadata": {
    "papermill": {
     "duration": 0.012489,
     "end_time": "2020-08-30T12:00:14.531446",
     "exception": false,
     "start_time": "2020-08-30T12:00:14.518957",
     "status": "completed"
    },
    "tags": []
   },
   "source": [
    "# Data Quality Assessment for a Medium Size Bikes & Cycling Accessories Organization\n",
    "\n",
    "> This project was done under the umbrella of KPMG internship experience. I was provided data sets of an organization targeting a client who wants a feedback from us on their dataset quality and how this can be improved.\n",
    "\n",
    "### Purpose \n",
    "Primarily, Sprocket Central Pty Ltd needs help with its customer and transactions data. The organisation has a large dataset relating to its customers, but their team is unsure how to effectively analyse it to help optimise its marketing strategy. \n",
    "\n",
    "“the importance of optimising the quality of customer datasets cannot be underestimated. The better the quality of the dataset, the better chance you will be able to use it drive company growth.” \n",
    "\n",
    "Perform the preliminary data exploration and identify ways to improve the quality of Sprocket Central Pty Ltd’s data.\n",
    "\n",
    "### Datasets\n",
    "The client provided KPMG with 3 datasets:\n",
    "- Customer Demographic \n",
    "- Customer Addresses\n",
    "- Transactions data in the past 3 months\n",
    "\n",
    "### Data Quality Framework Table\n",
    "Using the dimensions included in the Data Quality Framework, I will assess the quality of these datasets. Followings are the dimesnions provided by the Data Quality Framework: \n",
    "- Completeness : How much information all entities have. Number of missing values.\n",
    "- Consistency : How conistent is your Data. Number of inconsistencies in your data.\n",
    "- Accuarcy : How accurate is your Data. Number of errors in you data.\n",
    "- Relevancy/Auditability : Relevanct data in your entities. Number of irrelavant values.\n",
    "- Validity : Validated data with allowable values.\n",
    "- Uniqueness: How much uniques is your data. Number of duplicated values.\n",
    "- Timeliness: Updated data. Current data.\n"
   ]
  },
  {
   "cell_type": "code",
   "execution_count": null,
   "metadata": {
    "execution": {
     "iopub.execute_input": "2020-08-30T12:00:14.562760Z",
     "iopub.status.busy": "2020-08-30T12:00:14.561868Z",
     "iopub.status.idle": "2020-08-30T12:00:23.553790Z",
     "shell.execute_reply": "2020-08-30T12:00:23.552910Z"
    },
    "papermill": {
     "duration": 9.011747,
     "end_time": "2020-08-30T12:00:23.553935",
     "exception": false,
     "start_time": "2020-08-30T12:00:14.542188",
     "status": "completed"
    },
    "tags": []
   },
   "outputs": [],
   "source": [
    "# importing pandas library for i/o and dataframes \n",
    "import pandas as pd\n",
    "\n",
    "# loading dataset and extracting sheets'\n",
    "dataset = pd.ExcelFile('KPMG_VI_New_raw_data_update_final.xlsx')\n",
    "\n",
    "# parsing sheets\n",
    "Transactions = dataset.parse('Transactions', header=0, skiprows=1)\n",
    "NewCustomerList = dataset.parse('NewCustomerList')\n",
    "CustomerDemographic = dataset.parse('CustomerDemographic')\n",
    "CustomerAddress = dataset.parse('CustomerAddress')"
   ]
  },
  {
   "cell_type": "markdown",
   "metadata": {
    "papermill": {
     "duration": 0.009958,
     "end_time": "2020-08-30T12:00:23.574261",
     "exception": false,
     "start_time": "2020-08-30T12:00:23.564303",
     "status": "completed"
    },
    "tags": []
   },
   "source": [
    "## Exploring and Analyzing Data Quality of Sheet: Transactions "
   ]
  },
  {
   "cell_type": "code",
   "execution_count": null,
   "metadata": {
    "execution": {
     "iopub.execute_input": "2020-08-30T12:00:23.610158Z",
     "iopub.status.busy": "2020-08-30T12:00:23.609192Z",
     "iopub.status.idle": "2020-08-30T12:00:23.613182Z",
     "shell.execute_reply": "2020-08-30T12:00:23.614001Z"
    },
    "papermill": {
     "duration": 0.029721,
     "end_time": "2020-08-30T12:00:23.614206",
     "exception": false,
     "start_time": "2020-08-30T12:00:23.584485",
     "status": "completed"
    },
    "tags": []
   },
   "outputs": [],
   "source": [
    "# display data inside sheet\n",
    "print(Transactions.head())"
   ]
  },
  {
   "cell_type": "markdown",
   "metadata": {
    "papermill": {
     "duration": 0.010107,
     "end_time": "2020-08-30T12:00:23.635358",
     "exception": false,
     "start_time": "2020-08-30T12:00:23.625251",
     "status": "completed"
    },
    "tags": []
   },
   "source": [
    "## Checking Consistency and Validity of Dataset"
   ]
  },
  {
   "cell_type": "code",
   "execution_count": null,
   "metadata": {
    "execution": {
     "iopub.execute_input": "2020-08-30T12:00:23.673592Z",
     "iopub.status.busy": "2020-08-30T12:00:23.672767Z",
     "iopub.status.idle": "2020-08-30T12:00:23.691933Z",
     "shell.execute_reply": "2020-08-30T12:00:23.691267Z"
    },
    "papermill": {
     "duration": 0.046566,
     "end_time": "2020-08-30T12:00:23.692071",
     "exception": false,
     "start_time": "2020-08-30T12:00:23.645505",
     "status": "completed"
    },
    "tags": []
   },
   "outputs": [],
   "source": [
    "# Display columns of dataset Transactions\n",
    "print(Transactions.info())"
   ]
  },
  {
   "cell_type": "code",
   "execution_count": null,
   "metadata": {
    "execution": {
     "iopub.execute_input": "2020-08-30T12:00:23.719011Z",
     "iopub.status.busy": "2020-08-30T12:00:23.718093Z",
     "iopub.status.idle": "2020-08-30T12:00:23.721721Z",
     "shell.execute_reply": "2020-08-30T12:00:23.722357Z"
    },
    "papermill": {
     "duration": 0.020022,
     "end_time": "2020-08-30T12:00:23.722537",
     "exception": false,
     "start_time": "2020-08-30T12:00:23.702515",
     "status": "completed"
    },
    "tags": []
   },
   "outputs": [],
   "source": [
    "# checking the shape of your data\n",
    "print(Transactions.shape)"
   ]
  },
  {
   "cell_type": "markdown",
   "metadata": {
    "papermill": {
     "duration": 0.010498,
     "end_time": "2020-08-30T12:00:23.743814",
     "exception": false,
     "start_time": "2020-08-30T12:00:23.733316",
     "status": "completed"
    },
    "tags": []
   },
   "source": [
    "## Highlights of Consistency and Validity in Transactions\n",
    "Transactions dataset has 20000 records with 13 columns. \n",
    "- Out of which, 3 are of datatype **int64** which are keys. \n",
    "- One is the date **datetime64** in format **MM/DD/YYYY**. The date format used to capture DOB of customers is **YYYY-MM-DD**. It would be better if it is kept consistent.\n",
    "- Another one is Online Order which is captured in a column of **float64** datatype, however the values are **boolean**, that is true and false. \n",
    "- 5 columns are of datatype **object** which are order_status, brand, product_line, product_class, product_size. \n",
    "- Last 3 columns are of datatype **float64** again from which one of them is a date and should be **datetime64** and must be in the standard format."
   ]
  },
  {
   "cell_type": "markdown",
   "metadata": {
    "papermill": {
     "duration": 0.010471,
     "end_time": "2020-08-30T12:00:23.765101",
     "exception": false,
     "start_time": "2020-08-30T12:00:23.754630",
     "status": "completed"
    },
    "tags": []
   },
   "source": [
    "## Checking Completeness of Dataset"
   ]
  },
  {
   "cell_type": "code",
   "execution_count": null,
   "metadata": {
    "execution": {
     "iopub.execute_input": "2020-08-30T12:00:23.805959Z",
     "iopub.status.busy": "2020-08-30T12:00:23.805146Z",
     "iopub.status.idle": "2020-08-30T12:00:23.855160Z",
     "shell.execute_reply": "2020-08-30T12:00:23.854184Z"
    },
    "papermill": {
     "duration": 0.079436,
     "end_time": "2020-08-30T12:00:23.855331",
     "exception": false,
     "start_time": "2020-08-30T12:00:23.775895",
     "status": "completed"
    },
    "tags": []
   },
   "outputs": [],
   "source": [
    "# looking for the null values\n",
    "total_null_values = Transactions.isnull().sum()\n",
    "\n",
    "# calculating total values\n",
    "total_values = Transactions.count().sort_values(ascending=True) \n",
    "\n",
    "# calculating the percentage of null values\n",
    "null_values_percentage = total_null_values/total_values *100\n",
    "\n",
    "# converting to dataframe of missing values\n",
    "missing_values = pd.concat({'Total Values' : total_values, 'Null_values': total_null_values, 'Percentage of Missing Values': null_values_percentage}, axis=1)\n",
    "\n",
    "# display missing values\n",
    "print(missing_values)"
   ]
  },
  {
   "cell_type": "markdown",
   "metadata": {
    "papermill": {
     "duration": 0.01042,
     "end_time": "2020-08-30T12:00:23.877231",
     "exception": false,
     "start_time": "2020-08-30T12:00:23.866811",
     "status": "completed"
    },
    "tags": []
   },
   "source": [
    "## Highlights of Completeness in Transactions\n",
    "- Order Online columns has about 1.83% of null values. There are 360 records in which order_online was not captured.\n",
    "- Columns brand, product_line, product_class, product_size, standard_cost, product_first_sold_date also has a percentage of 0.995% missing values that is 197 null values, which should not be missing if product_id is inherited and the details of the product cannot be missing."
   ]
  },
  {
   "cell_type": "markdown",
   "metadata": {
    "papermill": {
     "duration": 0.010564,
     "end_time": "2020-08-30T12:00:23.898886",
     "exception": false,
     "start_time": "2020-08-30T12:00:23.888322",
     "status": "completed"
    },
    "tags": []
   },
   "source": [
    "## Checking Accuracy of Dataset"
   ]
  },
  {
   "cell_type": "code",
   "execution_count": null,
   "metadata": {
    "execution": {
     "iopub.execute_input": "2020-08-30T12:00:23.927324Z",
     "iopub.status.busy": "2020-08-30T12:00:23.926525Z",
     "iopub.status.idle": "2020-08-30T12:00:23.942251Z",
     "shell.execute_reply": "2020-08-30T12:00:23.941559Z"
    },
    "papermill": {
     "duration": 0.033001,
     "end_time": "2020-08-30T12:00:23.942382",
     "exception": false,
     "start_time": "2020-08-30T12:00:23.909381",
     "status": "completed"
    },
    "tags": []
   },
   "outputs": [],
   "source": [
    "# checking a single product id and its details\n",
    "bool_series = Transactions['product_id'] == 0\n",
    "\n",
    "product_id_0 = Transactions[bool_series]\n",
    "\n",
    "#view the product details\n",
    "print(product_id_0[['brand', 'product_line','product_class']])"
   ]
  },
  {
   "cell_type": "markdown",
   "metadata": {
    "papermill": {
     "duration": 0.010967,
     "end_time": "2020-08-30T12:00:23.964400",
     "exception": false,
     "start_time": "2020-08-30T12:00:23.953433",
     "status": "completed"
    },
    "tags": []
   },
   "source": [
    "## Highlights of Accuracy in Transactions\n",
    "A single product ID should be referencing a single product with unique values."
   ]
  },
  {
   "cell_type": "markdown",
   "metadata": {
    "papermill": {
     "duration": 0.01083,
     "end_time": "2020-08-30T12:00:23.986440",
     "exception": false,
     "start_time": "2020-08-30T12:00:23.975610",
     "status": "completed"
    },
    "tags": []
   },
   "source": [
    "## Checking Uniqueness of Dataset"
   ]
  },
  {
   "cell_type": "code",
   "execution_count": null,
   "metadata": {
    "execution": {
     "iopub.execute_input": "2020-08-30T12:00:24.016052Z",
     "iopub.status.busy": "2020-08-30T12:00:24.014912Z",
     "iopub.status.idle": "2020-08-30T12:00:24.042119Z",
     "shell.execute_reply": "2020-08-30T12:00:24.042718Z"
    },
    "papermill": {
     "duration": 0.045098,
     "end_time": "2020-08-30T12:00:24.042901",
     "exception": false,
     "start_time": "2020-08-30T12:00:23.997803",
     "status": "completed"
    },
    "tags": []
   },
   "outputs": [],
   "source": [
    "# looking for duplicated values\n",
    "duplicated_values = Transactions.duplicated()\n",
    "\n",
    "# number of duplicated values in dataset\n",
    "print(\"The number of duplicated records in Transactions dataset is {}\".format(duplicated_values.sum()))"
   ]
  },
  {
   "cell_type": "markdown",
   "metadata": {
    "papermill": {
     "duration": 0.010871,
     "end_time": "2020-08-30T12:00:24.065006",
     "exception": false,
     "start_time": "2020-08-30T12:00:24.054135",
     "status": "completed"
    },
    "tags": []
   },
   "source": [
    "## Highlights of Uniqueness in Transactions\n",
    "Transaction records are unique."
   ]
  },
  {
   "cell_type": "markdown",
   "metadata": {
    "papermill": {
     "duration": 0.011258,
     "end_time": "2020-08-30T12:00:24.087357",
     "exception": false,
     "start_time": "2020-08-30T12:00:24.076099",
     "status": "completed"
    },
    "tags": []
   },
   "source": [
    "## Exploring and Analyzing Data Quality of Sheet: NewCustomerList, Customer Demographic and Customer Address"
   ]
  },
  {
   "cell_type": "code",
   "execution_count": null,
   "metadata": {
    "execution": {
     "iopub.execute_input": "2020-08-30T12:00:24.128422Z",
     "iopub.status.busy": "2020-08-30T12:00:24.127625Z",
     "iopub.status.idle": "2020-08-30T12:00:24.131555Z",
     "shell.execute_reply": "2020-08-30T12:00:24.130976Z"
    },
    "papermill": {
     "duration": 0.033227,
     "end_time": "2020-08-30T12:00:24.131680",
     "exception": false,
     "start_time": "2020-08-30T12:00:24.098453",
     "status": "completed"
    },
    "tags": []
   },
   "outputs": [],
   "source": [
    "# display data of sheet NewCustomerList\n",
    "print(NewCustomerList.head())"
   ]
  },
  {
   "cell_type": "code",
   "execution_count": null,
   "metadata": {
    "execution": {
     "iopub.execute_input": "2020-08-30T12:00:24.169571Z",
     "iopub.status.busy": "2020-08-30T12:00:24.168334Z",
     "iopub.status.idle": "2020-08-30T12:00:24.172290Z",
     "shell.execute_reply": "2020-08-30T12:00:24.173160Z"
    },
    "papermill": {
     "duration": 0.029536,
     "end_time": "2020-08-30T12:00:24.173387",
     "exception": false,
     "start_time": "2020-08-30T12:00:24.143851",
     "status": "completed"
    },
    "tags": []
   },
   "outputs": [],
   "source": [
    "# display data of sheet Customer Demographic\n",
    "print(CustomerDemographic.head())"
   ]
  },
  {
   "cell_type": "code",
   "execution_count": null,
   "metadata": {
    "execution": {
     "iopub.execute_input": "2020-08-30T12:00:24.207003Z",
     "iopub.status.busy": "2020-08-30T12:00:24.206225Z",
     "iopub.status.idle": "2020-08-30T12:00:24.209838Z",
     "shell.execute_reply": "2020-08-30T12:00:24.209117Z"
    },
    "papermill": {
     "duration": 0.023937,
     "end_time": "2020-08-30T12:00:24.209968",
     "exception": false,
     "start_time": "2020-08-30T12:00:24.186031",
     "status": "completed"
    },
    "tags": []
   },
   "outputs": [],
   "source": [
    "# display data of sheet Customer Address\n",
    "print(CustomerAddress.head())"
   ]
  },
  {
   "cell_type": "markdown",
   "metadata": {
    "papermill": {
     "duration": 0.011162,
     "end_time": "2020-08-30T12:00:24.232880",
     "exception": false,
     "start_time": "2020-08-30T12:00:24.221718",
     "status": "completed"
    },
    "tags": []
   },
   "source": [
    "## Checking Consistency and Validity of Datasets"
   ]
  },
  {
   "cell_type": "code",
   "execution_count": null,
   "metadata": {
    "execution": {
     "iopub.execute_input": "2020-08-30T12:00:24.265088Z",
     "iopub.status.busy": "2020-08-30T12:00:24.263970Z",
     "iopub.status.idle": "2020-08-30T12:00:24.276567Z",
     "shell.execute_reply": "2020-08-30T12:00:24.277167Z"
    },
    "papermill": {
     "duration": 0.032995,
     "end_time": "2020-08-30T12:00:24.277328",
     "exception": false,
     "start_time": "2020-08-30T12:00:24.244333",
     "status": "completed"
    },
    "scrolled": false,
    "tags": []
   },
   "outputs": [],
   "source": [
    "# Display columns of dataset NewCustomerList\n",
    "print(NewCustomerList.info())"
   ]
  },
  {
   "cell_type": "code",
   "execution_count": null,
   "metadata": {
    "execution": {
     "iopub.execute_input": "2020-08-30T12:00:24.306804Z",
     "iopub.status.busy": "2020-08-30T12:00:24.306036Z",
     "iopub.status.idle": "2020-08-30T12:00:24.308891Z",
     "shell.execute_reply": "2020-08-30T12:00:24.309472Z"
    },
    "papermill": {
     "duration": 0.020102,
     "end_time": "2020-08-30T12:00:24.309623",
     "exception": false,
     "start_time": "2020-08-30T12:00:24.289521",
     "status": "completed"
    },
    "tags": []
   },
   "outputs": [],
   "source": [
    "# checking the shape of your data\n",
    "print(NewCustomerList.shape)"
   ]
  },
  {
   "cell_type": "code",
   "execution_count": null,
   "metadata": {
    "execution": {
     "iopub.execute_input": "2020-08-30T12:00:24.350812Z",
     "iopub.status.busy": "2020-08-30T12:00:24.343699Z",
     "iopub.status.idle": "2020-08-30T12:00:24.354870Z",
     "shell.execute_reply": "2020-08-30T12:00:24.355436Z"
    },
    "papermill": {
     "duration": 0.034118,
     "end_time": "2020-08-30T12:00:24.355607",
     "exception": false,
     "start_time": "2020-08-30T12:00:24.321489",
     "status": "completed"
    },
    "tags": []
   },
   "outputs": [],
   "source": [
    "# Display columns of dataset CustomerDemographic\n",
    "print(CustomerDemographic.info())"
   ]
  },
  {
   "cell_type": "code",
   "execution_count": null,
   "metadata": {
    "execution": {
     "iopub.execute_input": "2020-08-30T12:00:24.394171Z",
     "iopub.status.busy": "2020-08-30T12:00:24.393341Z",
     "iopub.status.idle": "2020-08-30T12:00:24.396351Z",
     "shell.execute_reply": "2020-08-30T12:00:24.396957Z"
    },
    "papermill": {
     "duration": 0.029322,
     "end_time": "2020-08-30T12:00:24.397110",
     "exception": false,
     "start_time": "2020-08-30T12:00:24.367788",
     "status": "completed"
    },
    "tags": []
   },
   "outputs": [],
   "source": [
    "# Display columns of dataset CustomerAddress\n",
    "print(CustomerAddress.info())"
   ]
  },
  {
   "cell_type": "code",
   "execution_count": null,
   "metadata": {
    "execution": {
     "iopub.execute_input": "2020-08-30T12:00:24.427470Z",
     "iopub.status.busy": "2020-08-30T12:00:24.426527Z",
     "iopub.status.idle": "2020-08-30T12:00:24.430667Z",
     "shell.execute_reply": "2020-08-30T12:00:24.429959Z"
    },
    "papermill": {
     "duration": 0.021334,
     "end_time": "2020-08-30T12:00:24.430806",
     "exception": false,
     "start_time": "2020-08-30T12:00:24.409472",
     "status": "completed"
    },
    "tags": []
   },
   "outputs": [],
   "source": [
    "# checking the shape of your data\n",
    "print(CustomerDemographic.shape)"
   ]
  },
  {
   "cell_type": "code",
   "execution_count": null,
   "metadata": {
    "execution": {
     "iopub.execute_input": "2020-08-30T12:00:24.461194Z",
     "iopub.status.busy": "2020-08-30T12:00:24.460239Z",
     "iopub.status.idle": "2020-08-30T12:00:24.464053Z",
     "shell.execute_reply": "2020-08-30T12:00:24.463411Z"
    },
    "papermill": {
     "duration": 0.020999,
     "end_time": "2020-08-30T12:00:24.464176",
     "exception": false,
     "start_time": "2020-08-30T12:00:24.443177",
     "status": "completed"
    },
    "tags": []
   },
   "outputs": [],
   "source": [
    "# checking the shape of your data\n",
    "print(CustomerAddress.shape)"
   ]
  },
  {
   "cell_type": "markdown",
   "metadata": {
    "papermill": {
     "duration": 0.012449,
     "end_time": "2020-08-30T12:00:24.489216",
     "exception": false,
     "start_time": "2020-08-30T12:00:24.476767",
     "status": "completed"
    },
    "tags": []
   },
   "source": [
    "## Highlights of Consistency and Validity in NewCustomerList, Customer Demographic and Customer Address\n",
    "NewCustomerList dataset has 1000 records with 23 columns, yet Customer Demographics have 4000 records with 13 columns and remaining in Customer Address with 6 columns using **customer_id** has key.\n",
    "- Structure format of NewCustomerList must be consistent with Customer Demographic and Customer Address.\n",
    "- There is no **customer_id** in NewCustomerList.\n",
    "- Number of columns are inconsistent because in NewCustomerList there are **4 columns which are Unnamed** and they contain some values as well, however are not labeled so cannot be identified.\n",
    "- There is one column in *NewCustomerList* which is **Value**, it is captured in a column of **float64** datatype but this was not captured before and is not present in *CustomerDemographic* or *CustomerAddress*.\n",
    "- There is one column named **default** in *CustomerDemographic*, it is captured in a column of **object** datatype, some values are observed to be date values but this was not captured after and is not present in *NewCustomerList*. \n",
    "- From remaining columns 5 columns are of datatype **int64** which are past_3_years_bike_related_purchases, tenure, postcode, property_valuation, and Rank.                                . \n",
    "- DOB is the date column **datetime64** in format **YYYY-MM-DD**. The date format used to capture transaction date in Transactions is **MM/DD/YYYY**. It would be better if it is kept consistent.\n",
    "- Rest of the columns are in **object** data type values but, deceased_indicator must have contain **boolean** like True and False.\n",
    "- Data Captured in Gender column in the dataset CustomerDemographic is not consistent. It should be \"Male\", \"Female\" and \"U\" as per the NewCustomerList."
   ]
  },
  {
   "cell_type": "markdown",
   "metadata": {
    "papermill": {
     "duration": 0.0124,
     "end_time": "2020-08-30T12:00:24.514676",
     "exception": false,
     "start_time": "2020-08-30T12:00:24.502276",
     "status": "completed"
    },
    "tags": []
   },
   "source": [
    "## Checking Completeness of Datasets"
   ]
  },
  {
   "cell_type": "code",
   "execution_count": null,
   "metadata": {
    "execution": {
     "iopub.execute_input": "2020-08-30T12:00:24.553845Z",
     "iopub.status.busy": "2020-08-30T12:00:24.552622Z",
     "iopub.status.idle": "2020-08-30T12:00:24.565467Z",
     "shell.execute_reply": "2020-08-30T12:00:24.564668Z"
    },
    "papermill": {
     "duration": 0.03839,
     "end_time": "2020-08-30T12:00:24.565596",
     "exception": false,
     "start_time": "2020-08-30T12:00:24.527206",
     "status": "completed"
    },
    "tags": []
   },
   "outputs": [],
   "source": [
    "# looking for the null values\n",
    "total_null_values = NewCustomerList.isnull().sum()\n",
    "\n",
    "# calculating total values\n",
    "total_values = NewCustomerList.count().sort_values(ascending=True) \n",
    "\n",
    "# calculating the percentage of null values\n",
    "null_values_percentage = total_null_values/total_values *100\n",
    "\n",
    "# converting to dataframe of missing values\n",
    "missing_values_NewCustomerList = pd.concat({'Total Values' : total_values, 'Null_values': total_null_values, 'Percentage of Missing Values': null_values_percentage}, axis=1)\n",
    "\n",
    "# display missing values\n",
    "print(missing_values_NewCustomerList)"
   ]
  },
  {
   "cell_type": "code",
   "execution_count": null,
   "metadata": {
    "execution": {
     "iopub.execute_input": "2020-08-30T12:00:24.605512Z",
     "iopub.status.busy": "2020-08-30T12:00:24.604707Z",
     "iopub.status.idle": "2020-08-30T12:00:24.621816Z",
     "shell.execute_reply": "2020-08-30T12:00:24.621169Z"
    },
    "papermill": {
     "duration": 0.043054,
     "end_time": "2020-08-30T12:00:24.621942",
     "exception": false,
     "start_time": "2020-08-30T12:00:24.578888",
     "status": "completed"
    },
    "tags": []
   },
   "outputs": [],
   "source": [
    "# looking for the null values\n",
    "total_null_values = CustomerDemographic.isnull().sum()\n",
    "\n",
    "# calculating total values\n",
    "total_values = CustomerDemographic.count().sort_values(ascending=True) \n",
    "\n",
    "# calculating the percentage of null values\n",
    "null_values_percentage = total_null_values/total_values *100\n",
    "\n",
    "# converting to dataframe of missing values\n",
    "missing_values_CustomerDemographic = pd.concat({'Total Values' : total_values, 'Null_values': total_null_values, 'Percentage of Missing Values': null_values_percentage}, axis=1)\n",
    "\n",
    "# display missing values\n",
    "print(missing_values_CustomerDemographic)"
   ]
  },
  {
   "cell_type": "markdown",
   "metadata": {
    "papermill": {
     "duration": 0.012458,
     "end_time": "2020-08-30T12:00:24.647434",
     "exception": false,
     "start_time": "2020-08-30T12:00:24.634976",
     "status": "completed"
    },
    "tags": []
   },
   "source": [
    "## Highlights of Completeness in NewCustomerList, Customer Demographic and Customer Address\n",
    "- In NewCustomerList 19.76% of job_industry_category values are missing almost similar to CustomerDemographic which is 19.61%.\n",
    "- 11.85% of job_title values are missing in NewCustomerList a little less as compared to CustomerDemographic that has 14.48% of missing values.\n",
    "- 3.22% of last_name values were missing in CustomerDemographic yet 2.98% of last_name values are missing in NewCustomerList.\n",
    "- CustomerDemographic has 2.22% of missing DOB values which is slighlty decreased to 1.72% NewCustomerList.\n",
    "- There is a 2.22% of missing tenure values in CustomerDemographic but there is no missing values of tenure in NewCustomerList.\n",
    "- There is 1 missing record of address of **customer_id = 3** in CustomerAddress, as per identified by the shape of the datasets.\n"
   ]
  },
  {
   "cell_type": "markdown",
   "metadata": {
    "papermill": {
     "duration": 0.012905,
     "end_time": "2020-08-30T12:00:24.673275",
     "exception": false,
     "start_time": "2020-08-30T12:00:24.660370",
     "status": "completed"
    },
    "tags": []
   },
   "source": [
    "## Checking Accuracy of Dataset"
   ]
  },
  {
   "cell_type": "code",
   "execution_count": null,
   "metadata": {
    "execution": {
     "iopub.execute_input": "2020-08-30T12:00:24.708922Z",
     "iopub.status.busy": "2020-08-30T12:00:24.708083Z",
     "iopub.status.idle": "2020-08-30T12:00:24.711678Z",
     "shell.execute_reply": "2020-08-30T12:00:24.712344Z"
    },
    "papermill": {
     "duration": 0.026454,
     "end_time": "2020-08-30T12:00:24.712498",
     "exception": false,
     "start_time": "2020-08-30T12:00:24.686044",
     "status": "completed"
    },
    "scrolled": true,
    "tags": []
   },
   "outputs": [],
   "source": [
    "CustomerDemographic['DOB']"
   ]
  },
  {
   "cell_type": "markdown",
   "metadata": {
    "papermill": {
     "duration": 0.012849,
     "end_time": "2020-08-30T12:00:24.738826",
     "exception": false,
     "start_time": "2020-08-30T12:00:24.725977",
     "status": "completed"
    },
    "tags": []
   },
   "source": [
    "## Highlights of Accuracy in NewCustomerList, Customer Demographic and Customer Address\n",
    "One date value is wrong. 1843 year is not possible."
   ]
  },
  {
   "cell_type": "markdown",
   "metadata": {
    "papermill": {
     "duration": 0.013094,
     "end_time": "2020-08-30T12:00:24.765295",
     "exception": false,
     "start_time": "2020-08-30T12:00:24.752201",
     "status": "completed"
    },
    "tags": []
   },
   "source": [
    "## Checking Uniqueness of Dataset"
   ]
  },
  {
   "cell_type": "code",
   "execution_count": null,
   "metadata": {
    "execution": {
     "iopub.execute_input": "2020-08-30T12:00:24.799222Z",
     "iopub.status.busy": "2020-08-30T12:00:24.798387Z",
     "iopub.status.idle": "2020-08-30T12:00:24.808929Z",
     "shell.execute_reply": "2020-08-30T12:00:24.809507Z"
    },
    "papermill": {
     "duration": 0.031215,
     "end_time": "2020-08-30T12:00:24.809679",
     "exception": false,
     "start_time": "2020-08-30T12:00:24.778464",
     "status": "completed"
    },
    "tags": []
   },
   "outputs": [],
   "source": [
    "# looking for duplicated values\n",
    "duplicated_values = NewCustomerList.duplicated()\n",
    "\n",
    "# number of duplicated values in dataset\n",
    "print(\"The number of duplicated records in NewCustomerList dataset is {}\".format(duplicated_values.sum()))"
   ]
  },
  {
   "cell_type": "code",
   "execution_count": null,
   "metadata": {
    "execution": {
     "iopub.execute_input": "2020-08-30T12:00:24.843230Z",
     "iopub.status.busy": "2020-08-30T12:00:24.842426Z",
     "iopub.status.idle": "2020-08-30T12:00:24.857068Z",
     "shell.execute_reply": "2020-08-30T12:00:24.856408Z"
    },
    "papermill": {
     "duration": 0.033731,
     "end_time": "2020-08-30T12:00:24.857193",
     "exception": false,
     "start_time": "2020-08-30T12:00:24.823462",
     "status": "completed"
    },
    "tags": []
   },
   "outputs": [],
   "source": [
    "# looking for duplicated values\n",
    "duplicated_values = CustomerDemographic.duplicated()\n",
    "\n",
    "# number of duplicated values in dataset\n",
    "print(\"The number of duplicated records in CustomerDemographic dataset is {}\".format(duplicated_values.sum()))"
   ]
  },
  {
   "cell_type": "code",
   "execution_count": null,
   "metadata": {
    "execution": {
     "iopub.execute_input": "2020-08-30T12:00:24.890942Z",
     "iopub.status.busy": "2020-08-30T12:00:24.890155Z",
     "iopub.status.idle": "2020-08-30T12:00:24.898411Z",
     "shell.execute_reply": "2020-08-30T12:00:24.897644Z"
    },
    "papermill": {
     "duration": 0.027759,
     "end_time": "2020-08-30T12:00:24.898543",
     "exception": false,
     "start_time": "2020-08-30T12:00:24.870784",
     "status": "completed"
    },
    "tags": []
   },
   "outputs": [],
   "source": [
    "# looking for duplicated values\n",
    "duplicated_values = CustomerAddress.duplicated()\n",
    "\n",
    "# number of duplicated values in dataset\n",
    "print(\"The number of duplicated records in CustomerAddress dataset is {}\".format(duplicated_values.sum()))"
   ]
  },
  {
   "cell_type": "markdown",
   "metadata": {
    "papermill": {
     "duration": 0.013209,
     "end_time": "2020-08-30T12:00:24.925448",
     "exception": false,
     "start_time": "2020-08-30T12:00:24.912239",
     "status": "completed"
    },
    "tags": []
   },
   "source": [
    "## Highlights of Uniqueness\n",
    "All records are unique."
   ]
  }
 ],
 "metadata": {
  "kernelspec": {
   "display_name": "Python 3",
   "language": "python",
   "name": "python3"
  },
  "language_info": {
   "codemirror_mode": {
    "name": "ipython",
    "version": 3
   },
   "file_extension": ".py",
   "mimetype": "text/x-python",
   "name": "python",
   "nbconvert_exporter": "python",
   "pygments_lexer": "ipython3",
   "version": "3.10.6"
  },
  "papermill": {
   "duration": 15.779497,
   "end_time": "2020-08-30T12:00:25.047482",
   "environment_variables": {},
   "exception": null,
   "input_path": "__notebook__.ipynb",
   "output_path": "__notebook__.ipynb",
   "parameters": {},
   "start_time": "2020-08-30T12:00:09.267985",
   "version": "2.1.0"
  }
 },
 "nbformat": 4,
 "nbformat_minor": 4
}
