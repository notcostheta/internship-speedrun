{
 "cells": [
  {
   "cell_type": "markdown",
   "metadata": {
    "papermill": {
     "duration": 0.012489,
     "end_time": "2020-08-30T12:00:14.531446",
     "exception": false,
     "start_time": "2020-08-30T12:00:14.518957",
     "status": "completed"
    },
    "tags": []
   },
   "source": [
    "# Data Quality Assessment for a Medium Size Bikes & Cycling Accessories Organization\n",
    "\n",
    "> This project was done under the umbrella of KPMG internship experience. I was provided data sets of an organization targeting a client who wants a feedback from us on their dataset quality and how this can be improved.\n",
    "\n",
    "### Purpose \n",
    "Primarily, Sprocket Central Pty Ltd needs help with its customer and transactions data. The organisation has a large dataset relating to its customers, but their team is unsure how to effectively analyse it to help optimise its marketing strategy. \n",
    "\n",
    "“the importance of optimising the quality of customer datasets cannot be underestimated. The better the quality of the dataset, the better chance you will be able to use it drive company growth.” \n",
    "\n",
    "Perform the preliminary data exploration and identify ways to improve the quality of Sprocket Central Pty Ltd’s data.\n",
    "\n",
    "### Datasets\n",
    "The client provided KPMG with 3 datasets:\n",
    "- Customer Demographic \n",
    "- Customer Addresses\n",
    "- Transactions data in the past 3 months\n",
    "\n",
    "### Data Quality Framework Table\n",
    "Using the dimensions included in the Data Quality Framework, I will assess the quality of these datasets. Followings are the dimesnions provided by the Data Quality Framework: \n",
    "- Completeness : How much information all entities have. Number of missing values.\n",
    "- Consistency : How conistent is your Data. Number of inconsistencies in your data.\n",
    "- Accuarcy : How accurate is your Data. Number of errors in you data.\n",
    "- Relevancy/Auditability : Relevanct data in your entities. Number of irrelavant values.\n",
    "- Validity : Validated data with allowable values.\n",
    "- Uniqueness: How much uniques is your data. Number of duplicated values.\n",
    "- Timeliness: Updated data. Current data.\n"
   ]
  },
  {
   "cell_type": "code",
   "execution_count": 7,
   "metadata": {
    "execution": {
     "iopub.execute_input": "2020-08-30T12:00:14.562760Z",
     "iopub.status.busy": "2020-08-30T12:00:14.561868Z",
     "iopub.status.idle": "2020-08-30T12:00:23.553790Z",
     "shell.execute_reply": "2020-08-30T12:00:23.552910Z"
    },
    "papermill": {
     "duration": 9.011747,
     "end_time": "2020-08-30T12:00:23.553935",
     "exception": false,
     "start_time": "2020-08-30T12:00:14.542188",
     "status": "completed"
    },
    "tags": []
   },
   "outputs": [],
   "source": [
    "# importing pandas library for i/o and dataframes \n",
    "import pandas as pd\n",
    "\n",
    "# loading dataset and extracting sheets'\n",
    "dataset = pd.ExcelFile('KPMG_VI_New_raw_data_update_final.xlsx')\n",
    "\n",
    "# parsing sheets\n",
    "Transactions = dataset.parse('Transactions', header=0, skiprows=1)\n",
    "NewCustomerList = dataset.parse('NewCustomerList')\n",
    "CustomerDemographic = dataset.parse('CustomerDemographic')\n",
    "CustomerAddress = dataset.parse('CustomerAddress')"
   ]
  },
  {
   "cell_type": "markdown",
   "metadata": {
    "papermill": {
     "duration": 0.009958,
     "end_time": "2020-08-30T12:00:23.574261",
     "exception": false,
     "start_time": "2020-08-30T12:00:23.564303",
     "status": "completed"
    },
    "tags": []
   },
   "source": [
    "## Exploring and Analyzing Data Quality of Sheet: Transactions "
   ]
  },
  {
   "cell_type": "code",
   "execution_count": 8,
   "metadata": {
    "execution": {
     "iopub.execute_input": "2020-08-30T12:00:23.610158Z",
     "iopub.status.busy": "2020-08-30T12:00:23.609192Z",
     "iopub.status.idle": "2020-08-30T12:00:23.613182Z",
     "shell.execute_reply": "2020-08-30T12:00:23.614001Z"
    },
    "papermill": {
     "duration": 0.029721,
     "end_time": "2020-08-30T12:00:23.614206",
     "exception": false,
     "start_time": "2020-08-30T12:00:23.584485",
     "status": "completed"
    },
    "tags": []
   },
   "outputs": [
    {
     "name": "stdout",
     "output_type": "stream",
     "text": [
      "   transaction_id  product_id  customer_id transaction_date  online_order  \\\n",
      "0               1           2         2950       2017-02-25           0.0   \n",
      "1               2           3         3120       2017-05-21           1.0   \n",
      "2               3          37          402       2017-10-16           0.0   \n",
      "3               4          88         3135       2017-08-31           0.0   \n",
      "4               5          78          787       2017-10-01           1.0   \n",
      "\n",
      "  order_status           brand product_line product_class product_size  \\\n",
      "0     Approved           Solex     Standard        medium       medium   \n",
      "1     Approved   Trek Bicycles     Standard        medium        large   \n",
      "2     Approved      OHM Cycles     Standard           low       medium   \n",
      "3     Approved  Norco Bicycles     Standard        medium       medium   \n",
      "4     Approved  Giant Bicycles     Standard        medium        large   \n",
      "\n",
      "   list_price  standard_cost  product_first_sold_date  \n",
      "0       71.49          53.62                  41245.0  \n",
      "1     2091.47         388.92                  41701.0  \n",
      "2     1793.43         248.82                  36361.0  \n",
      "3     1198.46         381.10                  36145.0  \n",
      "4     1765.30         709.48                  42226.0  \n"
     ]
    }
   ],
   "source": [
    "# display data inside sheet\n",
    "print(Transactions.head())"
   ]
  },
  {
   "cell_type": "markdown",
   "metadata": {
    "papermill": {
     "duration": 0.010107,
     "end_time": "2020-08-30T12:00:23.635358",
     "exception": false,
     "start_time": "2020-08-30T12:00:23.625251",
     "status": "completed"
    },
    "tags": []
   },
   "source": [
    "## Checking Consistency and Validity of Dataset"
   ]
  },
  {
   "cell_type": "code",
   "execution_count": 9,
   "metadata": {
    "execution": {
     "iopub.execute_input": "2020-08-30T12:00:23.673592Z",
     "iopub.status.busy": "2020-08-30T12:00:23.672767Z",
     "iopub.status.idle": "2020-08-30T12:00:23.691933Z",
     "shell.execute_reply": "2020-08-30T12:00:23.691267Z"
    },
    "papermill": {
     "duration": 0.046566,
     "end_time": "2020-08-30T12:00:23.692071",
     "exception": false,
     "start_time": "2020-08-30T12:00:23.645505",
     "status": "completed"
    },
    "tags": []
   },
   "outputs": [
    {
     "name": "stdout",
     "output_type": "stream",
     "text": [
      "<class 'pandas.core.frame.DataFrame'>\n",
      "RangeIndex: 20000 entries, 0 to 19999\n",
      "Data columns (total 13 columns):\n",
      " #   Column                   Non-Null Count  Dtype         \n",
      "---  ------                   --------------  -----         \n",
      " 0   transaction_id           20000 non-null  int64         \n",
      " 1   product_id               20000 non-null  int64         \n",
      " 2   customer_id              20000 non-null  int64         \n",
      " 3   transaction_date         20000 non-null  datetime64[ns]\n",
      " 4   online_order             19640 non-null  float64       \n",
      " 5   order_status             20000 non-null  object        \n",
      " 6   brand                    19803 non-null  object        \n",
      " 7   product_line             19803 non-null  object        \n",
      " 8   product_class            19803 non-null  object        \n",
      " 9   product_size             19803 non-null  object        \n",
      " 10  list_price               20000 non-null  float64       \n",
      " 11  standard_cost            19803 non-null  float64       \n",
      " 12  product_first_sold_date  19803 non-null  float64       \n",
      "dtypes: datetime64[ns](1), float64(4), int64(3), object(5)\n",
      "memory usage: 2.0+ MB\n",
      "None\n"
     ]
    }
   ],
   "source": [
    "# Display columns of dataset Transactions\n",
    "print(Transactions.info())"
   ]
  },
  {
   "cell_type": "code",
   "execution_count": 10,
   "metadata": {
    "execution": {
     "iopub.execute_input": "2020-08-30T12:00:23.719011Z",
     "iopub.status.busy": "2020-08-30T12:00:23.718093Z",
     "iopub.status.idle": "2020-08-30T12:00:23.721721Z",
     "shell.execute_reply": "2020-08-30T12:00:23.722357Z"
    },
    "papermill": {
     "duration": 0.020022,
     "end_time": "2020-08-30T12:00:23.722537",
     "exception": false,
     "start_time": "2020-08-30T12:00:23.702515",
     "status": "completed"
    },
    "tags": []
   },
   "outputs": [
    {
     "name": "stdout",
     "output_type": "stream",
     "text": [
      "(20000, 13)\n"
     ]
    }
   ],
   "source": [
    "# checking the shape of your data\n",
    "print(Transactions.shape)"
   ]
  },
  {
   "cell_type": "markdown",
   "metadata": {
    "papermill": {
     "duration": 0.010498,
     "end_time": "2020-08-30T12:00:23.743814",
     "exception": false,
     "start_time": "2020-08-30T12:00:23.733316",
     "status": "completed"
    },
    "tags": []
   },
   "source": [
    "## Highlights of Consistency and Validity in Transactions\n",
    "Transactions dataset has 20000 records with 13 columns. \n",
    "- Out of which, 3 are of datatype **int64** which are keys. \n",
    "- One is the date **datetime64** in format **MM/DD/YYYY**. The date format used to capture DOB of customers is **YYYY-MM-DD**. It would be better if it is kept consistent.\n",
    "- Another one is Online Order which is captured in a column of **float64** datatype, however the values are **boolean**, that is true and false. \n",
    "- 5 columns are of datatype **object** which are order_status, brand, product_line, product_class, product_size. \n",
    "- Last 3 columns are of datatype **float64** again from which one of them is a date and should be **datetime64** and must be in the standard format."
   ]
  },
  {
   "cell_type": "markdown",
   "metadata": {
    "papermill": {
     "duration": 0.010471,
     "end_time": "2020-08-30T12:00:23.765101",
     "exception": false,
     "start_time": "2020-08-30T12:00:23.754630",
     "status": "completed"
    },
    "tags": []
   },
   "source": [
    "## Checking Completeness of Dataset"
   ]
  },
  {
   "cell_type": "code",
   "execution_count": 11,
   "metadata": {
    "execution": {
     "iopub.execute_input": "2020-08-30T12:00:23.805959Z",
     "iopub.status.busy": "2020-08-30T12:00:23.805146Z",
     "iopub.status.idle": "2020-08-30T12:00:23.855160Z",
     "shell.execute_reply": "2020-08-30T12:00:23.854184Z"
    },
    "papermill": {
     "duration": 0.079436,
     "end_time": "2020-08-30T12:00:23.855331",
     "exception": false,
     "start_time": "2020-08-30T12:00:23.775895",
     "status": "completed"
    },
    "tags": []
   },
   "outputs": [
    {
     "name": "stdout",
     "output_type": "stream",
     "text": [
      "                         Total Values  Null_values  \\\n",
      "online_order                    19640          360   \n",
      "brand                           19803          197   \n",
      "product_line                    19803          197   \n",
      "product_class                   19803          197   \n",
      "product_size                    19803          197   \n",
      "standard_cost                   19803          197   \n",
      "product_first_sold_date         19803          197   \n",
      "transaction_id                  20000            0   \n",
      "product_id                      20000            0   \n",
      "customer_id                     20000            0   \n",
      "transaction_date                20000            0   \n",
      "order_status                    20000            0   \n",
      "list_price                      20000            0   \n",
      "\n",
      "                         Percentage of Missing Values  \n",
      "online_order                                 1.832994  \n",
      "brand                                        0.994799  \n",
      "product_line                                 0.994799  \n",
      "product_class                                0.994799  \n",
      "product_size                                 0.994799  \n",
      "standard_cost                                0.994799  \n",
      "product_first_sold_date                      0.994799  \n",
      "transaction_id                               0.000000  \n",
      "product_id                                   0.000000  \n",
      "customer_id                                  0.000000  \n",
      "transaction_date                             0.000000  \n",
      "order_status                                 0.000000  \n",
      "list_price                                   0.000000  \n"
     ]
    }
   ],
   "source": [
    "# looking for the null values\n",
    "total_null_values = Transactions.isnull().sum()\n",
    "\n",
    "# calculating total values\n",
    "total_values = Transactions.count().sort_values(ascending=True) \n",
    "\n",
    "# calculating the percentage of null values\n",
    "null_values_percentage = total_null_values/total_values *100\n",
    "\n",
    "# converting to dataframe of missing values\n",
    "missing_values = pd.concat({'Total Values' : total_values, 'Null_values': total_null_values, 'Percentage of Missing Values': null_values_percentage}, axis=1)\n",
    "\n",
    "# display missing values\n",
    "print(missing_values)"
   ]
  },
  {
   "cell_type": "markdown",
   "metadata": {
    "papermill": {
     "duration": 0.01042,
     "end_time": "2020-08-30T12:00:23.877231",
     "exception": false,
     "start_time": "2020-08-30T12:00:23.866811",
     "status": "completed"
    },
    "tags": []
   },
   "source": [
    "## Highlights of Completeness in Transactions\n",
    "- Order Online columns has about 1.83% of null values. There are 360 records in which order_online was not captured.\n",
    "- Columns brand, product_line, product_class, product_size, standard_cost, product_first_sold_date also has a percentage of 0.995% missing values that is 197 null values, which should not be missing if product_id is inherited and the details of the product cannot be missing."
   ]
  },
  {
   "cell_type": "markdown",
   "metadata": {
    "papermill": {
     "duration": 0.010564,
     "end_time": "2020-08-30T12:00:23.898886",
     "exception": false,
     "start_time": "2020-08-30T12:00:23.888322",
     "status": "completed"
    },
    "tags": []
   },
   "source": [
    "## Checking Accuracy of Dataset"
   ]
  },
  {
   "cell_type": "code",
   "execution_count": 12,
   "metadata": {
    "execution": {
     "iopub.execute_input": "2020-08-30T12:00:23.927324Z",
     "iopub.status.busy": "2020-08-30T12:00:23.926525Z",
     "iopub.status.idle": "2020-08-30T12:00:23.942251Z",
     "shell.execute_reply": "2020-08-30T12:00:23.941559Z"
    },
    "papermill": {
     "duration": 0.033001,
     "end_time": "2020-08-30T12:00:23.942382",
     "exception": false,
     "start_time": "2020-08-30T12:00:23.909381",
     "status": "completed"
    },
    "tags": []
   },
   "outputs": [
    {
     "name": "stdout",
     "output_type": "stream",
     "text": [
      "                brand product_line product_class\n",
      "34     Norco Bicycles         Road        medium\n",
      "39     Norco Bicycles         Road        medium\n",
      "54     Norco Bicycles     Standard           low\n",
      "60         OHM Cycles         Road          high\n",
      "63      Trek Bicycles     Standard        medium\n",
      "...               ...          ...           ...\n",
      "19921  Norco Bicycles         Road        medium\n",
      "19941      OHM Cycles     Standard           low\n",
      "19967        WeareA2B     Standard        medium\n",
      "19987  Norco Bicycles         Road        medium\n",
      "19988  Norco Bicycles     Standard           low\n",
      "\n",
      "[1378 rows x 3 columns]\n"
     ]
    }
   ],
   "source": [
    "# checking a single product id and its details\n",
    "bool_series = Transactions['product_id'] == 0\n",
    "\n",
    "product_id_0 = Transactions[bool_series]\n",
    "\n",
    "#view the product details\n",
    "print(product_id_0[['brand', 'product_line','product_class']])"
   ]
  },
  {
   "cell_type": "markdown",
   "metadata": {
    "papermill": {
     "duration": 0.010967,
     "end_time": "2020-08-30T12:00:23.964400",
     "exception": false,
     "start_time": "2020-08-30T12:00:23.953433",
     "status": "completed"
    },
    "tags": []
   },
   "source": [
    "## Highlights of Accuracy in Transactions\n",
    "A single product ID should be referencing a single product with unique values."
   ]
  },
  {
   "cell_type": "markdown",
   "metadata": {
    "papermill": {
     "duration": 0.01083,
     "end_time": "2020-08-30T12:00:23.986440",
     "exception": false,
     "start_time": "2020-08-30T12:00:23.975610",
     "status": "completed"
    },
    "tags": []
   },
   "source": [
    "## Checking Uniqueness of Dataset"
   ]
  },
  {
   "cell_type": "code",
   "execution_count": 13,
   "metadata": {
    "execution": {
     "iopub.execute_input": "2020-08-30T12:00:24.016052Z",
     "iopub.status.busy": "2020-08-30T12:00:24.014912Z",
     "iopub.status.idle": "2020-08-30T12:00:24.042119Z",
     "shell.execute_reply": "2020-08-30T12:00:24.042718Z"
    },
    "papermill": {
     "duration": 0.045098,
     "end_time": "2020-08-30T12:00:24.042901",
     "exception": false,
     "start_time": "2020-08-30T12:00:23.997803",
     "status": "completed"
    },
    "tags": []
   },
   "outputs": [
    {
     "name": "stdout",
     "output_type": "stream",
     "text": [
      "The number of duplicated records in Transactions dataset is 0\n"
     ]
    }
   ],
   "source": [
    "# looking for duplicated values\n",
    "duplicated_values = Transactions.duplicated()\n",
    "\n",
    "# number of duplicated values in dataset\n",
    "print(\"The number of duplicated records in Transactions dataset is {}\".format(duplicated_values.sum()))"
   ]
  },
  {
   "cell_type": "markdown",
   "metadata": {
    "papermill": {
     "duration": 0.010871,
     "end_time": "2020-08-30T12:00:24.065006",
     "exception": false,
     "start_time": "2020-08-30T12:00:24.054135",
     "status": "completed"
    },
    "tags": []
   },
   "source": [
    "## Highlights of Uniqueness in Transactions\n",
    "Transaction records are unique."
   ]
  },
  {
   "cell_type": "markdown",
   "metadata": {
    "papermill": {
     "duration": 0.011258,
     "end_time": "2020-08-30T12:00:24.087357",
     "exception": false,
     "start_time": "2020-08-30T12:00:24.076099",
     "status": "completed"
    },
    "tags": []
   },
   "source": [
    "## Exploring and Analyzing Data Quality of Sheet: NewCustomerList, Customer Demographic and Customer Address"
   ]
  },
  {
   "cell_type": "code",
   "execution_count": 14,
   "metadata": {
    "execution": {
     "iopub.execute_input": "2020-08-30T12:00:24.128422Z",
     "iopub.status.busy": "2020-08-30T12:00:24.127625Z",
     "iopub.status.idle": "2020-08-30T12:00:24.131555Z",
     "shell.execute_reply": "2020-08-30T12:00:24.130976Z"
    },
    "papermill": {
     "duration": 0.033227,
     "end_time": "2020-08-30T12:00:24.131680",
     "exception": false,
     "start_time": "2020-08-30T12:00:24.098453",
     "status": "completed"
    },
    "tags": []
   },
   "outputs": [
    {
     "name": "stdout",
     "output_type": "stream",
     "text": [
      "  Note: The data and information in this document is reflective of a hypothetical situation and client. This document is to be used for KPMG Virtual Internship purposes only.   \\\n",
      "0                                         first_name                                                                                                                              \n",
      "1                                            Chickie                                                                                                                              \n",
      "2                                              Morly                                                                                                                              \n",
      "3                                            Ardelis                                                                                                                              \n",
      "4                                             Lucine                                                                                                                              \n",
      "\n",
      "  Unnamed: 1 Unnamed: 2                           Unnamed: 3  \\\n",
      "0  last_name     gender  past_3_years_bike_related_purchases   \n",
      "1    Brister       Male                                   86   \n",
      "2     Genery       Male                                   69   \n",
      "3  Forrester     Female                                   10   \n",
      "4      Stutt     Female                                   64   \n",
      "\n",
      "            Unnamed: 4                  Unnamed: 5             Unnamed: 6  \\\n",
      "0                  DOB                   job_title  job_industry_category   \n",
      "1           1957-07-12             General Manager          Manufacturing   \n",
      "2           1970-03-22         Structural Engineer               Property   \n",
      "3  1974-08-28 00:00:00      Senior Cost Accountant     Financial Services   \n",
      "4           1979-01-28  Account Representative III          Manufacturing   \n",
      "\n",
      "          Unnamed: 7          Unnamed: 8 Unnamed: 9  ... Unnamed: 13  \\\n",
      "0     wealth_segment  deceased_indicator   owns_car  ...       state   \n",
      "1      Mass Customer                   N        Yes  ...         QLD   \n",
      "2      Mass Customer                   N         No  ...         NSW   \n",
      "3  Affluent Customer                   N         No  ...         VIC   \n",
      "4  Affluent Customer                   N        Yes  ...         QLD   \n",
      "\n",
      "  Unnamed: 14         Unnamed: 15 Unnamed: 16 Unnamed: 17 Unnamed: 18  \\\n",
      "0     country  property_valuation         NaN         NaN         NaN   \n",
      "1   Australia                   6        0.56      0.7000      0.8750   \n",
      "2   Australia                  11        0.89      0.8900      1.1125   \n",
      "3   Australia                   5        1.01      1.0100      1.0100   \n",
      "4   Australia                   1        0.87      1.0875      1.0875   \n",
      "\n",
      "   Unnamed: 19  Unnamed: 20  Unnamed: 21  Unnamed: 22  \n",
      "0          NaN          NaN         Rank        Value  \n",
      "1     0.743750          1.0            1      1.71875  \n",
      "2     0.945625          1.0            1      1.71875  \n",
      "3     1.010000          1.0            1      1.71875  \n",
      "4     1.087500          4.0            4     1.703125  \n",
      "\n",
      "[5 rows x 23 columns]\n"
     ]
    }
   ],
   "source": [
    "# display data of sheet NewCustomerList\n",
    "print(NewCustomerList.head())"
   ]
  },
  {
   "cell_type": "code",
   "execution_count": 15,
   "metadata": {
    "execution": {
     "iopub.execute_input": "2020-08-30T12:00:24.169571Z",
     "iopub.status.busy": "2020-08-30T12:00:24.168334Z",
     "iopub.status.idle": "2020-08-30T12:00:24.172290Z",
     "shell.execute_reply": "2020-08-30T12:00:24.173160Z"
    },
    "papermill": {
     "duration": 0.029536,
     "end_time": "2020-08-30T12:00:24.173387",
     "exception": false,
     "start_time": "2020-08-30T12:00:24.143851",
     "status": "completed"
    },
    "tags": []
   },
   "outputs": [
    {
     "name": "stdout",
     "output_type": "stream",
     "text": [
      "  Note: The data and information in this document is reflective of a hypothetical situation and client. This document is to be used for KPMG Virtual Internship purposes only.   \\\n",
      "0                                        customer_id                                                                                                                              \n",
      "1                                                  1                                                                                                                              \n",
      "2                                                  2                                                                                                                              \n",
      "3                                                  3                                                                                                                              \n",
      "4                                                  4                                                                                                                              \n",
      "\n",
      "   Unnamed: 1 Unnamed: 2 Unnamed: 3                           Unnamed: 4  \\\n",
      "0  first_name  last_name     gender  past_3_years_bike_related_purchases   \n",
      "1     Laraine  Medendorp          F                                   93   \n",
      "2         Eli    Bockman       Male                                   81   \n",
      "3       Arlin     Dearle       Male                                   61   \n",
      "4      Talbot        NaN       Male                                   33   \n",
      "\n",
      "            Unnamed: 5              Unnamed: 6             Unnamed: 7  \\\n",
      "0                  DOB               job_title  job_industry_category   \n",
      "1  1953-10-12 00:00:00     Executive Secretary                 Health   \n",
      "2  1980-12-16 00:00:00  Administrative Officer     Financial Services   \n",
      "3  1954-01-20 00:00:00      Recruiting Manager               Property   \n",
      "4  1961-10-03 00:00:00                     NaN                     IT   \n",
      "\n",
      "       Unnamed: 8          Unnamed: 9  \\\n",
      "0  wealth_segment  deceased_indicator   \n",
      "1   Mass Customer                   N   \n",
      "2   Mass Customer                   N   \n",
      "3   Mass Customer                   N   \n",
      "4   Mass Customer                   N   \n",
      "\n",
      "                                         Unnamed: 10 Unnamed: 11 Unnamed: 12  \n",
      "0                                            default    owns_car      tenure  \n",
      "1                                                 \"'         Yes          11  \n",
      "2                       <script>alert('hi')</script>         Yes          16  \n",
      "3                                2018-02-01 00:00:00         Yes          15  \n",
      "4  () { _; } >_[$($())] { touch /tmp/blns.shellsh...          No           7  \n"
     ]
    }
   ],
   "source": [
    "# display data of sheet Customer Demographic\n",
    "print(CustomerDemographic.head())"
   ]
  },
  {
   "cell_type": "code",
   "execution_count": 16,
   "metadata": {
    "execution": {
     "iopub.execute_input": "2020-08-30T12:00:24.207003Z",
     "iopub.status.busy": "2020-08-30T12:00:24.206225Z",
     "iopub.status.idle": "2020-08-30T12:00:24.209838Z",
     "shell.execute_reply": "2020-08-30T12:00:24.209117Z"
    },
    "papermill": {
     "duration": 0.023937,
     "end_time": "2020-08-30T12:00:24.209968",
     "exception": false,
     "start_time": "2020-08-30T12:00:24.186031",
     "status": "completed"
    },
    "tags": []
   },
   "outputs": [
    {
     "name": "stdout",
     "output_type": "stream",
     "text": [
      "  Note: The data and information in this document is reflective of a hypothetical situation and client. This document is to be used for KPMG Virtual Internship purposes only.   \\\n",
      "0                                        customer_id                                                                                                                              \n",
      "1                                                  1                                                                                                                              \n",
      "2                                                  2                                                                                                                              \n",
      "3                                                  4                                                                                                                              \n",
      "4                                                  5                                                                                                                              \n",
      "\n",
      "            Unnamed: 1 Unnamed: 2       Unnamed: 3 Unnamed: 4  \\\n",
      "0              address   postcode            state    country   \n",
      "1   060 Morning Avenue       2016  New South Wales  Australia   \n",
      "2  6 Meadow Vale Court       2153  New South Wales  Australia   \n",
      "3   0 Holy Cross Court       4211              QLD  Australia   \n",
      "4  17979 Del Mar Point       2448  New South Wales  Australia   \n",
      "\n",
      "           Unnamed: 5  \n",
      "0  property_valuation  \n",
      "1                  10  \n",
      "2                  10  \n",
      "3                   9  \n",
      "4                   4  \n"
     ]
    }
   ],
   "source": [
    "# display data of sheet Customer Address\n",
    "print(CustomerAddress.head())"
   ]
  },
  {
   "cell_type": "markdown",
   "metadata": {
    "papermill": {
     "duration": 0.011162,
     "end_time": "2020-08-30T12:00:24.232880",
     "exception": false,
     "start_time": "2020-08-30T12:00:24.221718",
     "status": "completed"
    },
    "tags": []
   },
   "source": [
    "## Checking Consistency and Validity of Datasets"
   ]
  },
  {
   "cell_type": "code",
   "execution_count": 17,
   "metadata": {
    "execution": {
     "iopub.execute_input": "2020-08-30T12:00:24.265088Z",
     "iopub.status.busy": "2020-08-30T12:00:24.263970Z",
     "iopub.status.idle": "2020-08-30T12:00:24.276567Z",
     "shell.execute_reply": "2020-08-30T12:00:24.277167Z"
    },
    "papermill": {
     "duration": 0.032995,
     "end_time": "2020-08-30T12:00:24.277328",
     "exception": false,
     "start_time": "2020-08-30T12:00:24.244333",
     "status": "completed"
    },
    "scrolled": false,
    "tags": []
   },
   "outputs": [
    {
     "name": "stdout",
     "output_type": "stream",
     "text": [
      "<class 'pandas.core.frame.DataFrame'>\n",
      "RangeIndex: 1001 entries, 0 to 1000\n",
      "Data columns (total 23 columns):\n",
      " #   Column                                                                                                                                                                         Non-Null Count  Dtype  \n",
      "---  ------                                                                                                                                                                         --------------  -----  \n",
      " 0   Note: The data and information in this document is reflective of a hypothetical situation and client. This document is to be used for KPMG Virtual Internship purposes only.   1001 non-null   object \n",
      " 1   Unnamed: 1                                                                                                                                                                     972 non-null    object \n",
      " 2   Unnamed: 2                                                                                                                                                                     1001 non-null   object \n",
      " 3   Unnamed: 3                                                                                                                                                                     1001 non-null   object \n",
      " 4   Unnamed: 4                                                                                                                                                                     984 non-null    object \n",
      " 5   Unnamed: 5                                                                                                                                                                     895 non-null    object \n",
      " 6   Unnamed: 6                                                                                                                                                                     836 non-null    object \n",
      " 7   Unnamed: 7                                                                                                                                                                     1001 non-null   object \n",
      " 8   Unnamed: 8                                                                                                                                                                     1001 non-null   object \n",
      " 9   Unnamed: 9                                                                                                                                                                     1001 non-null   object \n",
      " 10  Unnamed: 10                                                                                                                                                                    1001 non-null   object \n",
      " 11  Unnamed: 11                                                                                                                                                                    1001 non-null   object \n",
      " 12  Unnamed: 12                                                                                                                                                                    1001 non-null   object \n",
      " 13  Unnamed: 13                                                                                                                                                                    1001 non-null   object \n",
      " 14  Unnamed: 14                                                                                                                                                                    1001 non-null   object \n",
      " 15  Unnamed: 15                                                                                                                                                                    1001 non-null   object \n",
      " 16  Unnamed: 16                                                                                                                                                                    1000 non-null   float64\n",
      " 17  Unnamed: 17                                                                                                                                                                    1000 non-null   float64\n",
      " 18  Unnamed: 18                                                                                                                                                                    1000 non-null   float64\n",
      " 19  Unnamed: 19                                                                                                                                                                    1000 non-null   float64\n",
      " 20  Unnamed: 20                                                                                                                                                                    1000 non-null   float64\n",
      " 21  Unnamed: 21                                                                                                                                                                    1001 non-null   object \n",
      " 22  Unnamed: 22                                                                                                                                                                    1001 non-null   object \n",
      "dtypes: float64(5), object(18)\n",
      "memory usage: 180.0+ KB\n",
      "None\n"
     ]
    }
   ],
   "source": [
    "# Display columns of dataset NewCustomerList\n",
    "print(NewCustomerList.info())"
   ]
  },
  {
   "cell_type": "code",
   "execution_count": 18,
   "metadata": {
    "execution": {
     "iopub.execute_input": "2020-08-30T12:00:24.306804Z",
     "iopub.status.busy": "2020-08-30T12:00:24.306036Z",
     "iopub.status.idle": "2020-08-30T12:00:24.308891Z",
     "shell.execute_reply": "2020-08-30T12:00:24.309472Z"
    },
    "papermill": {
     "duration": 0.020102,
     "end_time": "2020-08-30T12:00:24.309623",
     "exception": false,
     "start_time": "2020-08-30T12:00:24.289521",
     "status": "completed"
    },
    "tags": []
   },
   "outputs": [
    {
     "name": "stdout",
     "output_type": "stream",
     "text": [
      "(1001, 23)\n"
     ]
    }
   ],
   "source": [
    "# checking the shape of your data\n",
    "print(NewCustomerList.shape)"
   ]
  },
  {
   "cell_type": "code",
   "execution_count": 19,
   "metadata": {
    "execution": {
     "iopub.execute_input": "2020-08-30T12:00:24.350812Z",
     "iopub.status.busy": "2020-08-30T12:00:24.343699Z",
     "iopub.status.idle": "2020-08-30T12:00:24.354870Z",
     "shell.execute_reply": "2020-08-30T12:00:24.355436Z"
    },
    "papermill": {
     "duration": 0.034118,
     "end_time": "2020-08-30T12:00:24.355607",
     "exception": false,
     "start_time": "2020-08-30T12:00:24.321489",
     "status": "completed"
    },
    "tags": []
   },
   "outputs": [
    {
     "name": "stdout",
     "output_type": "stream",
     "text": [
      "<class 'pandas.core.frame.DataFrame'>\n",
      "RangeIndex: 4001 entries, 0 to 4000\n",
      "Data columns (total 13 columns):\n",
      " #   Column                                                                                                                                                                         Non-Null Count  Dtype \n",
      "---  ------                                                                                                                                                                         --------------  ----- \n",
      " 0   Note: The data and information in this document is reflective of a hypothetical situation and client. This document is to be used for KPMG Virtual Internship purposes only.   4001 non-null   object\n",
      " 1   Unnamed: 1                                                                                                                                                                     4001 non-null   object\n",
      " 2   Unnamed: 2                                                                                                                                                                     3876 non-null   object\n",
      " 3   Unnamed: 3                                                                                                                                                                     4001 non-null   object\n",
      " 4   Unnamed: 4                                                                                                                                                                     4001 non-null   object\n",
      " 5   Unnamed: 5                                                                                                                                                                     3914 non-null   object\n",
      " 6   Unnamed: 6                                                                                                                                                                     3495 non-null   object\n",
      " 7   Unnamed: 7                                                                                                                                                                     3345 non-null   object\n",
      " 8   Unnamed: 8                                                                                                                                                                     4001 non-null   object\n",
      " 9   Unnamed: 9                                                                                                                                                                     4001 non-null   object\n",
      " 10  Unnamed: 10                                                                                                                                                                    3699 non-null   object\n",
      " 11  Unnamed: 11                                                                                                                                                                    4001 non-null   object\n",
      " 12  Unnamed: 12                                                                                                                                                                    3914 non-null   object\n",
      "dtypes: object(13)\n",
      "memory usage: 406.5+ KB\n",
      "None\n"
     ]
    }
   ],
   "source": [
    "# Display columns of dataset CustomerDemographic\n",
    "print(CustomerDemographic.info())"
   ]
  },
  {
   "cell_type": "code",
   "execution_count": 20,
   "metadata": {
    "execution": {
     "iopub.execute_input": "2020-08-30T12:00:24.394171Z",
     "iopub.status.busy": "2020-08-30T12:00:24.393341Z",
     "iopub.status.idle": "2020-08-30T12:00:24.396351Z",
     "shell.execute_reply": "2020-08-30T12:00:24.396957Z"
    },
    "papermill": {
     "duration": 0.029322,
     "end_time": "2020-08-30T12:00:24.397110",
     "exception": false,
     "start_time": "2020-08-30T12:00:24.367788",
     "status": "completed"
    },
    "tags": []
   },
   "outputs": [
    {
     "name": "stdout",
     "output_type": "stream",
     "text": [
      "<class 'pandas.core.frame.DataFrame'>\n",
      "RangeIndex: 4000 entries, 0 to 3999\n",
      "Data columns (total 6 columns):\n",
      " #   Column                                                                                                                                                                         Non-Null Count  Dtype \n",
      "---  ------                                                                                                                                                                         --------------  ----- \n",
      " 0   Note: The data and information in this document is reflective of a hypothetical situation and client. This document is to be used for KPMG Virtual Internship purposes only.   4000 non-null   object\n",
      " 1   Unnamed: 1                                                                                                                                                                     4000 non-null   object\n",
      " 2   Unnamed: 2                                                                                                                                                                     4000 non-null   object\n",
      " 3   Unnamed: 3                                                                                                                                                                     4000 non-null   object\n",
      " 4   Unnamed: 4                                                                                                                                                                     4000 non-null   object\n",
      " 5   Unnamed: 5                                                                                                                                                                     4000 non-null   object\n",
      "dtypes: object(6)\n",
      "memory usage: 187.6+ KB\n",
      "None\n"
     ]
    }
   ],
   "source": [
    "# Display columns of dataset CustomerAddress\n",
    "print(CustomerAddress.info())"
   ]
  },
  {
   "cell_type": "code",
   "execution_count": 21,
   "metadata": {
    "execution": {
     "iopub.execute_input": "2020-08-30T12:00:24.427470Z",
     "iopub.status.busy": "2020-08-30T12:00:24.426527Z",
     "iopub.status.idle": "2020-08-30T12:00:24.430667Z",
     "shell.execute_reply": "2020-08-30T12:00:24.429959Z"
    },
    "papermill": {
     "duration": 0.021334,
     "end_time": "2020-08-30T12:00:24.430806",
     "exception": false,
     "start_time": "2020-08-30T12:00:24.409472",
     "status": "completed"
    },
    "tags": []
   },
   "outputs": [
    {
     "name": "stdout",
     "output_type": "stream",
     "text": [
      "(4001, 13)\n"
     ]
    }
   ],
   "source": [
    "# checking the shape of your data\n",
    "print(CustomerDemographic.shape)"
   ]
  },
  {
   "cell_type": "code",
   "execution_count": 22,
   "metadata": {
    "execution": {
     "iopub.execute_input": "2020-08-30T12:00:24.461194Z",
     "iopub.status.busy": "2020-08-30T12:00:24.460239Z",
     "iopub.status.idle": "2020-08-30T12:00:24.464053Z",
     "shell.execute_reply": "2020-08-30T12:00:24.463411Z"
    },
    "papermill": {
     "duration": 0.020999,
     "end_time": "2020-08-30T12:00:24.464176",
     "exception": false,
     "start_time": "2020-08-30T12:00:24.443177",
     "status": "completed"
    },
    "tags": []
   },
   "outputs": [
    {
     "name": "stdout",
     "output_type": "stream",
     "text": [
      "(4000, 6)\n"
     ]
    }
   ],
   "source": [
    "# checking the shape of your data\n",
    "print(CustomerAddress.shape)"
   ]
  },
  {
   "cell_type": "markdown",
   "metadata": {
    "papermill": {
     "duration": 0.012449,
     "end_time": "2020-08-30T12:00:24.489216",
     "exception": false,
     "start_time": "2020-08-30T12:00:24.476767",
     "status": "completed"
    },
    "tags": []
   },
   "source": [
    "## Highlights of Consistency and Validity in NewCustomerList, Customer Demographic and Customer Address\n",
    "NewCustomerList dataset has 1000 records with 23 columns, yet Customer Demographics have 4000 records with 13 columns and remaining in Customer Address with 6 columns using **customer_id** has key.\n",
    "- Structure format of NewCustomerList must be consistent with Customer Demographic and Customer Address.\n",
    "- There is no **customer_id** in NewCustomerList.\n",
    "- Number of columns are inconsistent because in NewCustomerList there are **4 columns which are Unnamed** and they contain some values as well, however are not labeled so cannot be identified.\n",
    "- There is one column in *NewCustomerList* which is **Value**, it is captured in a column of **float64** datatype but this was not captured before and is not present in *CustomerDemographic* or *CustomerAddress*.\n",
    "- There is one column named **default** in *CustomerDemographic*, it is captured in a column of **object** datatype, some values are observed to be date values but this was not captured after and is not present in *NewCustomerList*. \n",
    "- From remaining columns 5 columns are of datatype **int64** which are past_3_years_bike_related_purchases, tenure, postcode, property_valuation, and Rank.                                . \n",
    "- DOB is the date column **datetime64** in format **YYYY-MM-DD**. The date format used to capture transaction date in Transactions is **MM/DD/YYYY**. It would be better if it is kept consistent.\n",
    "- Rest of the columns are in **object** data type values but, deceased_indicator must have contain **boolean** like True and False.\n",
    "- Data Captured in Gender column in the dataset CustomerDemographic is not consistent. It should be \"Male\", \"Female\" and \"U\" as per the NewCustomerList."
   ]
  },
  {
   "cell_type": "markdown",
   "metadata": {
    "papermill": {
     "duration": 0.0124,
     "end_time": "2020-08-30T12:00:24.514676",
     "exception": false,
     "start_time": "2020-08-30T12:00:24.502276",
     "status": "completed"
    },
    "tags": []
   },
   "source": [
    "## Checking Completeness of Datasets"
   ]
  },
  {
   "cell_type": "code",
   "execution_count": 23,
   "metadata": {
    "execution": {
     "iopub.execute_input": "2020-08-30T12:00:24.553845Z",
     "iopub.status.busy": "2020-08-30T12:00:24.552622Z",
     "iopub.status.idle": "2020-08-30T12:00:24.565467Z",
     "shell.execute_reply": "2020-08-30T12:00:24.564668Z"
    },
    "papermill": {
     "duration": 0.03839,
     "end_time": "2020-08-30T12:00:24.565596",
     "exception": false,
     "start_time": "2020-08-30T12:00:24.527206",
     "status": "completed"
    },
    "tags": []
   },
   "outputs": [
    {
     "name": "stdout",
     "output_type": "stream",
     "text": [
      "                                                    Total Values  Null_values  \\\n",
      "Unnamed: 6                                                   836          165   \n",
      "Unnamed: 5                                                   895          106   \n",
      "Unnamed: 1                                                   972           29   \n",
      "Unnamed: 4                                                   984           17   \n",
      "Unnamed: 20                                                 1000            1   \n",
      "Unnamed: 19                                                 1000            1   \n",
      "Unnamed: 18                                                 1000            1   \n",
      "Unnamed: 17                                                 1000            1   \n",
      "Unnamed: 16                                                 1000            1   \n",
      "Note: The data and information in this document...          1001            0   \n",
      "Unnamed: 15                                                 1001            0   \n",
      "Unnamed: 14                                                 1001            0   \n",
      "Unnamed: 13                                                 1001            0   \n",
      "Unnamed: 11                                                 1001            0   \n",
      "Unnamed: 21                                                 1001            0   \n",
      "Unnamed: 10                                                 1001            0   \n",
      "Unnamed: 9                                                  1001            0   \n",
      "Unnamed: 8                                                  1001            0   \n",
      "Unnamed: 7                                                  1001            0   \n",
      "Unnamed: 3                                                  1001            0   \n",
      "Unnamed: 2                                                  1001            0   \n",
      "Unnamed: 12                                                 1001            0   \n",
      "Unnamed: 22                                                 1001            0   \n",
      "\n",
      "                                                    Percentage of Missing Values  \n",
      "Unnamed: 6                                                             19.736842  \n",
      "Unnamed: 5                                                             11.843575  \n",
      "Unnamed: 1                                                              2.983539  \n",
      "Unnamed: 4                                                              1.727642  \n",
      "Unnamed: 20                                                             0.100000  \n",
      "Unnamed: 19                                                             0.100000  \n",
      "Unnamed: 18                                                             0.100000  \n",
      "Unnamed: 17                                                             0.100000  \n",
      "Unnamed: 16                                                             0.100000  \n",
      "Note: The data and information in this document...                      0.000000  \n",
      "Unnamed: 15                                                             0.000000  \n",
      "Unnamed: 14                                                             0.000000  \n",
      "Unnamed: 13                                                             0.000000  \n",
      "Unnamed: 11                                                             0.000000  \n",
      "Unnamed: 21                                                             0.000000  \n",
      "Unnamed: 10                                                             0.000000  \n",
      "Unnamed: 9                                                              0.000000  \n",
      "Unnamed: 8                                                              0.000000  \n",
      "Unnamed: 7                                                              0.000000  \n",
      "Unnamed: 3                                                              0.000000  \n",
      "Unnamed: 2                                                              0.000000  \n",
      "Unnamed: 12                                                             0.000000  \n",
      "Unnamed: 22                                                             0.000000  \n"
     ]
    }
   ],
   "source": [
    "# looking for the null values\n",
    "total_null_values = NewCustomerList.isnull().sum()\n",
    "\n",
    "# calculating total values\n",
    "total_values = NewCustomerList.count().sort_values(ascending=True) \n",
    "\n",
    "# calculating the percentage of null values\n",
    "null_values_percentage = total_null_values/total_values *100\n",
    "\n",
    "# converting to dataframe of missing values\n",
    "missing_values_NewCustomerList = pd.concat({'Total Values' : total_values, 'Null_values': total_null_values, 'Percentage of Missing Values': null_values_percentage}, axis=1)\n",
    "\n",
    "# display missing values\n",
    "print(missing_values_NewCustomerList)"
   ]
  },
  {
   "cell_type": "code",
   "execution_count": 24,
   "metadata": {
    "execution": {
     "iopub.execute_input": "2020-08-30T12:00:24.605512Z",
     "iopub.status.busy": "2020-08-30T12:00:24.604707Z",
     "iopub.status.idle": "2020-08-30T12:00:24.621816Z",
     "shell.execute_reply": "2020-08-30T12:00:24.621169Z"
    },
    "papermill": {
     "duration": 0.043054,
     "end_time": "2020-08-30T12:00:24.621942",
     "exception": false,
     "start_time": "2020-08-30T12:00:24.578888",
     "status": "completed"
    },
    "tags": []
   },
   "outputs": [
    {
     "name": "stdout",
     "output_type": "stream",
     "text": [
      "                                                    Total Values  Null_values  \\\n",
      "Unnamed: 7                                                  3345          656   \n",
      "Unnamed: 6                                                  3495          506   \n",
      "Unnamed: 10                                                 3699          302   \n",
      "Unnamed: 2                                                  3876          125   \n",
      "Unnamed: 5                                                  3914           87   \n",
      "Unnamed: 12                                                 3914           87   \n",
      "Note: The data and information in this document...          4001            0   \n",
      "Unnamed: 1                                                  4001            0   \n",
      "Unnamed: 3                                                  4001            0   \n",
      "Unnamed: 4                                                  4001            0   \n",
      "Unnamed: 8                                                  4001            0   \n",
      "Unnamed: 9                                                  4001            0   \n",
      "Unnamed: 11                                                 4001            0   \n",
      "\n",
      "                                                    Percentage of Missing Values  \n",
      "Unnamed: 7                                                             19.611360  \n",
      "Unnamed: 6                                                             14.477825  \n",
      "Unnamed: 10                                                             8.164369  \n",
      "Unnamed: 2                                                              3.224974  \n",
      "Unnamed: 5                                                              2.222790  \n",
      "Unnamed: 12                                                             2.222790  \n",
      "Note: The data and information in this document...                      0.000000  \n",
      "Unnamed: 1                                                              0.000000  \n",
      "Unnamed: 3                                                              0.000000  \n",
      "Unnamed: 4                                                              0.000000  \n",
      "Unnamed: 8                                                              0.000000  \n",
      "Unnamed: 9                                                              0.000000  \n",
      "Unnamed: 11                                                             0.000000  \n"
     ]
    }
   ],
   "source": [
    "# looking for the null values\n",
    "total_null_values = CustomerDemographic.isnull().sum()\n",
    "\n",
    "# calculating total values\n",
    "total_values = CustomerDemographic.count().sort_values(ascending=True) \n",
    "\n",
    "# calculating the percentage of null values\n",
    "null_values_percentage = total_null_values/total_values *100\n",
    "\n",
    "# converting to dataframe of missing values\n",
    "missing_values_CustomerDemographic = pd.concat({'Total Values' : total_values, 'Null_values': total_null_values, 'Percentage of Missing Values': null_values_percentage}, axis=1)\n",
    "\n",
    "# display missing values\n",
    "print(missing_values_CustomerDemographic)"
   ]
  },
  {
   "cell_type": "markdown",
   "metadata": {
    "papermill": {
     "duration": 0.012458,
     "end_time": "2020-08-30T12:00:24.647434",
     "exception": false,
     "start_time": "2020-08-30T12:00:24.634976",
     "status": "completed"
    },
    "tags": []
   },
   "source": [
    "## Highlights of Completeness in NewCustomerList, Customer Demographic and Customer Address\n",
    "- In NewCustomerList 19.76% of job_industry_category values are missing almost similar to CustomerDemographic which is 19.61%.\n",
    "- 11.85% of job_title values are missing in NewCustomerList a little less as compared to CustomerDemographic that has 14.48% of missing values.\n",
    "- 3.22% of last_name values were missing in CustomerDemographic yet 2.98% of last_name values are missing in NewCustomerList.\n",
    "- CustomerDemographic has 2.22% of missing DOB values which is slighlty decreased to 1.72% NewCustomerList.\n",
    "- There is a 2.22% of missing tenure values in CustomerDemographic but there is no missing values of tenure in NewCustomerList.\n",
    "- There is 1 missing record of address of **customer_id = 3** in CustomerAddress, as per identified by the shape of the datasets.\n"
   ]
  },
  {
   "cell_type": "markdown",
   "metadata": {
    "papermill": {
     "duration": 0.012905,
     "end_time": "2020-08-30T12:00:24.673275",
     "exception": false,
     "start_time": "2020-08-30T12:00:24.660370",
     "status": "completed"
    },
    "tags": []
   },
   "source": [
    "## Checking Accuracy of Dataset"
   ]
  },
  {
   "cell_type": "code",
   "execution_count": 25,
   "metadata": {
    "execution": {
     "iopub.execute_input": "2020-08-30T12:00:24.708922Z",
     "iopub.status.busy": "2020-08-30T12:00:24.708083Z",
     "iopub.status.idle": "2020-08-30T12:00:24.711678Z",
     "shell.execute_reply": "2020-08-30T12:00:24.712344Z"
    },
    "papermill": {
     "duration": 0.026454,
     "end_time": "2020-08-30T12:00:24.712498",
     "exception": false,
     "start_time": "2020-08-30T12:00:24.686044",
     "status": "completed"
    },
    "scrolled": true,
    "tags": []
   },
   "outputs": [
    {
     "ename": "KeyError",
     "evalue": "'DOB'",
     "output_type": "error",
     "traceback": [
      "\u001b[0;31m---------------------------------------------------------------------------\u001b[0m",
      "\u001b[0;31mKeyError\u001b[0m                                  Traceback (most recent call last)",
      "File \u001b[0;32m~/Desktop/internship-speedrun/.internship/lib/python3.10/site-packages/pandas/core/indexes/base.py:3653\u001b[0m, in \u001b[0;36mIndex.get_loc\u001b[0;34m(self, key)\u001b[0m\n\u001b[1;32m   3652\u001b[0m \u001b[39mtry\u001b[39;00m:\n\u001b[0;32m-> 3653\u001b[0m     \u001b[39mreturn\u001b[39;00m \u001b[39mself\u001b[39;49m\u001b[39m.\u001b[39;49m_engine\u001b[39m.\u001b[39;49mget_loc(casted_key)\n\u001b[1;32m   3654\u001b[0m \u001b[39mexcept\u001b[39;00m \u001b[39mKeyError\u001b[39;00m \u001b[39mas\u001b[39;00m err:\n",
      "File \u001b[0;32m~/Desktop/internship-speedrun/.internship/lib/python3.10/site-packages/pandas/_libs/index.pyx:147\u001b[0m, in \u001b[0;36mpandas._libs.index.IndexEngine.get_loc\u001b[0;34m()\u001b[0m\n",
      "File \u001b[0;32m~/Desktop/internship-speedrun/.internship/lib/python3.10/site-packages/pandas/_libs/index.pyx:176\u001b[0m, in \u001b[0;36mpandas._libs.index.IndexEngine.get_loc\u001b[0;34m()\u001b[0m\n",
      "File \u001b[0;32mpandas/_libs/hashtable_class_helper.pxi:7080\u001b[0m, in \u001b[0;36mpandas._libs.hashtable.PyObjectHashTable.get_item\u001b[0;34m()\u001b[0m\n",
      "File \u001b[0;32mpandas/_libs/hashtable_class_helper.pxi:7088\u001b[0m, in \u001b[0;36mpandas._libs.hashtable.PyObjectHashTable.get_item\u001b[0;34m()\u001b[0m\n",
      "\u001b[0;31mKeyError\u001b[0m: 'DOB'",
      "\nThe above exception was the direct cause of the following exception:\n",
      "\u001b[0;31mKeyError\u001b[0m                                  Traceback (most recent call last)",
      "Cell \u001b[0;32mIn[25], line 1\u001b[0m\n\u001b[0;32m----> 1\u001b[0m CustomerDemographic[\u001b[39m'\u001b[39;49m\u001b[39mDOB\u001b[39;49m\u001b[39m'\u001b[39;49m]\n",
      "File \u001b[0;32m~/Desktop/internship-speedrun/.internship/lib/python3.10/site-packages/pandas/core/frame.py:3761\u001b[0m, in \u001b[0;36mDataFrame.__getitem__\u001b[0;34m(self, key)\u001b[0m\n\u001b[1;32m   3759\u001b[0m \u001b[39mif\u001b[39;00m \u001b[39mself\u001b[39m\u001b[39m.\u001b[39mcolumns\u001b[39m.\u001b[39mnlevels \u001b[39m>\u001b[39m \u001b[39m1\u001b[39m:\n\u001b[1;32m   3760\u001b[0m     \u001b[39mreturn\u001b[39;00m \u001b[39mself\u001b[39m\u001b[39m.\u001b[39m_getitem_multilevel(key)\n\u001b[0;32m-> 3761\u001b[0m indexer \u001b[39m=\u001b[39m \u001b[39mself\u001b[39;49m\u001b[39m.\u001b[39;49mcolumns\u001b[39m.\u001b[39;49mget_loc(key)\n\u001b[1;32m   3762\u001b[0m \u001b[39mif\u001b[39;00m is_integer(indexer):\n\u001b[1;32m   3763\u001b[0m     indexer \u001b[39m=\u001b[39m [indexer]\n",
      "File \u001b[0;32m~/Desktop/internship-speedrun/.internship/lib/python3.10/site-packages/pandas/core/indexes/base.py:3655\u001b[0m, in \u001b[0;36mIndex.get_loc\u001b[0;34m(self, key)\u001b[0m\n\u001b[1;32m   3653\u001b[0m     \u001b[39mreturn\u001b[39;00m \u001b[39mself\u001b[39m\u001b[39m.\u001b[39m_engine\u001b[39m.\u001b[39mget_loc(casted_key)\n\u001b[1;32m   3654\u001b[0m \u001b[39mexcept\u001b[39;00m \u001b[39mKeyError\u001b[39;00m \u001b[39mas\u001b[39;00m err:\n\u001b[0;32m-> 3655\u001b[0m     \u001b[39mraise\u001b[39;00m \u001b[39mKeyError\u001b[39;00m(key) \u001b[39mfrom\u001b[39;00m \u001b[39merr\u001b[39;00m\n\u001b[1;32m   3656\u001b[0m \u001b[39mexcept\u001b[39;00m \u001b[39mTypeError\u001b[39;00m:\n\u001b[1;32m   3657\u001b[0m     \u001b[39m# If we have a listlike key, _check_indexing_error will raise\u001b[39;00m\n\u001b[1;32m   3658\u001b[0m     \u001b[39m#  InvalidIndexError. Otherwise we fall through and re-raise\u001b[39;00m\n\u001b[1;32m   3659\u001b[0m     \u001b[39m#  the TypeError.\u001b[39;00m\n\u001b[1;32m   3660\u001b[0m     \u001b[39mself\u001b[39m\u001b[39m.\u001b[39m_check_indexing_error(key)\n",
      "\u001b[0;31mKeyError\u001b[0m: 'DOB'"
     ]
    }
   ],
   "source": [
    "CustomerDemographic['DOB']"
   ]
  },
  {
   "cell_type": "markdown",
   "metadata": {
    "papermill": {
     "duration": 0.012849,
     "end_time": "2020-08-30T12:00:24.738826",
     "exception": false,
     "start_time": "2020-08-30T12:00:24.725977",
     "status": "completed"
    },
    "tags": []
   },
   "source": [
    "## Highlights of Accuracy in NewCustomerList, Customer Demographic and Customer Address\n",
    "One date value is wrong. 1843 year is not possible."
   ]
  },
  {
   "cell_type": "markdown",
   "metadata": {
    "papermill": {
     "duration": 0.013094,
     "end_time": "2020-08-30T12:00:24.765295",
     "exception": false,
     "start_time": "2020-08-30T12:00:24.752201",
     "status": "completed"
    },
    "tags": []
   },
   "source": [
    "## Checking Uniqueness of Dataset"
   ]
  },
  {
   "cell_type": "code",
   "execution_count": null,
   "metadata": {
    "execution": {
     "iopub.execute_input": "2020-08-30T12:00:24.799222Z",
     "iopub.status.busy": "2020-08-30T12:00:24.798387Z",
     "iopub.status.idle": "2020-08-30T12:00:24.808929Z",
     "shell.execute_reply": "2020-08-30T12:00:24.809507Z"
    },
    "papermill": {
     "duration": 0.031215,
     "end_time": "2020-08-30T12:00:24.809679",
     "exception": false,
     "start_time": "2020-08-30T12:00:24.778464",
     "status": "completed"
    },
    "tags": []
   },
   "outputs": [
    {
     "name": "stdout",
     "output_type": "stream",
     "text": [
      "The number of duplicated records in NewCustomerList dataset is 0\n"
     ]
    }
   ],
   "source": [
    "# looking for duplicated values\n",
    "duplicated_values = NewCustomerList.duplicated()\n",
    "\n",
    "# number of duplicated values in dataset\n",
    "print(\"The number of duplicated records in NewCustomerList dataset is {}\".format(duplicated_values.sum()))"
   ]
  },
  {
   "cell_type": "code",
   "execution_count": null,
   "metadata": {
    "execution": {
     "iopub.execute_input": "2020-08-30T12:00:24.843230Z",
     "iopub.status.busy": "2020-08-30T12:00:24.842426Z",
     "iopub.status.idle": "2020-08-30T12:00:24.857068Z",
     "shell.execute_reply": "2020-08-30T12:00:24.856408Z"
    },
    "papermill": {
     "duration": 0.033731,
     "end_time": "2020-08-30T12:00:24.857193",
     "exception": false,
     "start_time": "2020-08-30T12:00:24.823462",
     "status": "completed"
    },
    "tags": []
   },
   "outputs": [
    {
     "name": "stdout",
     "output_type": "stream",
     "text": [
      "The number of duplicated records in CustomerDemographic dataset is 0\n"
     ]
    }
   ],
   "source": [
    "# looking for duplicated values\n",
    "duplicated_values = CustomerDemographic.duplicated()\n",
    "\n",
    "# number of duplicated values in dataset\n",
    "print(\"The number of duplicated records in CustomerDemographic dataset is {}\".format(duplicated_values.sum()))"
   ]
  },
  {
   "cell_type": "code",
   "execution_count": null,
   "metadata": {
    "execution": {
     "iopub.execute_input": "2020-08-30T12:00:24.890942Z",
     "iopub.status.busy": "2020-08-30T12:00:24.890155Z",
     "iopub.status.idle": "2020-08-30T12:00:24.898411Z",
     "shell.execute_reply": "2020-08-30T12:00:24.897644Z"
    },
    "papermill": {
     "duration": 0.027759,
     "end_time": "2020-08-30T12:00:24.898543",
     "exception": false,
     "start_time": "2020-08-30T12:00:24.870784",
     "status": "completed"
    },
    "tags": []
   },
   "outputs": [
    {
     "name": "stdout",
     "output_type": "stream",
     "text": [
      "The number of duplicated records in CustomerAddress dataset is 0\n"
     ]
    }
   ],
   "source": [
    "# looking for duplicated values\n",
    "duplicated_values = CustomerAddress.duplicated()\n",
    "\n",
    "# number of duplicated values in dataset\n",
    "print(\"The number of duplicated records in CustomerAddress dataset is {}\".format(duplicated_values.sum()))"
   ]
  },
  {
   "cell_type": "markdown",
   "metadata": {
    "papermill": {
     "duration": 0.013209,
     "end_time": "2020-08-30T12:00:24.925448",
     "exception": false,
     "start_time": "2020-08-30T12:00:24.912239",
     "status": "completed"
    },
    "tags": []
   },
   "source": [
    "## Highlights of Uniqueness\n",
    "All records are unique."
   ]
  }
 ],
 "metadata": {
  "kernelspec": {
   "display_name": "Python 3",
   "language": "python",
   "name": "python3"
  },
  "language_info": {
   "codemirror_mode": {
    "name": "ipython",
    "version": 3
   },
   "file_extension": ".py",
   "mimetype": "text/x-python",
   "name": "python",
   "nbconvert_exporter": "python",
   "pygments_lexer": "ipython3",
   "version": "3.10.6"
  },
  "papermill": {
   "duration": 15.779497,
   "end_time": "2020-08-30T12:00:25.047482",
   "environment_variables": {},
   "exception": null,
   "input_path": "__notebook__.ipynb",
   "output_path": "__notebook__.ipynb",
   "parameters": {},
   "start_time": "2020-08-30T12:00:09.267985",
   "version": "2.1.0"
  }
 },
 "nbformat": 4,
 "nbformat_minor": 4
}
